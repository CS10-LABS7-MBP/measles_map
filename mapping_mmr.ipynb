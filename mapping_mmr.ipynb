{
 "cells": [
  {
   "cell_type": "markdown",
   "metadata": {},
   "source": [
    "<h1>Exploring infections through data: Mapping Measles, Mumps, and Rubella in the USA</h1>\n",
    "\n",
    "In this notebook I'm going to explore creating an interactive map of the historical incidence rates (per 100,000 people) of measles, mumps, and rubella in the USA. The data comes from Project Tycho, a colleciton of National Notifiable Disease Surveillance System reports, and is available for free from <a href=\"https://www.kaggle.com/pitt/contagious-diseases/home\">Kaggle</a>. There are multiple libraries in Python that can be used to create interactive visualisations of data, but in this notebook I will focus on the Bokeh JS API."
   ]
  },
  {
   "cell_type": "code",
   "execution_count": 1,
   "metadata": {},
   "outputs": [],
   "source": [
    "#Dependencies\n",
    "import pandas as pd\n",
    "import numpy as np"
   ]
  },
  {
   "cell_type": "code",
   "execution_count": 2,
   "metadata": {
    "collapsed": true
   },
   "outputs": [],
   "source": [
    "#Import Bokeh\n",
    "from bokeh.io import output_notebook, show\n",
    "from bokeh.plotting import figure\n",
    "from bokeh.io import show\n",
    "from bokeh.models import LogColorMapper, ColumnDataSource, HoverTool, LinearColorMapper, ColorBar\n",
    "from bokeh.palettes import Viridis6 as palette\n",
    "from bokeh.plotting import figure\n",
    "from bokeh.models.widgets import Select, Slider\n",
    "from bokeh.layouts import column, row, WidgetBox\n",
    "from bokeh.palettes import Oranges\n",
    "from bokeh.application.handlers import FunctionHandler\n",
    "from bokeh.application import Application"
   ]
  },
  {
   "cell_type": "code",
   "execution_count": 3,
   "metadata": {},
   "outputs": [
    {
     "data": {
      "text/html": [
       "\n",
       "    <div class=\"bk-root\">\n",
       "        <a href=\"https://bokeh.pydata.org\" target=\"_blank\" class=\"bk-logo bk-logo-small bk-logo-notebook\"></a>\n",
       "        <span id=\"264d5e59-b280-492b-b272-3b074314160f\">Loading BokehJS ...</span>\n",
       "    </div>"
      ]
     },
     "metadata": {},
     "output_type": "display_data"
    },
    {
     "data": {
      "application/javascript": [
       "\n",
       "(function(root) {\n",
       "  function now() {\n",
       "    return new Date();\n",
       "  }\n",
       "\n",
       "  var force = true;\n",
       "\n",
       "  if (typeof (root._bokeh_onload_callbacks) === \"undefined\" || force === true) {\n",
       "    root._bokeh_onload_callbacks = [];\n",
       "    root._bokeh_is_loading = undefined;\n",
       "  }\n",
       "\n",
       "  var JS_MIME_TYPE = 'application/javascript';\n",
       "  var HTML_MIME_TYPE = 'text/html';\n",
       "  var EXEC_MIME_TYPE = 'application/vnd.bokehjs_exec.v0+json';\n",
       "  var CLASS_NAME = 'output_bokeh rendered_html';\n",
       "\n",
       "  /**\n",
       "   * Render data to the DOM node\n",
       "   */\n",
       "  function render(props, node) {\n",
       "    var script = document.createElement(\"script\");\n",
       "    node.appendChild(script);\n",
       "  }\n",
       "\n",
       "  /**\n",
       "   * Handle when an output is cleared or removed\n",
       "   */\n",
       "  function handleClearOutput(event, handle) {\n",
       "    var cell = handle.cell;\n",
       "\n",
       "    var id = cell.output_area._bokeh_element_id;\n",
       "    var server_id = cell.output_area._bokeh_server_id;\n",
       "    // Clean up Bokeh references\n",
       "    if (id != null && id in Bokeh.index) {\n",
       "      Bokeh.index[id].model.document.clear();\n",
       "      delete Bokeh.index[id];\n",
       "    }\n",
       "\n",
       "    if (server_id !== undefined) {\n",
       "      // Clean up Bokeh references\n",
       "      var cmd = \"from bokeh.io.state import curstate; print(curstate().uuid_to_server['\" + server_id + \"'].get_sessions()[0].document.roots[0]._id)\";\n",
       "      cell.notebook.kernel.execute(cmd, {\n",
       "        iopub: {\n",
       "          output: function(msg) {\n",
       "            var id = msg.content.text.trim();\n",
       "            if (id in Bokeh.index) {\n",
       "              Bokeh.index[id].model.document.clear();\n",
       "              delete Bokeh.index[id];\n",
       "            }\n",
       "          }\n",
       "        }\n",
       "      });\n",
       "      // Destroy server and session\n",
       "      var cmd = \"import bokeh.io.notebook as ion; ion.destroy_server('\" + server_id + \"')\";\n",
       "      cell.notebook.kernel.execute(cmd);\n",
       "    }\n",
       "  }\n",
       "\n",
       "  /**\n",
       "   * Handle when a new output is added\n",
       "   */\n",
       "  function handleAddOutput(event, handle) {\n",
       "    var output_area = handle.output_area;\n",
       "    var output = handle.output;\n",
       "\n",
       "    // limit handleAddOutput to display_data with EXEC_MIME_TYPE content only\n",
       "    if ((output.output_type != \"display_data\") || (!output.data.hasOwnProperty(EXEC_MIME_TYPE))) {\n",
       "      return\n",
       "    }\n",
       "\n",
       "    var toinsert = output_area.element.find(\".\" + CLASS_NAME.split(' ')[0]);\n",
       "\n",
       "    if (output.metadata[EXEC_MIME_TYPE][\"id\"] !== undefined) {\n",
       "      toinsert[toinsert.length - 1].firstChild.textContent = output.data[JS_MIME_TYPE];\n",
       "      // store reference to embed id on output_area\n",
       "      output_area._bokeh_element_id = output.metadata[EXEC_MIME_TYPE][\"id\"];\n",
       "    }\n",
       "    if (output.metadata[EXEC_MIME_TYPE][\"server_id\"] !== undefined) {\n",
       "      var bk_div = document.createElement(\"div\");\n",
       "      bk_div.innerHTML = output.data[HTML_MIME_TYPE];\n",
       "      var script_attrs = bk_div.children[0].attributes;\n",
       "      for (var i = 0; i < script_attrs.length; i++) {\n",
       "        toinsert[toinsert.length - 1].firstChild.setAttribute(script_attrs[i].name, script_attrs[i].value);\n",
       "      }\n",
       "      // store reference to server id on output_area\n",
       "      output_area._bokeh_server_id = output.metadata[EXEC_MIME_TYPE][\"server_id\"];\n",
       "    }\n",
       "  }\n",
       "\n",
       "  function register_renderer(events, OutputArea) {\n",
       "\n",
       "    function append_mime(data, metadata, element) {\n",
       "      // create a DOM node to render to\n",
       "      var toinsert = this.create_output_subarea(\n",
       "        metadata,\n",
       "        CLASS_NAME,\n",
       "        EXEC_MIME_TYPE\n",
       "      );\n",
       "      this.keyboard_manager.register_events(toinsert);\n",
       "      // Render to node\n",
       "      var props = {data: data, metadata: metadata[EXEC_MIME_TYPE]};\n",
       "      render(props, toinsert[toinsert.length - 1]);\n",
       "      element.append(toinsert);\n",
       "      return toinsert\n",
       "    }\n",
       "\n",
       "    /* Handle when an output is cleared or removed */\n",
       "    events.on('clear_output.CodeCell', handleClearOutput);\n",
       "    events.on('delete.Cell', handleClearOutput);\n",
       "\n",
       "    /* Handle when a new output is added */\n",
       "    events.on('output_added.OutputArea', handleAddOutput);\n",
       "\n",
       "    /**\n",
       "     * Register the mime type and append_mime function with output_area\n",
       "     */\n",
       "    OutputArea.prototype.register_mime_type(EXEC_MIME_TYPE, append_mime, {\n",
       "      /* Is output safe? */\n",
       "      safe: true,\n",
       "      /* Index of renderer in `output_area.display_order` */\n",
       "      index: 0\n",
       "    });\n",
       "  }\n",
       "\n",
       "  // register the mime type if in Jupyter Notebook environment and previously unregistered\n",
       "  if (root.Jupyter !== undefined) {\n",
       "    var events = require('base/js/events');\n",
       "    var OutputArea = require('notebook/js/outputarea').OutputArea;\n",
       "\n",
       "    if (OutputArea.prototype.mime_types().indexOf(EXEC_MIME_TYPE) == -1) {\n",
       "      register_renderer(events, OutputArea);\n",
       "    }\n",
       "  }\n",
       "\n",
       "  \n",
       "  if (typeof (root._bokeh_timeout) === \"undefined\" || force === true) {\n",
       "    root._bokeh_timeout = Date.now() + 5000;\n",
       "    root._bokeh_failed_load = false;\n",
       "  }\n",
       "\n",
       "  var NB_LOAD_WARNING = {'data': {'text/html':\n",
       "     \"<div style='background-color: #fdd'>\\n\"+\n",
       "     \"<p>\\n\"+\n",
       "     \"BokehJS does not appear to have successfully loaded. If loading BokehJS from CDN, this \\n\"+\n",
       "     \"may be due to a slow or bad network connection. Possible fixes:\\n\"+\n",
       "     \"</p>\\n\"+\n",
       "     \"<ul>\\n\"+\n",
       "     \"<li>re-rerun `output_notebook()` to attempt to load from CDN again, or</li>\\n\"+\n",
       "     \"<li>use INLINE resources instead, as so:</li>\\n\"+\n",
       "     \"</ul>\\n\"+\n",
       "     \"<code>\\n\"+\n",
       "     \"from bokeh.resources import INLINE\\n\"+\n",
       "     \"output_notebook(resources=INLINE)\\n\"+\n",
       "     \"</code>\\n\"+\n",
       "     \"</div>\"}};\n",
       "\n",
       "  function display_loaded() {\n",
       "    var el = document.getElementById(\"264d5e59-b280-492b-b272-3b074314160f\");\n",
       "    if (el != null) {\n",
       "      el.textContent = \"BokehJS is loading...\";\n",
       "    }\n",
       "    if (root.Bokeh !== undefined) {\n",
       "      if (el != null) {\n",
       "        el.textContent = \"BokehJS \" + root.Bokeh.version + \" successfully loaded.\";\n",
       "      }\n",
       "    } else if (Date.now() < root._bokeh_timeout) {\n",
       "      setTimeout(display_loaded, 100)\n",
       "    }\n",
       "  }\n",
       "\n",
       "\n",
       "  function run_callbacks() {\n",
       "    try {\n",
       "      root._bokeh_onload_callbacks.forEach(function(callback) { callback() });\n",
       "    }\n",
       "    finally {\n",
       "      delete root._bokeh_onload_callbacks\n",
       "    }\n",
       "    console.info(\"Bokeh: all callbacks have finished\");\n",
       "  }\n",
       "\n",
       "  function load_libs(js_urls, callback) {\n",
       "    root._bokeh_onload_callbacks.push(callback);\n",
       "    if (root._bokeh_is_loading > 0) {\n",
       "      console.log(\"Bokeh: BokehJS is being loaded, scheduling callback at\", now());\n",
       "      return null;\n",
       "    }\n",
       "    if (js_urls == null || js_urls.length === 0) {\n",
       "      run_callbacks();\n",
       "      return null;\n",
       "    }\n",
       "    console.log(\"Bokeh: BokehJS not loaded, scheduling load and callback at\", now());\n",
       "    root._bokeh_is_loading = js_urls.length;\n",
       "    for (var i = 0; i < js_urls.length; i++) {\n",
       "      var url = js_urls[i];\n",
       "      var s = document.createElement('script');\n",
       "      s.src = url;\n",
       "      s.async = false;\n",
       "      s.onreadystatechange = s.onload = function() {\n",
       "        root._bokeh_is_loading--;\n",
       "        if (root._bokeh_is_loading === 0) {\n",
       "          console.log(\"Bokeh: all BokehJS libraries loaded\");\n",
       "          run_callbacks()\n",
       "        }\n",
       "      };\n",
       "      s.onerror = function() {\n",
       "        console.warn(\"failed to load library \" + url);\n",
       "      };\n",
       "      console.log(\"Bokeh: injecting script tag for BokehJS library: \", url);\n",
       "      document.getElementsByTagName(\"head\")[0].appendChild(s);\n",
       "    }\n",
       "  };var element = document.getElementById(\"264d5e59-b280-492b-b272-3b074314160f\");\n",
       "  if (element == null) {\n",
       "    console.log(\"Bokeh: ERROR: autoload.js configured with elementid '264d5e59-b280-492b-b272-3b074314160f' but no matching script tag was found. \")\n",
       "    return false;\n",
       "  }\n",
       "\n",
       "  var js_urls = [\"https://cdn.pydata.org/bokeh/release/bokeh-0.13.0.min.js\", \"https://cdn.pydata.org/bokeh/release/bokeh-widgets-0.13.0.min.js\", \"https://cdn.pydata.org/bokeh/release/bokeh-tables-0.13.0.min.js\", \"https://cdn.pydata.org/bokeh/release/bokeh-gl-0.13.0.min.js\"];\n",
       "\n",
       "  var inline_js = [\n",
       "    function(Bokeh) {\n",
       "      Bokeh.set_log_level(\"info\");\n",
       "    },\n",
       "    \n",
       "    function(Bokeh) {\n",
       "      \n",
       "    },\n",
       "    function(Bokeh) {\n",
       "      console.log(\"Bokeh: injecting CSS: https://cdn.pydata.org/bokeh/release/bokeh-0.13.0.min.css\");\n",
       "      Bokeh.embed.inject_css(\"https://cdn.pydata.org/bokeh/release/bokeh-0.13.0.min.css\");\n",
       "      console.log(\"Bokeh: injecting CSS: https://cdn.pydata.org/bokeh/release/bokeh-widgets-0.13.0.min.css\");\n",
       "      Bokeh.embed.inject_css(\"https://cdn.pydata.org/bokeh/release/bokeh-widgets-0.13.0.min.css\");\n",
       "      console.log(\"Bokeh: injecting CSS: https://cdn.pydata.org/bokeh/release/bokeh-tables-0.13.0.min.css\");\n",
       "      Bokeh.embed.inject_css(\"https://cdn.pydata.org/bokeh/release/bokeh-tables-0.13.0.min.css\");\n",
       "    }\n",
       "  ];\n",
       "\n",
       "  function run_inline_js() {\n",
       "    \n",
       "    if ((root.Bokeh !== undefined) || (force === true)) {\n",
       "      for (var i = 0; i < inline_js.length; i++) {\n",
       "        inline_js[i].call(root, root.Bokeh);\n",
       "      }if (force === true) {\n",
       "        display_loaded();\n",
       "      }} else if (Date.now() < root._bokeh_timeout) {\n",
       "      setTimeout(run_inline_js, 100);\n",
       "    } else if (!root._bokeh_failed_load) {\n",
       "      console.log(\"Bokeh: BokehJS failed to load within specified timeout.\");\n",
       "      root._bokeh_failed_load = true;\n",
       "    } else if (force !== true) {\n",
       "      var cell = $(document.getElementById(\"264d5e59-b280-492b-b272-3b074314160f\")).parents('.cell').data().cell;\n",
       "      cell.output_area.append_execute_result(NB_LOAD_WARNING)\n",
       "    }\n",
       "\n",
       "  }\n",
       "\n",
       "  if (root._bokeh_is_loading === 0) {\n",
       "    console.log(\"Bokeh: BokehJS loaded, going straight to plotting\");\n",
       "    run_inline_js();\n",
       "  } else {\n",
       "    load_libs(js_urls, function() {\n",
       "      console.log(\"Bokeh: BokehJS plotting callback run at\", now());\n",
       "      run_inline_js();\n",
       "    });\n",
       "  }\n",
       "}(window));"
      ],
      "application/vnd.bokehjs_load.v0+json": "\n(function(root) {\n  function now() {\n    return new Date();\n  }\n\n  var force = true;\n\n  if (typeof (root._bokeh_onload_callbacks) === \"undefined\" || force === true) {\n    root._bokeh_onload_callbacks = [];\n    root._bokeh_is_loading = undefined;\n  }\n\n  \n\n  \n  if (typeof (root._bokeh_timeout) === \"undefined\" || force === true) {\n    root._bokeh_timeout = Date.now() + 5000;\n    root._bokeh_failed_load = false;\n  }\n\n  var NB_LOAD_WARNING = {'data': {'text/html':\n     \"<div style='background-color: #fdd'>\\n\"+\n     \"<p>\\n\"+\n     \"BokehJS does not appear to have successfully loaded. If loading BokehJS from CDN, this \\n\"+\n     \"may be due to a slow or bad network connection. Possible fixes:\\n\"+\n     \"</p>\\n\"+\n     \"<ul>\\n\"+\n     \"<li>re-rerun `output_notebook()` to attempt to load from CDN again, or</li>\\n\"+\n     \"<li>use INLINE resources instead, as so:</li>\\n\"+\n     \"</ul>\\n\"+\n     \"<code>\\n\"+\n     \"from bokeh.resources import INLINE\\n\"+\n     \"output_notebook(resources=INLINE)\\n\"+\n     \"</code>\\n\"+\n     \"</div>\"}};\n\n  function display_loaded() {\n    var el = document.getElementById(\"264d5e59-b280-492b-b272-3b074314160f\");\n    if (el != null) {\n      el.textContent = \"BokehJS is loading...\";\n    }\n    if (root.Bokeh !== undefined) {\n      if (el != null) {\n        el.textContent = \"BokehJS \" + root.Bokeh.version + \" successfully loaded.\";\n      }\n    } else if (Date.now() < root._bokeh_timeout) {\n      setTimeout(display_loaded, 100)\n    }\n  }\n\n\n  function run_callbacks() {\n    try {\n      root._bokeh_onload_callbacks.forEach(function(callback) { callback() });\n    }\n    finally {\n      delete root._bokeh_onload_callbacks\n    }\n    console.info(\"Bokeh: all callbacks have finished\");\n  }\n\n  function load_libs(js_urls, callback) {\n    root._bokeh_onload_callbacks.push(callback);\n    if (root._bokeh_is_loading > 0) {\n      console.log(\"Bokeh: BokehJS is being loaded, scheduling callback at\", now());\n      return null;\n    }\n    if (js_urls == null || js_urls.length === 0) {\n      run_callbacks();\n      return null;\n    }\n    console.log(\"Bokeh: BokehJS not loaded, scheduling load and callback at\", now());\n    root._bokeh_is_loading = js_urls.length;\n    for (var i = 0; i < js_urls.length; i++) {\n      var url = js_urls[i];\n      var s = document.createElement('script');\n      s.src = url;\n      s.async = false;\n      s.onreadystatechange = s.onload = function() {\n        root._bokeh_is_loading--;\n        if (root._bokeh_is_loading === 0) {\n          console.log(\"Bokeh: all BokehJS libraries loaded\");\n          run_callbacks()\n        }\n      };\n      s.onerror = function() {\n        console.warn(\"failed to load library \" + url);\n      };\n      console.log(\"Bokeh: injecting script tag for BokehJS library: \", url);\n      document.getElementsByTagName(\"head\")[0].appendChild(s);\n    }\n  };var element = document.getElementById(\"264d5e59-b280-492b-b272-3b074314160f\");\n  if (element == null) {\n    console.log(\"Bokeh: ERROR: autoload.js configured with elementid '264d5e59-b280-492b-b272-3b074314160f' but no matching script tag was found. \")\n    return false;\n  }\n\n  var js_urls = [\"https://cdn.pydata.org/bokeh/release/bokeh-0.13.0.min.js\", \"https://cdn.pydata.org/bokeh/release/bokeh-widgets-0.13.0.min.js\", \"https://cdn.pydata.org/bokeh/release/bokeh-tables-0.13.0.min.js\", \"https://cdn.pydata.org/bokeh/release/bokeh-gl-0.13.0.min.js\"];\n\n  var inline_js = [\n    function(Bokeh) {\n      Bokeh.set_log_level(\"info\");\n    },\n    \n    function(Bokeh) {\n      \n    },\n    function(Bokeh) {\n      console.log(\"Bokeh: injecting CSS: https://cdn.pydata.org/bokeh/release/bokeh-0.13.0.min.css\");\n      Bokeh.embed.inject_css(\"https://cdn.pydata.org/bokeh/release/bokeh-0.13.0.min.css\");\n      console.log(\"Bokeh: injecting CSS: https://cdn.pydata.org/bokeh/release/bokeh-widgets-0.13.0.min.css\");\n      Bokeh.embed.inject_css(\"https://cdn.pydata.org/bokeh/release/bokeh-widgets-0.13.0.min.css\");\n      console.log(\"Bokeh: injecting CSS: https://cdn.pydata.org/bokeh/release/bokeh-tables-0.13.0.min.css\");\n      Bokeh.embed.inject_css(\"https://cdn.pydata.org/bokeh/release/bokeh-tables-0.13.0.min.css\");\n    }\n  ];\n\n  function run_inline_js() {\n    \n    if ((root.Bokeh !== undefined) || (force === true)) {\n      for (var i = 0; i < inline_js.length; i++) {\n        inline_js[i].call(root, root.Bokeh);\n      }if (force === true) {\n        display_loaded();\n      }} else if (Date.now() < root._bokeh_timeout) {\n      setTimeout(run_inline_js, 100);\n    } else if (!root._bokeh_failed_load) {\n      console.log(\"Bokeh: BokehJS failed to load within specified timeout.\");\n      root._bokeh_failed_load = true;\n    } else if (force !== true) {\n      var cell = $(document.getElementById(\"264d5e59-b280-492b-b272-3b074314160f\")).parents('.cell').data().cell;\n      cell.output_area.append_execute_result(NB_LOAD_WARNING)\n    }\n\n  }\n\n  if (root._bokeh_is_loading === 0) {\n    console.log(\"Bokeh: BokehJS loaded, going straight to plotting\");\n    run_inline_js();\n  } else {\n    load_libs(js_urls, function() {\n      console.log(\"Bokeh: BokehJS plotting callback run at\", now());\n      run_inline_js();\n    });\n  }\n}(window));"
     },
     "metadata": {},
     "output_type": "display_data"
    }
   ],
   "source": [
    "output_notebook()"
   ]
  },
  {
   "cell_type": "code",
   "execution_count": 4,
   "metadata": {
    "collapsed": true
   },
   "outputs": [],
   "source": [
    "#Import US state data from Bokeh sample data\n",
    "from bokeh.sampledata.us_states import data as States"
   ]
  },
  {
   "cell_type": "code",
   "execution_count": 5,
   "metadata": {
    "collapsed": true
   },
   "outputs": [],
   "source": [
    "#Import MMR data\n",
    "measles = pd.read_csv(\"measles.csv\")\n",
    "mumps = pd.read_csv(\"mumps.csv\")\n",
    "rubella = pd.read_csv(\"rubella.csv\")"
   ]
  },
  {
   "cell_type": "code",
   "execution_count": 6,
   "metadata": {},
   "outputs": [
    {
     "data": {
      "text/html": [
       "<div>\n",
       "<style>\n",
       "    .dataframe thead tr:only-child th {\n",
       "        text-align: right;\n",
       "    }\n",
       "\n",
       "    .dataframe thead th {\n",
       "        text-align: left;\n",
       "    }\n",
       "\n",
       "    .dataframe tbody tr th {\n",
       "        vertical-align: top;\n",
       "    }\n",
       "</style>\n",
       "<table border=\"1\" class=\"dataframe\">\n",
       "  <thead>\n",
       "    <tr style=\"text-align: right;\">\n",
       "      <th></th>\n",
       "      <th>week</th>\n",
       "      <th>state</th>\n",
       "      <th>state_name</th>\n",
       "      <th>disease</th>\n",
       "      <th>cases</th>\n",
       "      <th>incidence_per_capita</th>\n",
       "    </tr>\n",
       "  </thead>\n",
       "  <tbody>\n",
       "    <tr>\n",
       "      <th>0</th>\n",
       "      <td>192801</td>\n",
       "      <td>AL</td>\n",
       "      <td>ALABAMA</td>\n",
       "      <td>MEASLES</td>\n",
       "      <td>97</td>\n",
       "      <td>3.67</td>\n",
       "    </tr>\n",
       "    <tr>\n",
       "      <th>1</th>\n",
       "      <td>192801</td>\n",
       "      <td>AR</td>\n",
       "      <td>ARKANSAS</td>\n",
       "      <td>MEASLES</td>\n",
       "      <td>76</td>\n",
       "      <td>4.11</td>\n",
       "    </tr>\n",
       "    <tr>\n",
       "      <th>2</th>\n",
       "      <td>192801</td>\n",
       "      <td>AZ</td>\n",
       "      <td>ARIZONA</td>\n",
       "      <td>MEASLES</td>\n",
       "      <td>8</td>\n",
       "      <td>1.90</td>\n",
       "    </tr>\n",
       "    <tr>\n",
       "      <th>3</th>\n",
       "      <td>192801</td>\n",
       "      <td>CA</td>\n",
       "      <td>CALIFORNIA</td>\n",
       "      <td>MEASLES</td>\n",
       "      <td>74</td>\n",
       "      <td>1.38</td>\n",
       "    </tr>\n",
       "    <tr>\n",
       "      <th>4</th>\n",
       "      <td>192801</td>\n",
       "      <td>CO</td>\n",
       "      <td>COLORADO</td>\n",
       "      <td>MEASLES</td>\n",
       "      <td>85</td>\n",
       "      <td>8.38</td>\n",
       "    </tr>\n",
       "  </tbody>\n",
       "</table>\n",
       "</div>"
      ],
      "text/plain": [
       "     week state  state_name  disease  cases  incidence_per_capita\n",
       "0  192801    AL     ALABAMA  MEASLES     97                  3.67\n",
       "1  192801    AR    ARKANSAS  MEASLES     76                  4.11\n",
       "2  192801    AZ     ARIZONA  MEASLES      8                  1.90\n",
       "3  192801    CA  CALIFORNIA  MEASLES     74                  1.38\n",
       "4  192801    CO    COLORADO  MEASLES     85                  8.38"
      ]
     },
     "execution_count": 6,
     "metadata": {},
     "output_type": "execute_result"
    }
   ],
   "source": [
    "measles.head()"
   ]
  },
  {
   "cell_type": "code",
   "execution_count": 7,
   "metadata": {},
   "outputs": [
    {
     "data": {
      "text/html": [
       "<div>\n",
       "<style>\n",
       "    .dataframe thead tr:only-child th {\n",
       "        text-align: right;\n",
       "    }\n",
       "\n",
       "    .dataframe thead th {\n",
       "        text-align: left;\n",
       "    }\n",
       "\n",
       "    .dataframe tbody tr th {\n",
       "        vertical-align: top;\n",
       "    }\n",
       "</style>\n",
       "<table border=\"1\" class=\"dataframe\">\n",
       "  <thead>\n",
       "    <tr style=\"text-align: right;\">\n",
       "      <th></th>\n",
       "      <th>week</th>\n",
       "      <th>state</th>\n",
       "      <th>state_name</th>\n",
       "      <th>disease</th>\n",
       "      <th>cases</th>\n",
       "      <th>incidence_per_capita</th>\n",
       "    </tr>\n",
       "  </thead>\n",
       "  <tbody>\n",
       "    <tr>\n",
       "      <th>0</th>\n",
       "      <td>196801</td>\n",
       "      <td>AK</td>\n",
       "      <td>ALASKA</td>\n",
       "      <td>MUMPS</td>\n",
       "      <td>7</td>\n",
       "      <td>2.46</td>\n",
       "    </tr>\n",
       "    <tr>\n",
       "      <th>1</th>\n",
       "      <td>196801</td>\n",
       "      <td>AL</td>\n",
       "      <td>ALABAMA</td>\n",
       "      <td>MUMPS</td>\n",
       "      <td>39</td>\n",
       "      <td>1.13</td>\n",
       "    </tr>\n",
       "    <tr>\n",
       "      <th>2</th>\n",
       "      <td>196801</td>\n",
       "      <td>AZ</td>\n",
       "      <td>ARIZONA</td>\n",
       "      <td>MUMPS</td>\n",
       "      <td>19</td>\n",
       "      <td>1.13</td>\n",
       "    </tr>\n",
       "    <tr>\n",
       "      <th>3</th>\n",
       "      <td>196801</td>\n",
       "      <td>CA</td>\n",
       "      <td>CALIFORNIA</td>\n",
       "      <td>MUMPS</td>\n",
       "      <td>247</td>\n",
       "      <td>1.27</td>\n",
       "    </tr>\n",
       "    <tr>\n",
       "      <th>4</th>\n",
       "      <td>196801</td>\n",
       "      <td>DC</td>\n",
       "      <td>DISTRICT OF COLUMBIA</td>\n",
       "      <td>MUMPS</td>\n",
       "      <td>1</td>\n",
       "      <td>0.13</td>\n",
       "    </tr>\n",
       "  </tbody>\n",
       "</table>\n",
       "</div>"
      ],
      "text/plain": [
       "     week state            state_name disease  cases  incidence_per_capita\n",
       "0  196801    AK                ALASKA   MUMPS      7                  2.46\n",
       "1  196801    AL               ALABAMA   MUMPS     39                  1.13\n",
       "2  196801    AZ               ARIZONA   MUMPS     19                  1.13\n",
       "3  196801    CA            CALIFORNIA   MUMPS    247                  1.27\n",
       "4  196801    DC  DISTRICT OF COLUMBIA   MUMPS      1                  0.13"
      ]
     },
     "execution_count": 7,
     "metadata": {},
     "output_type": "execute_result"
    }
   ],
   "source": [
    "mumps.head()"
   ]
  },
  {
   "cell_type": "code",
   "execution_count": 8,
   "metadata": {},
   "outputs": [
    {
     "data": {
      "text/html": [
       "<div>\n",
       "<style>\n",
       "    .dataframe thead tr:only-child th {\n",
       "        text-align: right;\n",
       "    }\n",
       "\n",
       "    .dataframe thead th {\n",
       "        text-align: left;\n",
       "    }\n",
       "\n",
       "    .dataframe tbody tr th {\n",
       "        vertical-align: top;\n",
       "    }\n",
       "</style>\n",
       "<table border=\"1\" class=\"dataframe\">\n",
       "  <thead>\n",
       "    <tr style=\"text-align: right;\">\n",
       "      <th></th>\n",
       "      <th>week</th>\n",
       "      <th>state</th>\n",
       "      <th>state_name</th>\n",
       "      <th>disease</th>\n",
       "      <th>cases</th>\n",
       "      <th>incidence_per_capita</th>\n",
       "    </tr>\n",
       "  </thead>\n",
       "  <tbody>\n",
       "    <tr>\n",
       "      <th>0</th>\n",
       "      <td>196601</td>\n",
       "      <td>AL</td>\n",
       "      <td>ALABAMA</td>\n",
       "      <td>RUBELLA</td>\n",
       "      <td>7</td>\n",
       "      <td>0.20</td>\n",
       "    </tr>\n",
       "    <tr>\n",
       "      <th>1</th>\n",
       "      <td>196601</td>\n",
       "      <td>AZ</td>\n",
       "      <td>ARIZONA</td>\n",
       "      <td>RUBELLA</td>\n",
       "      <td>29</td>\n",
       "      <td>1.80</td>\n",
       "    </tr>\n",
       "    <tr>\n",
       "      <th>2</th>\n",
       "      <td>196601</td>\n",
       "      <td>CA</td>\n",
       "      <td>CALIFORNIA</td>\n",
       "      <td>RUBELLA</td>\n",
       "      <td>7</td>\n",
       "      <td>0.04</td>\n",
       "    </tr>\n",
       "    <tr>\n",
       "      <th>3</th>\n",
       "      <td>196601</td>\n",
       "      <td>CT</td>\n",
       "      <td>CONNECTICUT</td>\n",
       "      <td>RUBELLA</td>\n",
       "      <td>11</td>\n",
       "      <td>0.38</td>\n",
       "    </tr>\n",
       "    <tr>\n",
       "      <th>4</th>\n",
       "      <td>196601</td>\n",
       "      <td>HI</td>\n",
       "      <td>HAWAII</td>\n",
       "      <td>RUBELLA</td>\n",
       "      <td>1</td>\n",
       "      <td>0.14</td>\n",
       "    </tr>\n",
       "  </tbody>\n",
       "</table>\n",
       "</div>"
      ],
      "text/plain": [
       "     week state   state_name  disease  cases  incidence_per_capita\n",
       "0  196601    AL      ALABAMA  RUBELLA      7                  0.20\n",
       "1  196601    AZ      ARIZONA  RUBELLA     29                  1.80\n",
       "2  196601    CA   CALIFORNIA  RUBELLA      7                  0.04\n",
       "3  196601    CT  CONNECTICUT  RUBELLA     11                  0.38\n",
       "4  196601    HI       HAWAII  RUBELLA      1                  0.14"
      ]
     },
     "execution_count": 8,
     "metadata": {},
     "output_type": "execute_result"
    }
   ],
   "source": [
    "rubella.head()"
   ]
  },
  {
   "cell_type": "code",
   "execution_count": 9,
   "metadata": {
    "collapsed": true
   },
   "outputs": [],
   "source": [
    "for df in [measles, mumps, rubella]:\n",
    "    df[\"year\"] = df[\"week\"].apply(lambda x: int(str(x)[0:4]))"
   ]
  },
  {
   "cell_type": "code",
   "execution_count": 10,
   "metadata": {
    "collapsed": true
   },
   "outputs": [],
   "source": [
    "for df in [measles, mumps, rubella]:\n",
    "    df[\"week_num\"] = df[\"week\"].apply(lambda x: int(str(x)[4:7]))"
   ]
  },
  {
   "cell_type": "code",
   "execution_count": 11,
   "metadata": {
    "collapsed": true
   },
   "outputs": [],
   "source": [
    "def summarise(df):\n",
    "    grouped = df.groupby(by = [\"year\", \"disease\", \"state_name\"])\n",
    "    avg_cases_year = grouped[\"cases\"].mean()\n",
    "    avg_incidence_year = grouped[\"incidence_per_capita\"].mean()\n",
    "    return pd.merge(pd.DataFrame(avg_cases_year).reset_index(), pd.DataFrame(avg_incidence_year).reset_index())"
   ]
  },
  {
   "cell_type": "code",
   "execution_count": 12,
   "metadata": {},
   "outputs": [],
   "source": [
    "measles_summary = summarise(measles)\n",
    "mumps_summary = summarise(mumps)\n",
    "rubella_summary = summarise(rubella)"
   ]
  },
  {
   "cell_type": "markdown",
   "metadata": {},
   "source": [
    "<h2>Get state location data</h2>"
   ]
  },
  {
   "cell_type": "code",
   "execution_count": 13,
   "metadata": {
    "collapsed": true
   },
   "outputs": [],
   "source": [
    "states = {\n",
    "        state[\"name\"].upper(): state for code, state in States.items() if state[\"name\"] not in [\"Hawaii\", \"Alaska\"]\n",
    "    }\n",
    "\n",
    "def state_data(df):\n",
    "    df_ = df[~df[\"state_name\"].isin([\"HAWAII\", \"ALASKA\"])]\n",
    "    for z in [\"lons\", \"lats\"]:\n",
    "        df_[z] = df_[\"state_name\"].apply(lambda x: states[x][z])\n",
    "    return df_"
   ]
  },
  {
   "cell_type": "code",
   "execution_count": 14,
   "metadata": {},
   "outputs": [
    {
     "name": "stderr",
     "output_type": "stream",
     "text": [
      "C:\\Users\\nbm0029\\AppData\\Local\\Continuum\\anaconda3\\lib\\site-packages\\ipykernel_launcher.py:8: SettingWithCopyWarning: \n",
      "A value is trying to be set on a copy of a slice from a DataFrame.\n",
      "Try using .loc[row_indexer,col_indexer] = value instead\n",
      "\n",
      "See the caveats in the documentation: http://pandas.pydata.org/pandas-docs/stable/indexing.html#indexing-view-versus-copy\n",
      "  \n"
     ]
    }
   ],
   "source": [
    "measles_summary = state_data(measles_summary)\n",
    "mumps_summary = state_data(mumps_summary)\n",
    "rubella_summary = state_data(rubella_summary)"
   ]
  },
  {
   "cell_type": "code",
   "execution_count": 15,
   "metadata": {},
   "outputs": [
    {
     "data": {
      "text/html": [
       "<div>\n",
       "<style>\n",
       "    .dataframe thead tr:only-child th {\n",
       "        text-align: right;\n",
       "    }\n",
       "\n",
       "    .dataframe thead th {\n",
       "        text-align: left;\n",
       "    }\n",
       "\n",
       "    .dataframe tbody tr th {\n",
       "        vertical-align: top;\n",
       "    }\n",
       "</style>\n",
       "<table border=\"1\" class=\"dataframe\">\n",
       "  <thead>\n",
       "    <tr style=\"text-align: right;\">\n",
       "      <th></th>\n",
       "      <th>year</th>\n",
       "      <th>disease</th>\n",
       "      <th>state_name</th>\n",
       "      <th>cases</th>\n",
       "      <th>incidence_per_capita</th>\n",
       "      <th>lons</th>\n",
       "      <th>lats</th>\n",
       "    </tr>\n",
       "  </thead>\n",
       "  <tbody>\n",
       "    <tr>\n",
       "      <th>0</th>\n",
       "      <td>1928</td>\n",
       "      <td>MEASLES</td>\n",
       "      <td>ALABAMA</td>\n",
       "      <td>170.057692</td>\n",
       "      <td>6.442115</td>\n",
       "      <td>[-87.58552, -87.59581, -87.62123, -87.6272, -8...</td>\n",
       "      <td>[30.99763, 30.94243, 30.89199, 30.85923, 30.83...</td>\n",
       "    </tr>\n",
       "    <tr>\n",
       "      <th>1</th>\n",
       "      <td>1928</td>\n",
       "      <td>MEASLES</td>\n",
       "      <td>ARIZONA</td>\n",
       "      <td>20.166667</td>\n",
       "      <td>4.779762</td>\n",
       "      <td>[-114.63332, -114.63349, -114.63423, -114.6089...</td>\n",
       "      <td>[34.87057, 35.00186, 35.00332, 35.07971, 35.11...</td>\n",
       "    </tr>\n",
       "    <tr>\n",
       "      <th>2</th>\n",
       "      <td>1928</td>\n",
       "      <td>MEASLES</td>\n",
       "      <td>ARKANSAS</td>\n",
       "      <td>181.612245</td>\n",
       "      <td>9.832041</td>\n",
       "      <td>[-94.26958, -94.30425, -94.34879, -94.40149, -...</td>\n",
       "      <td>[33.56679, 33.56656, 33.55479, 33.55887, 33.57...</td>\n",
       "    </tr>\n",
       "    <tr>\n",
       "      <th>3</th>\n",
       "      <td>1928</td>\n",
       "      <td>MEASLES</td>\n",
       "      <td>CALIFORNIA</td>\n",
       "      <td>71.115385</td>\n",
       "      <td>1.331154</td>\n",
       "      <td>[-123.00111, -122.99754, -122.99509, -122.9874...</td>\n",
       "      <td>[37.77205, 37.77078, 37.76913, 37.76387, 37.75...</td>\n",
       "    </tr>\n",
       "    <tr>\n",
       "      <th>4</th>\n",
       "      <td>1928</td>\n",
       "      <td>MEASLES</td>\n",
       "      <td>COLORADO</td>\n",
       "      <td>43.729167</td>\n",
       "      <td>4.312083</td>\n",
       "      <td>[-109.04984, -109.06017, -109.06015, -109.0565...</td>\n",
       "      <td>[38.215, 38.40118, 38.60929, 38.81393, 38.9578...</td>\n",
       "    </tr>\n",
       "  </tbody>\n",
       "</table>\n",
       "</div>"
      ],
      "text/plain": [
       "   year  disease  state_name       cases  incidence_per_capita  \\\n",
       "0  1928  MEASLES     ALABAMA  170.057692              6.442115   \n",
       "1  1928  MEASLES     ARIZONA   20.166667              4.779762   \n",
       "2  1928  MEASLES    ARKANSAS  181.612245              9.832041   \n",
       "3  1928  MEASLES  CALIFORNIA   71.115385              1.331154   \n",
       "4  1928  MEASLES    COLORADO   43.729167              4.312083   \n",
       "\n",
       "                                                lons  \\\n",
       "0  [-87.58552, -87.59581, -87.62123, -87.6272, -8...   \n",
       "1  [-114.63332, -114.63349, -114.63423, -114.6089...   \n",
       "2  [-94.26958, -94.30425, -94.34879, -94.40149, -...   \n",
       "3  [-123.00111, -122.99754, -122.99509, -122.9874...   \n",
       "4  [-109.04984, -109.06017, -109.06015, -109.0565...   \n",
       "\n",
       "                                                lats  \n",
       "0  [30.99763, 30.94243, 30.89199, 30.85923, 30.83...  \n",
       "1  [34.87057, 35.00186, 35.00332, 35.07971, 35.11...  \n",
       "2  [33.56679, 33.56656, 33.55479, 33.55887, 33.57...  \n",
       "3  [37.77205, 37.77078, 37.76913, 37.76387, 37.75...  \n",
       "4  [38.215, 38.40118, 38.60929, 38.81393, 38.9578...  "
      ]
     },
     "execution_count": 15,
     "metadata": {},
     "output_type": "execute_result"
    }
   ],
   "source": [
    "measles_summary.head()"
   ]
  },
  {
   "cell_type": "markdown",
   "metadata": {},
   "source": [
    "<h2>Make the dataset</h2>"
   ]
  },
  {
   "cell_type": "code",
   "execution_count": 16,
   "metadata": {
    "collapsed": true
   },
   "outputs": [],
   "source": [
    "def create_data(df, year):\n",
    "    df = df[df[\"year\"] == year]\n",
    "    df = df.dropna()\n",
    "    assert len(df) > 0, \"No data for this disease and year combination\"\n",
    "\n",
    "    data = dict(\n",
    "        state_name = df[\"state_name\"],\n",
    "        x = df['lons'].values.tolist(),\n",
    "        y = df['lats'].values.tolist(),\n",
    "        incidence_per_capita = df[\"incidence_per_capita\"],\n",
    "        year = df[\"year\"]\n",
    "    )\n",
    "\n",
    "    return ColumnDataSource(data)"
   ]
  },
  {
   "cell_type": "markdown",
   "metadata": {},
   "source": [
    "<h2>Build a map</h2>"
   ]
  },
  {
   "cell_type": "code",
   "execution_count": 17,
   "metadata": {
    "collapsed": true
   },
   "outputs": [],
   "source": [
    "def build_map(src):\n",
    "\n",
    "    TOOLS = \"pan,wheel_zoom,reset,hover,save\"\n",
    "    colors = [\"#A7D49B\", \"#92AC86\", \"#696047\", \"#55251D\", \"#5A1807\"]\n",
    "    color_mapper = LinearColorMapper(palette=colors, low=src.data[\"incidence_per_capita\"].min(), high=src.data[\"incidence_per_capita\"].max())\n",
    "    p = figure(\n",
    "        title=\"US States\", tools=TOOLS,\n",
    "        x_axis_location=None, y_axis_location=None,\n",
    "        tooltips=[\n",
    "            (\"Name\", \"@state_name\"), (\"Average incidences per capita\", \"@incidence_per_capita\"), (\"(Long, Lat)\", \"($x, $y)\")\n",
    "        ], plot_width=1000, plot_height=600)\n",
    "    p.grid.grid_line_color = None\n",
    "    p.hover.point_policy = \"follow_mouse\"\n",
    "    p.patches('x', 'y', source=src,\n",
    "              fill_color={'field': 'incidence_per_capita', 'transform': color_mapper},\n",
    "              fill_alpha=0.7, line_color=\"white\", line_width=0.5)\n",
    "\n",
    "    return p"
   ]
  },
  {
   "cell_type": "markdown",
   "metadata": {},
   "source": [
    "<h2>Make widgets for controlling the map</h2>"
   ]
  },
  {
   "cell_type": "code",
   "execution_count": 18,
   "metadata": {},
   "outputs": [],
   "source": [
    "#Starting data\n",
    "src = create_data(measles_summary, 1928)"
   ]
  },
  {
   "cell_type": "code",
   "execution_count": 19,
   "metadata": {},
   "outputs": [],
   "source": [
    "choose_year = Slider(start=src.data[\"year\"].min(), end=src.data[\"year\"].max(), value=src.data[\"year\"].min(), step = 1, title = \"Year\")"
   ]
  },
  {
   "cell_type": "code",
   "execution_count": 20,
   "metadata": {},
   "outputs": [
    {
     "data": {
      "text/html": [
       "\n",
       "\n",
       "\n",
       "\n",
       "\n",
       "\n",
       "  <div class=\"bk-root\" id=\"679881ef-34d9-4e5b-ba1e-35bea5e659c3\"></div>\n"
      ]
     },
     "metadata": {},
     "output_type": "display_data"
    },
    {
     "data": {
      "application/javascript": [
       "(function(root) {\n",
       "  function embed_document(root) {\n",
       "    \n",
       "  var docs_json = {\"b54dce7a-93c4-478a-aaff-e52b39c10e20\":{\"roots\":{\"references\":[{\"attributes\":{\"callback\":null,\"end\":1928,\"start\":1928,\"title\":\"Year\",\"value\":1928},\"id\":\"d6ff9a48-4638-46c9-b963-fc3823a5713f\",\"type\":\"Slider\"}],\"root_ids\":[\"d6ff9a48-4638-46c9-b963-fc3823a5713f\"]},\"title\":\"Bokeh Application\",\"version\":\"0.13.0\"}};\n",
       "  var render_items = [{\"docid\":\"b54dce7a-93c4-478a-aaff-e52b39c10e20\",\"roots\":{\"d6ff9a48-4638-46c9-b963-fc3823a5713f\":\"679881ef-34d9-4e5b-ba1e-35bea5e659c3\"}}];\n",
       "  root.Bokeh.embed.embed_items_notebook(docs_json, render_items);\n",
       "\n",
       "  }\n",
       "  if (root.Bokeh !== undefined) {\n",
       "    embed_document(root);\n",
       "  } else {\n",
       "    var attempts = 0;\n",
       "    var timer = setInterval(function(root) {\n",
       "      if (root.Bokeh !== undefined) {\n",
       "        embed_document(root);\n",
       "        clearInterval(timer);\n",
       "      }\n",
       "      attempts++;\n",
       "      if (attempts > 100) {\n",
       "        console.log(\"Bokeh: ERROR: Unable to run BokehJS code because BokehJS library is missing\")\n",
       "        clearInterval(timer);\n",
       "      }\n",
       "    }, 10, root)\n",
       "  }\n",
       "})(window);"
      ],
      "application/vnd.bokehjs_exec.v0+json": ""
     },
     "metadata": {
      "application/vnd.bokehjs_exec.v0+json": {
       "id": "d6ff9a48-4638-46c9-b963-fc3823a5713f"
      }
     },
     "output_type": "display_data"
    }
   ],
   "source": [
    "show(choose_year)"
   ]
  },
  {
   "cell_type": "code",
   "execution_count": 21,
   "metadata": {
    "collapsed": true
   },
   "outputs": [],
   "source": [
    "def update_map(attr, old, new):\n",
    "    choosen_year = choose_year.value\n",
    "    new_data = create_data(src.data, chosen_year)\n",
    "    src.data.update(new_data)"
   ]
  },
  {
   "cell_type": "code",
   "execution_count": 22,
   "metadata": {
    "collapsed": true
   },
   "outputs": [],
   "source": [
    "choose_year.on_change(\"value\", update_map)"
   ]
  },
  {
   "cell_type": "code",
   "execution_count": 23,
   "metadata": {},
   "outputs": [],
   "source": [
    "controls = WidgetBox(choose_year)\n",
    "p = build_map(src)\n",
    "layout = row(controls, p)"
   ]
  },
  {
   "cell_type": "markdown",
   "metadata": {},
   "source": [
    "<h2>Package it all together!</h2>"
   ]
  },
  {
   "cell_type": "code",
   "execution_count": 48,
   "metadata": {
    "collapsed": true
   },
   "outputs": [],
   "source": [
    "def mapping_mmr(app):\n",
    "    def create_data(df, year):\n",
    "        if isinstance(df, pd.DataFrame):\n",
    "            print(\"ONE\")\n",
    "        else:\n",
    "            print(\"THREE\")\n",
    "            df = df.to_df()\n",
    "        print(\"TWO\")\n",
    "        df = df[df[\"year\"] == year]\n",
    "        df = df.dropna()\n",
    "        assert len(df) > 0, \"No data for this disease and year combination\"\n",
    "\n",
    "        data = dict(\n",
    "            state_name = df[\"state_name\"],\n",
    "            x = df['lons'].values.tolist(),\n",
    "            y = df['lats'].values.tolist(),\n",
    "            incidence_per_capita = df[\"incidence_per_capita\"],\n",
    "            year = df[\"year\"]\n",
    "        )\n",
    "\n",
    "        return ColumnDataSource(data)\n",
    "    \n",
    "    def build_map(src):\n",
    "\n",
    "        TOOLS = \"pan,wheel_zoom,reset,hover,save\"\n",
    "        colors = [\"#A7D49B\", \"#92AC86\", \"#696047\", \"#55251D\", \"#5A1807\"]\n",
    "        color_mapper = LinearColorMapper(palette=colors, low=src.data[\"incidence_per_capita\"].min(), high=src.data[\"incidence_per_capita\"].max())\n",
    "        p = figure(\n",
    "            title=\"US States\", tools=TOOLS,\n",
    "            x_axis_location=None, y_axis_location=None,\n",
    "            tooltips=[\n",
    "                (\"Name\", \"@state_name\"), (\"Average incidences per capita\", \"@incidence_per_capita\"), (\"(Long, Lat)\", \"($x, $y)\")\n",
    "            ], plot_width=1000, plot_height=600)\n",
    "        p.grid.grid_line_color = None\n",
    "        p.hover.point_policy = \"follow_mouse\"\n",
    "        p.patches('x', 'y', source=src,\n",
    "                  fill_color={'field': 'incidence_per_capita', 'transform': color_mapper},\n",
    "                  fill_alpha=0.7, line_color=\"white\", line_width=0.5)\n",
    "\n",
    "        return p\n",
    "    \n",
    "    def update_map(attr, old, new):\n",
    "        chosen_year = choose_year.value\n",
    "        new_data = create_data(src.data, chosen_year)\n",
    "        src.data.update(new_data)\n",
    "        \n",
    "    #Select starting data\n",
    "    src = create_data(measles_summary, 1928)\n",
    "        \n",
    "    #Define Widgets\n",
    "    choose_year = Slider(start=1928, end=2002, \n",
    "                         value=1928, step = 1, title = \"Year\")\n",
    "    choose_year.on_change('value', update_map)\n",
    "    \n",
    "\n",
    "    #Init plot and set layout\n",
    "    controls = WidgetBox(choose_year)\n",
    "    p = build_map(src)\n",
    "    layout = column(controls, p)\n",
    "    app.add_root(layout)\n",
    "    "
   ]
  },
  {
   "cell_type": "code",
   "execution_count": 49,
   "metadata": {},
   "outputs": [],
   "source": [
    "#Setup application\n",
    "handler = FunctionHandler(mapping_mmr)\n",
    "app = Application(handler)"
   ]
  },
  {
   "cell_type": "code",
   "execution_count": 50,
   "metadata": {},
   "outputs": [
    {
     "data": {
      "application/vnd.bokehjs_exec.v0+json": "",
      "text/html": [
       "\n",
       "<script src=\"http://localhost:52012/autoload.js?bokeh-autoload-element=8886a4ab-742e-4370-a5ee-a80d0546d379&bokeh-absolute-url=http://localhost:52012&resources=none\" id=\"8886a4ab-742e-4370-a5ee-a80d0546d379\"></script>"
      ]
     },
     "metadata": {
      "application/vnd.bokehjs_exec.v0+json": {
       "server_id": "44d030c9aaf84fd7bfa32c903681483d"
      }
     },
     "output_type": "display_data"
    },
    {
     "name": "stdout",
     "output_type": "stream",
     "text": [
      "ONE\n",
      "TWO\n"
     ]
    }
   ],
   "source": [
    "show(app)"
   ]
  },
  {
   "cell_type": "code",
   "execution_count": null,
   "metadata": {
    "collapsed": true
   },
   "outputs": [],
   "source": []
  }
 ],
 "metadata": {
  "kernelspec": {
   "display_name": "Python 3",
   "language": "python",
   "name": "python3"
  },
  "language_info": {
   "codemirror_mode": {
    "name": "ipython",
    "version": 3
   },
   "file_extension": ".py",
   "mimetype": "text/x-python",
   "name": "python",
   "nbconvert_exporter": "python",
   "pygments_lexer": "ipython3",
   "version": "3.6.2"
  }
 },
 "nbformat": 4,
 "nbformat_minor": 2
}
