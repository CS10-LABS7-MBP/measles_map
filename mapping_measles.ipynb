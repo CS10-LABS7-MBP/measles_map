{
 "cells": [
  {
   "cell_type": "markdown",
   "metadata": {},
   "source": [
    "<h1>Exploring infections through data: Mapping Measles</h1>\n",
    "\n",
    "In this notebook I'm going to explore creating an interactive map of the historical incidence rates (per 100,000 people) of measles in the USA. The data comes from Project Tycho, a colleciton of National Notifiable Disease Surveillance System reports, and is available for free from <a href=\"https://www.kaggle.com/pitt/contagious-diseases/home\">Kaggle</a>. There are multiple libraries in Python that can be used to create interactive visualisations of data, but in this notebook I will focus on the Bokeh JS API."
   ]
  },
  {
   "cell_type": "code",
   "execution_count": 1,
   "metadata": {},
   "outputs": [],
   "source": [
    "#Dependencies\n",
    "import pandas as pd\n",
    "import numpy as np"
   ]
  },
  {
   "cell_type": "code",
   "execution_count": 2,
   "metadata": {},
   "outputs": [],
   "source": [
    "#Import Bokeh\n",
    "from bokeh.io import output_notebook, show\n",
    "from bokeh.plotting import figure\n",
    "from bokeh.io import show\n",
    "from bokeh.models import LogColorMapper, ColumnDataSource, HoverTool, LinearColorMapper, ColorBar\n",
    "from bokeh.palettes import Viridis6 as palette\n",
    "from bokeh.plotting import figure\n",
    "from bokeh.models.widgets import Select, Slider\n",
    "from bokeh.layouts import column, row, WidgetBox\n",
    "from bokeh.palettes import Oranges\n",
    "from bokeh.application.handlers import FunctionHandler\n",
    "from bokeh.application import Application"
   ]
  },
  {
   "cell_type": "code",
   "execution_count": 3,
   "metadata": {},
   "outputs": [
    {
     "data": {
      "text/html": [
       "\n",
       "    <div class=\"bk-root\">\n",
       "        <a href=\"https://bokeh.pydata.org\" target=\"_blank\" class=\"bk-logo bk-logo-small bk-logo-notebook\"></a>\n",
       "        <span id=\"7ffadf20-7ae1-43e4-b7ab-44624588d184\">Loading BokehJS ...</span>\n",
       "    </div>"
      ]
     },
     "metadata": {},
     "output_type": "display_data"
    },
    {
     "data": {
      "application/javascript": [
       "\n",
       "(function(root) {\n",
       "  function now() {\n",
       "    return new Date();\n",
       "  }\n",
       "\n",
       "  var force = true;\n",
       "\n",
       "  if (typeof (root._bokeh_onload_callbacks) === \"undefined\" || force === true) {\n",
       "    root._bokeh_onload_callbacks = [];\n",
       "    root._bokeh_is_loading = undefined;\n",
       "  }\n",
       "\n",
       "  var JS_MIME_TYPE = 'application/javascript';\n",
       "  var HTML_MIME_TYPE = 'text/html';\n",
       "  var EXEC_MIME_TYPE = 'application/vnd.bokehjs_exec.v0+json';\n",
       "  var CLASS_NAME = 'output_bokeh rendered_html';\n",
       "\n",
       "  /**\n",
       "   * Render data to the DOM node\n",
       "   */\n",
       "  function render(props, node) {\n",
       "    var script = document.createElement(\"script\");\n",
       "    node.appendChild(script);\n",
       "  }\n",
       "\n",
       "  /**\n",
       "   * Handle when an output is cleared or removed\n",
       "   */\n",
       "  function handleClearOutput(event, handle) {\n",
       "    var cell = handle.cell;\n",
       "\n",
       "    var id = cell.output_area._bokeh_element_id;\n",
       "    var server_id = cell.output_area._bokeh_server_id;\n",
       "    // Clean up Bokeh references\n",
       "    if (id != null && id in Bokeh.index) {\n",
       "      Bokeh.index[id].model.document.clear();\n",
       "      delete Bokeh.index[id];\n",
       "    }\n",
       "\n",
       "    if (server_id !== undefined) {\n",
       "      // Clean up Bokeh references\n",
       "      var cmd = \"from bokeh.io.state import curstate; print(curstate().uuid_to_server['\" + server_id + \"'].get_sessions()[0].document.roots[0]._id)\";\n",
       "      cell.notebook.kernel.execute(cmd, {\n",
       "        iopub: {\n",
       "          output: function(msg) {\n",
       "            var id = msg.content.text.trim();\n",
       "            if (id in Bokeh.index) {\n",
       "              Bokeh.index[id].model.document.clear();\n",
       "              delete Bokeh.index[id];\n",
       "            }\n",
       "          }\n",
       "        }\n",
       "      });\n",
       "      // Destroy server and session\n",
       "      var cmd = \"import bokeh.io.notebook as ion; ion.destroy_server('\" + server_id + \"')\";\n",
       "      cell.notebook.kernel.execute(cmd);\n",
       "    }\n",
       "  }\n",
       "\n",
       "  /**\n",
       "   * Handle when a new output is added\n",
       "   */\n",
       "  function handleAddOutput(event, handle) {\n",
       "    var output_area = handle.output_area;\n",
       "    var output = handle.output;\n",
       "\n",
       "    // limit handleAddOutput to display_data with EXEC_MIME_TYPE content only\n",
       "    if ((output.output_type != \"display_data\") || (!output.data.hasOwnProperty(EXEC_MIME_TYPE))) {\n",
       "      return\n",
       "    }\n",
       "\n",
       "    var toinsert = output_area.element.find(\".\" + CLASS_NAME.split(' ')[0]);\n",
       "\n",
       "    if (output.metadata[EXEC_MIME_TYPE][\"id\"] !== undefined) {\n",
       "      toinsert[toinsert.length - 1].firstChild.textContent = output.data[JS_MIME_TYPE];\n",
       "      // store reference to embed id on output_area\n",
       "      output_area._bokeh_element_id = output.metadata[EXEC_MIME_TYPE][\"id\"];\n",
       "    }\n",
       "    if (output.metadata[EXEC_MIME_TYPE][\"server_id\"] !== undefined) {\n",
       "      var bk_div = document.createElement(\"div\");\n",
       "      bk_div.innerHTML = output.data[HTML_MIME_TYPE];\n",
       "      var script_attrs = bk_div.children[0].attributes;\n",
       "      for (var i = 0; i < script_attrs.length; i++) {\n",
       "        toinsert[toinsert.length - 1].firstChild.setAttribute(script_attrs[i].name, script_attrs[i].value);\n",
       "      }\n",
       "      // store reference to server id on output_area\n",
       "      output_area._bokeh_server_id = output.metadata[EXEC_MIME_TYPE][\"server_id\"];\n",
       "    }\n",
       "  }\n",
       "\n",
       "  function register_renderer(events, OutputArea) {\n",
       "\n",
       "    function append_mime(data, metadata, element) {\n",
       "      // create a DOM node to render to\n",
       "      var toinsert = this.create_output_subarea(\n",
       "        metadata,\n",
       "        CLASS_NAME,\n",
       "        EXEC_MIME_TYPE\n",
       "      );\n",
       "      this.keyboard_manager.register_events(toinsert);\n",
       "      // Render to node\n",
       "      var props = {data: data, metadata: metadata[EXEC_MIME_TYPE]};\n",
       "      render(props, toinsert[toinsert.length - 1]);\n",
       "      element.append(toinsert);\n",
       "      return toinsert\n",
       "    }\n",
       "\n",
       "    /* Handle when an output is cleared or removed */\n",
       "    events.on('clear_output.CodeCell', handleClearOutput);\n",
       "    events.on('delete.Cell', handleClearOutput);\n",
       "\n",
       "    /* Handle when a new output is added */\n",
       "    events.on('output_added.OutputArea', handleAddOutput);\n",
       "\n",
       "    /**\n",
       "     * Register the mime type and append_mime function with output_area\n",
       "     */\n",
       "    OutputArea.prototype.register_mime_type(EXEC_MIME_TYPE, append_mime, {\n",
       "      /* Is output safe? */\n",
       "      safe: true,\n",
       "      /* Index of renderer in `output_area.display_order` */\n",
       "      index: 0\n",
       "    });\n",
       "  }\n",
       "\n",
       "  // register the mime type if in Jupyter Notebook environment and previously unregistered\n",
       "  if (root.Jupyter !== undefined) {\n",
       "    var events = require('base/js/events');\n",
       "    var OutputArea = require('notebook/js/outputarea').OutputArea;\n",
       "\n",
       "    if (OutputArea.prototype.mime_types().indexOf(EXEC_MIME_TYPE) == -1) {\n",
       "      register_renderer(events, OutputArea);\n",
       "    }\n",
       "  }\n",
       "\n",
       "  \n",
       "  if (typeof (root._bokeh_timeout) === \"undefined\" || force === true) {\n",
       "    root._bokeh_timeout = Date.now() + 5000;\n",
       "    root._bokeh_failed_load = false;\n",
       "  }\n",
       "\n",
       "  var NB_LOAD_WARNING = {'data': {'text/html':\n",
       "     \"<div style='background-color: #fdd'>\\n\"+\n",
       "     \"<p>\\n\"+\n",
       "     \"BokehJS does not appear to have successfully loaded. If loading BokehJS from CDN, this \\n\"+\n",
       "     \"may be due to a slow or bad network connection. Possible fixes:\\n\"+\n",
       "     \"</p>\\n\"+\n",
       "     \"<ul>\\n\"+\n",
       "     \"<li>re-rerun `output_notebook()` to attempt to load from CDN again, or</li>\\n\"+\n",
       "     \"<li>use INLINE resources instead, as so:</li>\\n\"+\n",
       "     \"</ul>\\n\"+\n",
       "     \"<code>\\n\"+\n",
       "     \"from bokeh.resources import INLINE\\n\"+\n",
       "     \"output_notebook(resources=INLINE)\\n\"+\n",
       "     \"</code>\\n\"+\n",
       "     \"</div>\"}};\n",
       "\n",
       "  function display_loaded() {\n",
       "    var el = document.getElementById(\"7ffadf20-7ae1-43e4-b7ab-44624588d184\");\n",
       "    if (el != null) {\n",
       "      el.textContent = \"BokehJS is loading...\";\n",
       "    }\n",
       "    if (root.Bokeh !== undefined) {\n",
       "      if (el != null) {\n",
       "        el.textContent = \"BokehJS \" + root.Bokeh.version + \" successfully loaded.\";\n",
       "      }\n",
       "    } else if (Date.now() < root._bokeh_timeout) {\n",
       "      setTimeout(display_loaded, 100)\n",
       "    }\n",
       "  }\n",
       "\n",
       "\n",
       "  function run_callbacks() {\n",
       "    try {\n",
       "      root._bokeh_onload_callbacks.forEach(function(callback) { callback() });\n",
       "    }\n",
       "    finally {\n",
       "      delete root._bokeh_onload_callbacks\n",
       "    }\n",
       "    console.info(\"Bokeh: all callbacks have finished\");\n",
       "  }\n",
       "\n",
       "  function load_libs(js_urls, callback) {\n",
       "    root._bokeh_onload_callbacks.push(callback);\n",
       "    if (root._bokeh_is_loading > 0) {\n",
       "      console.log(\"Bokeh: BokehJS is being loaded, scheduling callback at\", now());\n",
       "      return null;\n",
       "    }\n",
       "    if (js_urls == null || js_urls.length === 0) {\n",
       "      run_callbacks();\n",
       "      return null;\n",
       "    }\n",
       "    console.log(\"Bokeh: BokehJS not loaded, scheduling load and callback at\", now());\n",
       "    root._bokeh_is_loading = js_urls.length;\n",
       "    for (var i = 0; i < js_urls.length; i++) {\n",
       "      var url = js_urls[i];\n",
       "      var s = document.createElement('script');\n",
       "      s.src = url;\n",
       "      s.async = false;\n",
       "      s.onreadystatechange = s.onload = function() {\n",
       "        root._bokeh_is_loading--;\n",
       "        if (root._bokeh_is_loading === 0) {\n",
       "          console.log(\"Bokeh: all BokehJS libraries loaded\");\n",
       "          run_callbacks()\n",
       "        }\n",
       "      };\n",
       "      s.onerror = function() {\n",
       "        console.warn(\"failed to load library \" + url);\n",
       "      };\n",
       "      console.log(\"Bokeh: injecting script tag for BokehJS library: \", url);\n",
       "      document.getElementsByTagName(\"head\")[0].appendChild(s);\n",
       "    }\n",
       "  };var element = document.getElementById(\"7ffadf20-7ae1-43e4-b7ab-44624588d184\");\n",
       "  if (element == null) {\n",
       "    console.log(\"Bokeh: ERROR: autoload.js configured with elementid '7ffadf20-7ae1-43e4-b7ab-44624588d184' but no matching script tag was found. \")\n",
       "    return false;\n",
       "  }\n",
       "\n",
       "  var js_urls = [\"https://cdn.pydata.org/bokeh/release/bokeh-0.13.0.min.js\", \"https://cdn.pydata.org/bokeh/release/bokeh-widgets-0.13.0.min.js\", \"https://cdn.pydata.org/bokeh/release/bokeh-tables-0.13.0.min.js\", \"https://cdn.pydata.org/bokeh/release/bokeh-gl-0.13.0.min.js\"];\n",
       "\n",
       "  var inline_js = [\n",
       "    function(Bokeh) {\n",
       "      Bokeh.set_log_level(\"info\");\n",
       "    },\n",
       "    \n",
       "    function(Bokeh) {\n",
       "      \n",
       "    },\n",
       "    function(Bokeh) {\n",
       "      console.log(\"Bokeh: injecting CSS: https://cdn.pydata.org/bokeh/release/bokeh-0.13.0.min.css\");\n",
       "      Bokeh.embed.inject_css(\"https://cdn.pydata.org/bokeh/release/bokeh-0.13.0.min.css\");\n",
       "      console.log(\"Bokeh: injecting CSS: https://cdn.pydata.org/bokeh/release/bokeh-widgets-0.13.0.min.css\");\n",
       "      Bokeh.embed.inject_css(\"https://cdn.pydata.org/bokeh/release/bokeh-widgets-0.13.0.min.css\");\n",
       "      console.log(\"Bokeh: injecting CSS: https://cdn.pydata.org/bokeh/release/bokeh-tables-0.13.0.min.css\");\n",
       "      Bokeh.embed.inject_css(\"https://cdn.pydata.org/bokeh/release/bokeh-tables-0.13.0.min.css\");\n",
       "    }\n",
       "  ];\n",
       "\n",
       "  function run_inline_js() {\n",
       "    \n",
       "    if ((root.Bokeh !== undefined) || (force === true)) {\n",
       "      for (var i = 0; i < inline_js.length; i++) {\n",
       "        inline_js[i].call(root, root.Bokeh);\n",
       "      }if (force === true) {\n",
       "        display_loaded();\n",
       "      }} else if (Date.now() < root._bokeh_timeout) {\n",
       "      setTimeout(run_inline_js, 100);\n",
       "    } else if (!root._bokeh_failed_load) {\n",
       "      console.log(\"Bokeh: BokehJS failed to load within specified timeout.\");\n",
       "      root._bokeh_failed_load = true;\n",
       "    } else if (force !== true) {\n",
       "      var cell = $(document.getElementById(\"7ffadf20-7ae1-43e4-b7ab-44624588d184\")).parents('.cell').data().cell;\n",
       "      cell.output_area.append_execute_result(NB_LOAD_WARNING)\n",
       "    }\n",
       "\n",
       "  }\n",
       "\n",
       "  if (root._bokeh_is_loading === 0) {\n",
       "    console.log(\"Bokeh: BokehJS loaded, going straight to plotting\");\n",
       "    run_inline_js();\n",
       "  } else {\n",
       "    load_libs(js_urls, function() {\n",
       "      console.log(\"Bokeh: BokehJS plotting callback run at\", now());\n",
       "      run_inline_js();\n",
       "    });\n",
       "  }\n",
       "}(window));"
      ],
      "application/vnd.bokehjs_load.v0+json": "\n(function(root) {\n  function now() {\n    return new Date();\n  }\n\n  var force = true;\n\n  if (typeof (root._bokeh_onload_callbacks) === \"undefined\" || force === true) {\n    root._bokeh_onload_callbacks = [];\n    root._bokeh_is_loading = undefined;\n  }\n\n  \n\n  \n  if (typeof (root._bokeh_timeout) === \"undefined\" || force === true) {\n    root._bokeh_timeout = Date.now() + 5000;\n    root._bokeh_failed_load = false;\n  }\n\n  var NB_LOAD_WARNING = {'data': {'text/html':\n     \"<div style='background-color: #fdd'>\\n\"+\n     \"<p>\\n\"+\n     \"BokehJS does not appear to have successfully loaded. If loading BokehJS from CDN, this \\n\"+\n     \"may be due to a slow or bad network connection. Possible fixes:\\n\"+\n     \"</p>\\n\"+\n     \"<ul>\\n\"+\n     \"<li>re-rerun `output_notebook()` to attempt to load from CDN again, or</li>\\n\"+\n     \"<li>use INLINE resources instead, as so:</li>\\n\"+\n     \"</ul>\\n\"+\n     \"<code>\\n\"+\n     \"from bokeh.resources import INLINE\\n\"+\n     \"output_notebook(resources=INLINE)\\n\"+\n     \"</code>\\n\"+\n     \"</div>\"}};\n\n  function display_loaded() {\n    var el = document.getElementById(\"7ffadf20-7ae1-43e4-b7ab-44624588d184\");\n    if (el != null) {\n      el.textContent = \"BokehJS is loading...\";\n    }\n    if (root.Bokeh !== undefined) {\n      if (el != null) {\n        el.textContent = \"BokehJS \" + root.Bokeh.version + \" successfully loaded.\";\n      }\n    } else if (Date.now() < root._bokeh_timeout) {\n      setTimeout(display_loaded, 100)\n    }\n  }\n\n\n  function run_callbacks() {\n    try {\n      root._bokeh_onload_callbacks.forEach(function(callback) { callback() });\n    }\n    finally {\n      delete root._bokeh_onload_callbacks\n    }\n    console.info(\"Bokeh: all callbacks have finished\");\n  }\n\n  function load_libs(js_urls, callback) {\n    root._bokeh_onload_callbacks.push(callback);\n    if (root._bokeh_is_loading > 0) {\n      console.log(\"Bokeh: BokehJS is being loaded, scheduling callback at\", now());\n      return null;\n    }\n    if (js_urls == null || js_urls.length === 0) {\n      run_callbacks();\n      return null;\n    }\n    console.log(\"Bokeh: BokehJS not loaded, scheduling load and callback at\", now());\n    root._bokeh_is_loading = js_urls.length;\n    for (var i = 0; i < js_urls.length; i++) {\n      var url = js_urls[i];\n      var s = document.createElement('script');\n      s.src = url;\n      s.async = false;\n      s.onreadystatechange = s.onload = function() {\n        root._bokeh_is_loading--;\n        if (root._bokeh_is_loading === 0) {\n          console.log(\"Bokeh: all BokehJS libraries loaded\");\n          run_callbacks()\n        }\n      };\n      s.onerror = function() {\n        console.warn(\"failed to load library \" + url);\n      };\n      console.log(\"Bokeh: injecting script tag for BokehJS library: \", url);\n      document.getElementsByTagName(\"head\")[0].appendChild(s);\n    }\n  };var element = document.getElementById(\"7ffadf20-7ae1-43e4-b7ab-44624588d184\");\n  if (element == null) {\n    console.log(\"Bokeh: ERROR: autoload.js configured with elementid '7ffadf20-7ae1-43e4-b7ab-44624588d184' but no matching script tag was found. \")\n    return false;\n  }\n\n  var js_urls = [\"https://cdn.pydata.org/bokeh/release/bokeh-0.13.0.min.js\", \"https://cdn.pydata.org/bokeh/release/bokeh-widgets-0.13.0.min.js\", \"https://cdn.pydata.org/bokeh/release/bokeh-tables-0.13.0.min.js\", \"https://cdn.pydata.org/bokeh/release/bokeh-gl-0.13.0.min.js\"];\n\n  var inline_js = [\n    function(Bokeh) {\n      Bokeh.set_log_level(\"info\");\n    },\n    \n    function(Bokeh) {\n      \n    },\n    function(Bokeh) {\n      console.log(\"Bokeh: injecting CSS: https://cdn.pydata.org/bokeh/release/bokeh-0.13.0.min.css\");\n      Bokeh.embed.inject_css(\"https://cdn.pydata.org/bokeh/release/bokeh-0.13.0.min.css\");\n      console.log(\"Bokeh: injecting CSS: https://cdn.pydata.org/bokeh/release/bokeh-widgets-0.13.0.min.css\");\n      Bokeh.embed.inject_css(\"https://cdn.pydata.org/bokeh/release/bokeh-widgets-0.13.0.min.css\");\n      console.log(\"Bokeh: injecting CSS: https://cdn.pydata.org/bokeh/release/bokeh-tables-0.13.0.min.css\");\n      Bokeh.embed.inject_css(\"https://cdn.pydata.org/bokeh/release/bokeh-tables-0.13.0.min.css\");\n    }\n  ];\n\n  function run_inline_js() {\n    \n    if ((root.Bokeh !== undefined) || (force === true)) {\n      for (var i = 0; i < inline_js.length; i++) {\n        inline_js[i].call(root, root.Bokeh);\n      }if (force === true) {\n        display_loaded();\n      }} else if (Date.now() < root._bokeh_timeout) {\n      setTimeout(run_inline_js, 100);\n    } else if (!root._bokeh_failed_load) {\n      console.log(\"Bokeh: BokehJS failed to load within specified timeout.\");\n      root._bokeh_failed_load = true;\n    } else if (force !== true) {\n      var cell = $(document.getElementById(\"7ffadf20-7ae1-43e4-b7ab-44624588d184\")).parents('.cell').data().cell;\n      cell.output_area.append_execute_result(NB_LOAD_WARNING)\n    }\n\n  }\n\n  if (root._bokeh_is_loading === 0) {\n    console.log(\"Bokeh: BokehJS loaded, going straight to plotting\");\n    run_inline_js();\n  } else {\n    load_libs(js_urls, function() {\n      console.log(\"Bokeh: BokehJS plotting callback run at\", now());\n      run_inline_js();\n    });\n  }\n}(window));"
     },
     "metadata": {},
     "output_type": "display_data"
    }
   ],
   "source": [
    "output_notebook()"
   ]
  },
  {
   "cell_type": "markdown",
   "metadata": {},
   "source": [
    "<h1>Data Wrangling</h1>"
   ]
  },
  {
   "cell_type": "code",
   "execution_count": 4,
   "metadata": {},
   "outputs": [],
   "source": [
    "#Import US state data from Bokeh sample data\n",
    "from bokeh.sampledata.us_states import data as States"
   ]
  },
  {
   "cell_type": "code",
   "execution_count": 5,
   "metadata": {},
   "outputs": [],
   "source": [
    "#Import MMR data\n",
    "measles = pd.read_csv(\"measles.csv\")"
   ]
  },
  {
   "cell_type": "code",
   "execution_count": 6,
   "metadata": {},
   "outputs": [
    {
     "data": {
      "text/html": [
       "<div>\n",
       "<style>\n",
       "    .dataframe thead tr:only-child th {\n",
       "        text-align: right;\n",
       "    }\n",
       "\n",
       "    .dataframe thead th {\n",
       "        text-align: left;\n",
       "    }\n",
       "\n",
       "    .dataframe tbody tr th {\n",
       "        vertical-align: top;\n",
       "    }\n",
       "</style>\n",
       "<table border=\"1\" class=\"dataframe\">\n",
       "  <thead>\n",
       "    <tr style=\"text-align: right;\">\n",
       "      <th></th>\n",
       "      <th>week</th>\n",
       "      <th>state</th>\n",
       "      <th>state_name</th>\n",
       "      <th>disease</th>\n",
       "      <th>cases</th>\n",
       "      <th>incidence_per_capita</th>\n",
       "    </tr>\n",
       "  </thead>\n",
       "  <tbody>\n",
       "    <tr>\n",
       "      <th>0</th>\n",
       "      <td>192801</td>\n",
       "      <td>AL</td>\n",
       "      <td>ALABAMA</td>\n",
       "      <td>MEASLES</td>\n",
       "      <td>97</td>\n",
       "      <td>3.67</td>\n",
       "    </tr>\n",
       "    <tr>\n",
       "      <th>1</th>\n",
       "      <td>192801</td>\n",
       "      <td>AR</td>\n",
       "      <td>ARKANSAS</td>\n",
       "      <td>MEASLES</td>\n",
       "      <td>76</td>\n",
       "      <td>4.11</td>\n",
       "    </tr>\n",
       "    <tr>\n",
       "      <th>2</th>\n",
       "      <td>192801</td>\n",
       "      <td>AZ</td>\n",
       "      <td>ARIZONA</td>\n",
       "      <td>MEASLES</td>\n",
       "      <td>8</td>\n",
       "      <td>1.90</td>\n",
       "    </tr>\n",
       "    <tr>\n",
       "      <th>3</th>\n",
       "      <td>192801</td>\n",
       "      <td>CA</td>\n",
       "      <td>CALIFORNIA</td>\n",
       "      <td>MEASLES</td>\n",
       "      <td>74</td>\n",
       "      <td>1.38</td>\n",
       "    </tr>\n",
       "    <tr>\n",
       "      <th>4</th>\n",
       "      <td>192801</td>\n",
       "      <td>CO</td>\n",
       "      <td>COLORADO</td>\n",
       "      <td>MEASLES</td>\n",
       "      <td>85</td>\n",
       "      <td>8.38</td>\n",
       "    </tr>\n",
       "  </tbody>\n",
       "</table>\n",
       "</div>"
      ],
      "text/plain": [
       "     week state  state_name  disease  cases  incidence_per_capita\n",
       "0  192801    AL     ALABAMA  MEASLES     97                  3.67\n",
       "1  192801    AR    ARKANSAS  MEASLES     76                  4.11\n",
       "2  192801    AZ     ARIZONA  MEASLES      8                  1.90\n",
       "3  192801    CA  CALIFORNIA  MEASLES     74                  1.38\n",
       "4  192801    CO    COLORADO  MEASLES     85                  8.38"
      ]
     },
     "execution_count": 6,
     "metadata": {},
     "output_type": "execute_result"
    }
   ],
   "source": [
    "measles.head()"
   ]
  },
  {
   "cell_type": "code",
   "execution_count": 7,
   "metadata": {},
   "outputs": [],
   "source": [
    "measles[\"year\"] = measles[\"week\"].apply(lambda x: int(str(x)[0:4]))"
   ]
  },
  {
   "cell_type": "code",
   "execution_count": 8,
   "metadata": {},
   "outputs": [],
   "source": [
    "measles[\"week_num\"] = measles[\"week\"].apply(lambda x: int(str(x)[4:7]))"
   ]
  },
  {
   "cell_type": "code",
   "execution_count": 15,
   "metadata": {},
   "outputs": [],
   "source": [
    "measles.drop(\"week\", axis = 1, inplace = True)"
   ]
  },
  {
   "cell_type": "code",
   "execution_count": 16,
   "metadata": {},
   "outputs": [
    {
     "data": {
      "text/html": [
       "<div>\n",
       "<style>\n",
       "    .dataframe thead tr:only-child th {\n",
       "        text-align: right;\n",
       "    }\n",
       "\n",
       "    .dataframe thead th {\n",
       "        text-align: left;\n",
       "    }\n",
       "\n",
       "    .dataframe tbody tr th {\n",
       "        vertical-align: top;\n",
       "    }\n",
       "</style>\n",
       "<table border=\"1\" class=\"dataframe\">\n",
       "  <thead>\n",
       "    <tr style=\"text-align: right;\">\n",
       "      <th></th>\n",
       "      <th>state</th>\n",
       "      <th>state_name</th>\n",
       "      <th>disease</th>\n",
       "      <th>cases</th>\n",
       "      <th>incidence_per_capita</th>\n",
       "      <th>year</th>\n",
       "      <th>week_num</th>\n",
       "    </tr>\n",
       "  </thead>\n",
       "  <tbody>\n",
       "    <tr>\n",
       "      <th>0</th>\n",
       "      <td>AL</td>\n",
       "      <td>ALABAMA</td>\n",
       "      <td>MEASLES</td>\n",
       "      <td>97</td>\n",
       "      <td>3.67</td>\n",
       "      <td>1928</td>\n",
       "      <td>1</td>\n",
       "    </tr>\n",
       "    <tr>\n",
       "      <th>1</th>\n",
       "      <td>AR</td>\n",
       "      <td>ARKANSAS</td>\n",
       "      <td>MEASLES</td>\n",
       "      <td>76</td>\n",
       "      <td>4.11</td>\n",
       "      <td>1928</td>\n",
       "      <td>1</td>\n",
       "    </tr>\n",
       "    <tr>\n",
       "      <th>2</th>\n",
       "      <td>AZ</td>\n",
       "      <td>ARIZONA</td>\n",
       "      <td>MEASLES</td>\n",
       "      <td>8</td>\n",
       "      <td>1.90</td>\n",
       "      <td>1928</td>\n",
       "      <td>1</td>\n",
       "    </tr>\n",
       "    <tr>\n",
       "      <th>3</th>\n",
       "      <td>CA</td>\n",
       "      <td>CALIFORNIA</td>\n",
       "      <td>MEASLES</td>\n",
       "      <td>74</td>\n",
       "      <td>1.38</td>\n",
       "      <td>1928</td>\n",
       "      <td>1</td>\n",
       "    </tr>\n",
       "    <tr>\n",
       "      <th>4</th>\n",
       "      <td>CO</td>\n",
       "      <td>COLORADO</td>\n",
       "      <td>MEASLES</td>\n",
       "      <td>85</td>\n",
       "      <td>8.38</td>\n",
       "      <td>1928</td>\n",
       "      <td>1</td>\n",
       "    </tr>\n",
       "  </tbody>\n",
       "</table>\n",
       "</div>"
      ],
      "text/plain": [
       "  state  state_name  disease  cases  incidence_per_capita  year  week_num\n",
       "0    AL     ALABAMA  MEASLES     97                  3.67  1928         1\n",
       "1    AR    ARKANSAS  MEASLES     76                  4.11  1928         1\n",
       "2    AZ     ARIZONA  MEASLES      8                  1.90  1928         1\n",
       "3    CA  CALIFORNIA  MEASLES     74                  1.38  1928         1\n",
       "4    CO    COLORADO  MEASLES     85                  8.38  1928         1"
      ]
     },
     "execution_count": 16,
     "metadata": {},
     "output_type": "execute_result"
    }
   ],
   "source": [
    "measles.head()"
   ]
  },
  {
   "cell_type": "code",
   "execution_count": 9,
   "metadata": {},
   "outputs": [],
   "source": [
    "def summarise(df):\n",
    "    #Group data\n",
    "    grouped = df.groupby(by = [\"year\", \"disease\", \"state_name\"])\n",
    "    #Summarise data as Series then convert back to Dataframe\n",
    "    cases_sum = pd.DataFrame(grouped[\"cases\"].sum()).reset_index()\n",
    "    cases_avg = pd.DataFrame(grouped[\"cases\"].mean()).reset_index()\n",
    "    avg_incidence_year = pd.DataFrame(grouped[\"incidence_per_capita\"].mean()).reset_index()\n",
    "    #Give columns sensible names\n",
    "    avg_incidence_year = avg_incidence_year.rename(columns = {\"incidence_per_capita\": \"avg_incidence_per_week\"})\n",
    "    cases_sum = cases_sum.rename(columns = {\"cases\": \"total_cases_per_year\"})\n",
    "    cases_avg = cases_avg.rename(columns = {\"cases\": \"avg_cases_per_week\"})\n",
    "    #Merge dataframes\n",
    "    cases = pd.merge(cases_avg, cases_sum)\n",
    "    new_df = pd.merge(avg_incidence_year, cases)\n",
    "    return new_df"
   ]
  },
  {
   "cell_type": "code",
   "execution_count": 12,
   "metadata": {},
   "outputs": [],
   "source": [
    "measles_yealy_data = summarise(measles)"
   ]
  },
  {
   "cell_type": "code",
   "execution_count": 13,
   "metadata": {},
   "outputs": [
    {
     "data": {
      "text/html": [
       "<div>\n",
       "<style>\n",
       "    .dataframe thead tr:only-child th {\n",
       "        text-align: right;\n",
       "    }\n",
       "\n",
       "    .dataframe thead th {\n",
       "        text-align: left;\n",
       "    }\n",
       "\n",
       "    .dataframe tbody tr th {\n",
       "        vertical-align: top;\n",
       "    }\n",
       "</style>\n",
       "<table border=\"1\" class=\"dataframe\">\n",
       "  <thead>\n",
       "    <tr style=\"text-align: right;\">\n",
       "      <th></th>\n",
       "      <th>year</th>\n",
       "      <th>disease</th>\n",
       "      <th>state_name</th>\n",
       "      <th>avg_incidence_per_week</th>\n",
       "      <th>avg_cases_per_week</th>\n",
       "      <th>total_cases_per_year</th>\n",
       "    </tr>\n",
       "  </thead>\n",
       "  <tbody>\n",
       "    <tr>\n",
       "      <th>0</th>\n",
       "      <td>1928</td>\n",
       "      <td>MEASLES</td>\n",
       "      <td>ALABAMA</td>\n",
       "      <td>6.442115</td>\n",
       "      <td>170.057692</td>\n",
       "      <td>8843</td>\n",
       "    </tr>\n",
       "    <tr>\n",
       "      <th>1</th>\n",
       "      <td>1928</td>\n",
       "      <td>MEASLES</td>\n",
       "      <td>ARIZONA</td>\n",
       "      <td>4.779762</td>\n",
       "      <td>20.166667</td>\n",
       "      <td>847</td>\n",
       "    </tr>\n",
       "    <tr>\n",
       "      <th>2</th>\n",
       "      <td>1928</td>\n",
       "      <td>MEASLES</td>\n",
       "      <td>ARKANSAS</td>\n",
       "      <td>9.832041</td>\n",
       "      <td>181.612245</td>\n",
       "      <td>8899</td>\n",
       "    </tr>\n",
       "    <tr>\n",
       "      <th>3</th>\n",
       "      <td>1928</td>\n",
       "      <td>MEASLES</td>\n",
       "      <td>CALIFORNIA</td>\n",
       "      <td>1.331154</td>\n",
       "      <td>71.115385</td>\n",
       "      <td>3698</td>\n",
       "    </tr>\n",
       "    <tr>\n",
       "      <th>4</th>\n",
       "      <td>1928</td>\n",
       "      <td>MEASLES</td>\n",
       "      <td>COLORADO</td>\n",
       "      <td>4.312083</td>\n",
       "      <td>43.729167</td>\n",
       "      <td>2099</td>\n",
       "    </tr>\n",
       "  </tbody>\n",
       "</table>\n",
       "</div>"
      ],
      "text/plain": [
       "   year  disease  state_name  avg_incidence_per_week  avg_cases_per_week  \\\n",
       "0  1928  MEASLES     ALABAMA                6.442115          170.057692   \n",
       "1  1928  MEASLES     ARIZONA                4.779762           20.166667   \n",
       "2  1928  MEASLES    ARKANSAS                9.832041          181.612245   \n",
       "3  1928  MEASLES  CALIFORNIA                1.331154           71.115385   \n",
       "4  1928  MEASLES    COLORADO                4.312083           43.729167   \n",
       "\n",
       "   total_cases_per_year  \n",
       "0                  8843  \n",
       "1                   847  \n",
       "2                  8899  \n",
       "3                  3698  \n",
       "4                  2099  "
      ]
     },
     "execution_count": 13,
     "metadata": {},
     "output_type": "execute_result"
    }
   ],
   "source": [
    "measles_yealy_data.head()"
   ]
  },
  {
   "cell_type": "markdown",
   "metadata": {},
   "source": [
    "<h2>Get state location data</h2>"
   ]
  },
  {
   "cell_type": "code",
   "execution_count": 17,
   "metadata": {},
   "outputs": [],
   "source": [
    "states = {\n",
    "        state[\"name\"].upper(): state for code, state in States.items() if state[\"name\"] not in [\"Hawaii\", \"Alaska\"]\n",
    "    }\n",
    "\n",
    "def state_data(df):\n",
    "    df_ = df[~df[\"state_name\"].isin([\"HAWAII\", \"ALASKA\"])]\n",
    "    for z in [\"lons\", \"lats\"]:\n",
    "        df_[z] = df_[\"state_name\"].apply(lambda x: states[x][z])\n",
    "    return df_"
   ]
  },
  {
   "cell_type": "code",
   "execution_count": 18,
   "metadata": {},
   "outputs": [
    {
     "name": "stderr",
     "output_type": "stream",
     "text": [
      "C:\\Users\\nbm0029\\AppData\\Local\\Continuum\\anaconda3\\lib\\site-packages\\ipykernel_launcher.py:8: SettingWithCopyWarning: \n",
      "A value is trying to be set on a copy of a slice from a DataFrame.\n",
      "Try using .loc[row_indexer,col_indexer] = value instead\n",
      "\n",
      "See the caveats in the documentation: http://pandas.pydata.org/pandas-docs/stable/indexing.html#indexing-view-versus-copy\n",
      "  \n"
     ]
    }
   ],
   "source": [
    "measles_summary = state_data(measles_summary)\n",
    "measles = state_data(measles)"
   ]
  },
  {
   "cell_type": "code",
   "execution_count": 19,
   "metadata": {},
   "outputs": [
    {
     "data": {
      "text/html": [
       "<div>\n",
       "<style>\n",
       "    .dataframe thead tr:only-child th {\n",
       "        text-align: right;\n",
       "    }\n",
       "\n",
       "    .dataframe thead th {\n",
       "        text-align: left;\n",
       "    }\n",
       "\n",
       "    .dataframe tbody tr th {\n",
       "        vertical-align: top;\n",
       "    }\n",
       "</style>\n",
       "<table border=\"1\" class=\"dataframe\">\n",
       "  <thead>\n",
       "    <tr style=\"text-align: right;\">\n",
       "      <th></th>\n",
       "      <th>year</th>\n",
       "      <th>disease</th>\n",
       "      <th>state_name</th>\n",
       "      <th>avg_incidence_per_week</th>\n",
       "      <th>avg_cases_per_week</th>\n",
       "      <th>total_cases_per_year</th>\n",
       "      <th>lons</th>\n",
       "      <th>lats</th>\n",
       "    </tr>\n",
       "  </thead>\n",
       "  <tbody>\n",
       "    <tr>\n",
       "      <th>0</th>\n",
       "      <td>1928</td>\n",
       "      <td>MEASLES</td>\n",
       "      <td>ALABAMA</td>\n",
       "      <td>6.442115</td>\n",
       "      <td>170.057692</td>\n",
       "      <td>8843</td>\n",
       "      <td>[-87.58552, -87.59581, -87.62123, -87.6272, -8...</td>\n",
       "      <td>[30.99763, 30.94243, 30.89199, 30.85923, 30.83...</td>\n",
       "    </tr>\n",
       "    <tr>\n",
       "      <th>1</th>\n",
       "      <td>1928</td>\n",
       "      <td>MEASLES</td>\n",
       "      <td>ARIZONA</td>\n",
       "      <td>4.779762</td>\n",
       "      <td>20.166667</td>\n",
       "      <td>847</td>\n",
       "      <td>[-114.63332, -114.63349, -114.63423, -114.6089...</td>\n",
       "      <td>[34.87057, 35.00186, 35.00332, 35.07971, 35.11...</td>\n",
       "    </tr>\n",
       "    <tr>\n",
       "      <th>2</th>\n",
       "      <td>1928</td>\n",
       "      <td>MEASLES</td>\n",
       "      <td>ARKANSAS</td>\n",
       "      <td>9.832041</td>\n",
       "      <td>181.612245</td>\n",
       "      <td>8899</td>\n",
       "      <td>[-94.26958, -94.30425, -94.34879, -94.40149, -...</td>\n",
       "      <td>[33.56679, 33.56656, 33.55479, 33.55887, 33.57...</td>\n",
       "    </tr>\n",
       "    <tr>\n",
       "      <th>3</th>\n",
       "      <td>1928</td>\n",
       "      <td>MEASLES</td>\n",
       "      <td>CALIFORNIA</td>\n",
       "      <td>1.331154</td>\n",
       "      <td>71.115385</td>\n",
       "      <td>3698</td>\n",
       "      <td>[-123.00111, -122.99754, -122.99509, -122.9874...</td>\n",
       "      <td>[37.77205, 37.77078, 37.76913, 37.76387, 37.75...</td>\n",
       "    </tr>\n",
       "    <tr>\n",
       "      <th>4</th>\n",
       "      <td>1928</td>\n",
       "      <td>MEASLES</td>\n",
       "      <td>COLORADO</td>\n",
       "      <td>4.312083</td>\n",
       "      <td>43.729167</td>\n",
       "      <td>2099</td>\n",
       "      <td>[-109.04984, -109.06017, -109.06015, -109.0565...</td>\n",
       "      <td>[38.215, 38.40118, 38.60929, 38.81393, 38.9578...</td>\n",
       "    </tr>\n",
       "  </tbody>\n",
       "</table>\n",
       "</div>"
      ],
      "text/plain": [
       "   year  disease  state_name  avg_incidence_per_week  avg_cases_per_week  \\\n",
       "0  1928  MEASLES     ALABAMA                6.442115          170.057692   \n",
       "1  1928  MEASLES     ARIZONA                4.779762           20.166667   \n",
       "2  1928  MEASLES    ARKANSAS                9.832041          181.612245   \n",
       "3  1928  MEASLES  CALIFORNIA                1.331154           71.115385   \n",
       "4  1928  MEASLES    COLORADO                4.312083           43.729167   \n",
       "\n",
       "   total_cases_per_year                                               lons  \\\n",
       "0                  8843  [-87.58552, -87.59581, -87.62123, -87.6272, -8...   \n",
       "1                   847  [-114.63332, -114.63349, -114.63423, -114.6089...   \n",
       "2                  8899  [-94.26958, -94.30425, -94.34879, -94.40149, -...   \n",
       "3                  3698  [-123.00111, -122.99754, -122.99509, -122.9874...   \n",
       "4                  2099  [-109.04984, -109.06017, -109.06015, -109.0565...   \n",
       "\n",
       "                                                lats  \n",
       "0  [30.99763, 30.94243, 30.89199, 30.85923, 30.83...  \n",
       "1  [34.87057, 35.00186, 35.00332, 35.07971, 35.11...  \n",
       "2  [33.56679, 33.56656, 33.55479, 33.55887, 33.57...  \n",
       "3  [37.77205, 37.77078, 37.76913, 37.76387, 37.75...  \n",
       "4  [38.215, 38.40118, 38.60929, 38.81393, 38.9578...  "
      ]
     },
     "execution_count": 19,
     "metadata": {},
     "output_type": "execute_result"
    }
   ],
   "source": [
    "measles_summary.head()"
   ]
  },
  {
   "cell_type": "markdown",
   "metadata": {},
   "source": [
    "<h1>Exploring the data with simple bars and lines</h1>"
   ]
  },
  {
   "cell_type": "code",
   "execution_count": 27,
   "metadata": {},
   "outputs": [],
   "source": [
    "def bar_plot(src):\n",
    "    states = src[\"state_name\"] \n",
    "    bar = figure(plot_width=800, plot_height=500, title=\"Total cases of Measles in the United States {}\".format(src[\"year\"][0]),\n",
    "           x_range=states, toolbar_location=None, tools=\"\")\n",
    "    bar.xgrid.grid_line_color = None\n",
    "    bar.xaxis.axis_label = \"States\"\n",
    "    bar.xaxis.major_label_orientation = 1.2\n",
    "\n",
    "    bar.vbar(x='state_name', top='total_cases_per_year', width=1, source=src,\n",
    "           line_color=\"white\", fill_color=\"#3d84f7\", fill_alpha = \"avg_incidence_per_week\", \n",
    "           hover_line_color=\"black\", hover_fill_color=\"#4a81db\")\n",
    "\n",
    "    return bar"
   ]
  },
  {
   "cell_type": "code",
   "execution_count": 28,
   "metadata": {},
   "outputs": [],
   "source": [
    "def line_plot(src):\n",
    "    weeks = src[\"week_num\"]\n",
    "    line = figure(xrange = weeks, plot_width=800, plot_height=500,  title=\"Incidence of Measles in the United States\", \n",
    "               toolbar_location=None, tools=\"\")\n",
    "    \n",
    "    line.line(x=\"week_num\", y=\"incidence_per_capita\", color = \"state_name\", line_width=2, source = src)\n",
    "    \n",
    "    return line"
   ]
  },
  {
   "cell_type": "code",
   "execution_count": 29,
   "metadata": {},
   "outputs": [
    {
     "data": {
      "text/html": [
       "\n",
       "\n",
       "\n",
       "\n",
       "\n",
       "\n",
       "  <div class=\"bk-root\" id=\"7ecbfdd3-1445-4e61-b347-507b02f81d1f\"></div>\n"
      ]
     },
     "metadata": {},
     "output_type": "display_data"
    },
    {
     "data": {
      "application/javascript": [
       "(function(root) {\n",
       "  function embed_document(root) {\n",
       "    \n",
       "  var docs_json = {\"3d420c1f-9016-4b58-9c8a-522f88f0fef6\":{\"roots\":{\"references\":[{\"attributes\":{},\"id\":\"a8ae9292-4111-4326-ae9a-c9425b1a66a0\",\"type\":\"CategoricalTickFormatter\"},{\"attributes\":{\"fill_alpha\":{\"field\":\"avg_incidence_per_week\"},\"fill_color\":{\"value\":\"#3d84f7\"},\"line_color\":{\"value\":\"white\"},\"top\":{\"field\":\"total_cases_per_year\"},\"width\":{\"value\":1},\"x\":{\"field\":\"state_name\"}},\"id\":\"053414e6-9715-47e8-94d2-a0b922f7fcc2\",\"type\":\"VBar\"},{\"attributes\":{},\"id\":\"e447fdfb-786c-4b11-b788-2e33e4c29ea0\",\"type\":\"BasicTickFormatter\"},{\"attributes\":{\"plot\":null,\"text\":\"Total cases of Measles in the United States 1928\"},\"id\":\"8a2a4d90-0fc7-4e4c-b275-5a89cccfe75a\",\"type\":\"Title\"},{\"attributes\":{\"formatter\":{\"id\":\"e447fdfb-786c-4b11-b788-2e33e4c29ea0\",\"type\":\"BasicTickFormatter\"},\"plot\":{\"id\":\"08d0ab77-84e3-4c89-9c6b-cd326a1f1365\",\"subtype\":\"Figure\",\"type\":\"Plot\"},\"ticker\":{\"id\":\"01f9b0d1-f597-410c-bcfe-77640cccb3a8\",\"type\":\"BasicTicker\"}},\"id\":\"b6252863-53f4-40a0-aa8e-865569c10137\",\"type\":\"LinearAxis\"},{\"attributes\":{\"below\":[{\"id\":\"8d2f9d04-9ace-4448-9892-a289ada92461\",\"type\":\"CategoricalAxis\"}],\"left\":[{\"id\":\"b6252863-53f4-40a0-aa8e-865569c10137\",\"type\":\"LinearAxis\"}],\"plot_height\":500,\"plot_width\":800,\"renderers\":[{\"id\":\"8d2f9d04-9ace-4448-9892-a289ada92461\",\"type\":\"CategoricalAxis\"},{\"id\":\"0478cc3d-c241-4451-800e-bf5cb2d4271c\",\"type\":\"Grid\"},{\"id\":\"b6252863-53f4-40a0-aa8e-865569c10137\",\"type\":\"LinearAxis\"},{\"id\":\"56df143c-403c-4bc4-b7a9-974c91b67eba\",\"type\":\"Grid\"},{\"id\":\"917f3e62-165a-499f-b18b-00bce8c5103f\",\"type\":\"GlyphRenderer\"}],\"title\":{\"id\":\"8a2a4d90-0fc7-4e4c-b275-5a89cccfe75a\",\"type\":\"Title\"},\"toolbar\":{\"id\":\"e3c71e90-1156-4ffa-a76d-1eaccd5d5262\",\"type\":\"Toolbar\"},\"toolbar_location\":null,\"x_range\":{\"id\":\"1ca1b1c0-fae8-484d-b2c5-e5db2d0477f0\",\"type\":\"FactorRange\"},\"x_scale\":{\"id\":\"3fe141e3-66ea-490e-a957-8f9fce0b6987\",\"type\":\"CategoricalScale\"},\"y_range\":{\"id\":\"8307c95f-60d1-4ab1-9f02-8d6795decd53\",\"type\":\"DataRange1d\"},\"y_scale\":{\"id\":\"813ba2cf-05b7-4730-899b-17f5d3842296\",\"type\":\"LinearScale\"}},\"id\":\"08d0ab77-84e3-4c89-9c6b-cd326a1f1365\",\"subtype\":\"Figure\",\"type\":\"Plot\"},{\"attributes\":{},\"id\":\"fc48a954-3d4b-4b58-9b57-118389d55399\",\"type\":\"CategoricalTicker\"},{\"attributes\":{},\"id\":\"813ba2cf-05b7-4730-899b-17f5d3842296\",\"type\":\"LinearScale\"},{\"attributes\":{\"callback\":null,\"data\":{\"avg_cases_per_week\":{\"__ndarray__\":\"ntiJndhBZUCrqqqqqio0QBW8nIKXs2ZAdmIndmLHUUBVVVVVVd1FQCd2Yid2EmhAH4PzMTgfLUBCHdRBHVRSQDzijrgj7kNA8GzUdzaqWEA7sRM7sRMLQE/sxE7s5GFAxU7sxE5cZEAUrkfhehQ8QLETO7ETW0hAeHh4eHhoZECXlpaWllZaQGlpaWlpaU9Aip3YiZ0UdUCSkZGRkVmJQDuxEzuxs35AsRM7sRO7Q0AAAAAAAAAAAMnIyMjIiGFAq6qqqqqKL0AAAAAAAJA2QPqkT/qkTzxAxU7sxE4Cg0BddNFFF11PQAUFBQUFGZdAq6qqqupLkkBddNFFF90gQHg5BS+nAH5APQrXo3B9X0BiJ3ZiJxZEQJ7YiZ3YMpFArkfhehTuWEAqa8qassZ8QAu2YAu2YDhAJO6IO+IOaEDMKXg5BS9cQFFeQ3kN5QFAq6qqqqr6OEBiJ3ZiJ7ZZQDuxEzux809AJ3ZiJ3aCUUAlSZIkSZIsQA==\",\"dtype\":\"float64\",\"shape\":[47]},\"avg_incidence_per_week\":{\"__ndarray__\":\"F+035bnEGUDoeZ7neR4TQIUe/kABqiNAYM6y+WdM9T9fLPnFkj8RQL/QC73QayhA+xakb0H6GEAW8VhwgJsuQOtbillYPwZAksd0WCYwC0CUjk9fWxzoP9UWBwtKOv4/7N4hUUVIFEAzETY8vVLyP9m9Q6KKEAVAcaTXCj5xGUBr0TeeBGsUQIZTIO25hh9AYfPPmCbzNEC67yJWiTwzQPJCL/RCDyVA95vyXAJZ+D8AAAAAAAAAAC31wY5bKA9Aj8L1KFxPB0AREREREVH6P9wfZKjsMBhA9FwCWcOoLkBM4XoUricuQPvJlmMwfSlA+cWSXyz/QkBETT/U9EP0P4Ff/2oADh1AFqfoSC5/FUBeWxwsKCkRQFyplVqpdSZA8cnDQq1pLUAxBoKq/Hk6QGlrCD8PeQxAXq04pqJXHUDBhYBRqsn/P+irkypjWNw/YWZmZmbmG0DL5p8xTYYaQJ5l88+YJg5AI1FFiLcrA0AWX/EVX/EZQA==\",\"dtype\":\"float64\",\"shape\":[47]},\"disease\":[\"MEASLES\",\"MEASLES\",\"MEASLES\",\"MEASLES\",\"MEASLES\",\"MEASLES\",\"MEASLES\",\"MEASLES\",\"MEASLES\",\"MEASLES\",\"MEASLES\",\"MEASLES\",\"MEASLES\",\"MEASLES\",\"MEASLES\",\"MEASLES\",\"MEASLES\",\"MEASLES\",\"MEASLES\",\"MEASLES\",\"MEASLES\",\"MEASLES\",\"MEASLES\",\"MEASLES\",\"MEASLES\",\"MEASLES\",\"MEASLES\",\"MEASLES\",\"MEASLES\",\"MEASLES\",\"MEASLES\",\"MEASLES\",\"MEASLES\",\"MEASLES\",\"MEASLES\",\"MEASLES\",\"MEASLES\",\"MEASLES\",\"MEASLES\",\"MEASLES\",\"MEASLES\",\"MEASLES\",\"MEASLES\",\"MEASLES\",\"MEASLES\",\"MEASLES\",\"MEASLES\"],\"index\":[0,1,2,3,4,5,6,7,8,9,10,11,12,13,14,15,16,17,18,19,20,21,22,23,24,25,26,27,28,29,30,31,32,33,34,35,36,37,38,39,40,41,42,43,44,45,46],\"state_name\":[\"ALABAMA\",\"ARIZONA\",\"ARKANSAS\",\"CALIFORNIA\",\"COLORADO\",\"CONNECTICUT\",\"DELAWARE\",\"DISTRICT OF COLUMBIA\",\"FLORIDA\",\"GEORGIA\",\"IDAHO\",\"ILLINOIS\",\"INDIANA\",\"IOWA\",\"KANSAS\",\"KENTUCKY\",\"LOUISIANA\",\"MAINE\",\"MARYLAND\",\"MASSACHUSETTS\",\"MICHIGAN\",\"MINNESOTA\",\"MISSISSIPPI\",\"MISSOURI\",\"MONTANA\",\"NEBRASKA\",\"NEW HAMPSHIRE\",\"NEW JERSEY\",\"NEW MEXICO\",\"NEW YORK\",\"NORTH CAROLINA\",\"NORTH DAKOTA\",\"OHIO\",\"OKLAHOMA\",\"OREGON\",\"PENNSYLVANIA\",\"RHODE ISLAND\",\"SOUTH CAROLINA\",\"SOUTH DAKOTA\",\"TENNESSEE\",\"TEXAS\",\"UTAH\",\"VERMONT\",\"WASHINGTON\",\"WEST VIRGINIA\",\"WISCONSIN\",\"WYOMING\"],\"total_cases_per_year\":[8843,847,8899,3698,2099,10014,597,2566,1714,4637,88,7444,8470,702,2533,5551,5373,3204,17539,41371,25544,2052,0,7154,757,1083,1274,31631,2760,75391,56207,371,23522,6298,2089,57237,4986,19798,1097,8276,5524,85,1199,5348,3323,3642,500],\"year\":[1928,1928,1928,1928,1928,1928,1928,1928,1928,1928,1928,1928,1928,1928,1928,1928,1928,1928,1928,1928,1928,1928,1928,1928,1928,1928,1928,1928,1928,1928,1928,1928,1928,1928,1928,1928,1928,1928,1928,1928,1928,1928,1928,1928,1928,1928,1928]},\"selected\":{\"id\":\"4e5597ab-72bc-4155-97c9-3dd45a66d134\",\"type\":\"Selection\"},\"selection_policy\":{\"id\":\"151bbc49-e74b-4464-b945-d53dc9a58622\",\"type\":\"UnionRenderers\"}},\"id\":\"5ef1ceae-4dd8-49b8-b770-0b77ddff57c4\",\"type\":\"ColumnDataSource\"},{\"attributes\":{\"callback\":null,\"factors\":[\"ALABAMA\",\"ARIZONA\",\"ARKANSAS\",\"CALIFORNIA\",\"COLORADO\",\"CONNECTICUT\",\"DELAWARE\",\"DISTRICT OF COLUMBIA\",\"FLORIDA\",\"GEORGIA\",\"IDAHO\",\"ILLINOIS\",\"INDIANA\",\"IOWA\",\"KANSAS\",\"KENTUCKY\",\"LOUISIANA\",\"MAINE\",\"MARYLAND\",\"MASSACHUSETTS\",\"MICHIGAN\",\"MINNESOTA\",\"MISSISSIPPI\",\"MISSOURI\",\"MONTANA\",\"NEBRASKA\",\"NEW HAMPSHIRE\",\"NEW JERSEY\",\"NEW MEXICO\",\"NEW YORK\",\"NORTH CAROLINA\",\"NORTH DAKOTA\",\"OHIO\",\"OKLAHOMA\",\"OREGON\",\"PENNSYLVANIA\",\"RHODE ISLAND\",\"SOUTH CAROLINA\",\"SOUTH DAKOTA\",\"TENNESSEE\",\"TEXAS\",\"UTAH\",\"VERMONT\",\"WASHINGTON\",\"WEST VIRGINIA\",\"WISCONSIN\",\"WYOMING\"]},\"id\":\"1ca1b1c0-fae8-484d-b2c5-e5db2d0477f0\",\"type\":\"FactorRange\"},{\"attributes\":{\"active_drag\":\"auto\",\"active_inspect\":\"auto\",\"active_multi\":null,\"active_scroll\":\"auto\",\"active_tap\":\"auto\"},\"id\":\"e3c71e90-1156-4ffa-a76d-1eaccd5d5262\",\"type\":\"Toolbar\"},{\"attributes\":{},\"id\":\"01f9b0d1-f597-410c-bcfe-77640cccb3a8\",\"type\":\"BasicTicker\"},{\"attributes\":{\"dimension\":1,\"plot\":{\"id\":\"08d0ab77-84e3-4c89-9c6b-cd326a1f1365\",\"subtype\":\"Figure\",\"type\":\"Plot\"},\"ticker\":{\"id\":\"01f9b0d1-f597-410c-bcfe-77640cccb3a8\",\"type\":\"BasicTicker\"}},\"id\":\"56df143c-403c-4bc4-b7a9-974c91b67eba\",\"type\":\"Grid\"},{\"attributes\":{\"axis_label\":\"States\",\"formatter\":{\"id\":\"a8ae9292-4111-4326-ae9a-c9425b1a66a0\",\"type\":\"CategoricalTickFormatter\"},\"major_label_orientation\":1.2,\"plot\":{\"id\":\"08d0ab77-84e3-4c89-9c6b-cd326a1f1365\",\"subtype\":\"Figure\",\"type\":\"Plot\"},\"ticker\":{\"id\":\"fc48a954-3d4b-4b58-9b57-118389d55399\",\"type\":\"CategoricalTicker\"}},\"id\":\"8d2f9d04-9ace-4448-9892-a289ada92461\",\"type\":\"CategoricalAxis\"},{\"attributes\":{\"fill_alpha\":{\"value\":0.1},\"fill_color\":{\"value\":\"#1f77b4\"},\"line_alpha\":{\"value\":0.1},\"line_color\":{\"value\":\"#1f77b4\"},\"top\":{\"field\":\"total_cases_per_year\"},\"width\":{\"value\":1},\"x\":{\"field\":\"state_name\"}},\"id\":\"97d8e9ab-01e9-4fda-885a-4d8dd9c80c31\",\"type\":\"VBar\"},{\"attributes\":{\"callback\":null},\"id\":\"8307c95f-60d1-4ab1-9f02-8d6795decd53\",\"type\":\"DataRange1d\"},{\"attributes\":{\"data_source\":{\"id\":\"5ef1ceae-4dd8-49b8-b770-0b77ddff57c4\",\"type\":\"ColumnDataSource\"},\"glyph\":{\"id\":\"053414e6-9715-47e8-94d2-a0b922f7fcc2\",\"type\":\"VBar\"},\"hover_glyph\":{\"id\":\"b86e01a4-9871-4f45-860e-d71fd08fbc62\",\"type\":\"VBar\"},\"muted_glyph\":null,\"nonselection_glyph\":{\"id\":\"97d8e9ab-01e9-4fda-885a-4d8dd9c80c31\",\"type\":\"VBar\"},\"selection_glyph\":null,\"view\":{\"id\":\"f2f26d78-f7c2-4f71-a460-69437680d290\",\"type\":\"CDSView\"}},\"id\":\"917f3e62-165a-499f-b18b-00bce8c5103f\",\"type\":\"GlyphRenderer\"},{\"attributes\":{},\"id\":\"3fe141e3-66ea-490e-a957-8f9fce0b6987\",\"type\":\"CategoricalScale\"},{\"attributes\":{\"grid_line_color\":{\"value\":null},\"plot\":{\"id\":\"08d0ab77-84e3-4c89-9c6b-cd326a1f1365\",\"subtype\":\"Figure\",\"type\":\"Plot\"},\"ticker\":{\"id\":\"fc48a954-3d4b-4b58-9b57-118389d55399\",\"type\":\"CategoricalTicker\"}},\"id\":\"0478cc3d-c241-4451-800e-bf5cb2d4271c\",\"type\":\"Grid\"},{\"attributes\":{},\"id\":\"4e5597ab-72bc-4155-97c9-3dd45a66d134\",\"type\":\"Selection\"},{\"attributes\":{},\"id\":\"151bbc49-e74b-4464-b945-d53dc9a58622\",\"type\":\"UnionRenderers\"},{\"attributes\":{\"source\":{\"id\":\"5ef1ceae-4dd8-49b8-b770-0b77ddff57c4\",\"type\":\"ColumnDataSource\"}},\"id\":\"f2f26d78-f7c2-4f71-a460-69437680d290\",\"type\":\"CDSView\"},{\"attributes\":{\"fill_color\":{\"value\":\"#4a81db\"},\"top\":{\"field\":\"total_cases_per_year\"},\"width\":{\"value\":1},\"x\":{\"field\":\"state_name\"}},\"id\":\"b86e01a4-9871-4f45-860e-d71fd08fbc62\",\"type\":\"VBar\"}],\"root_ids\":[\"08d0ab77-84e3-4c89-9c6b-cd326a1f1365\"]},\"title\":\"Bokeh Application\",\"version\":\"0.13.0\"}};\n",
       "  var render_items = [{\"docid\":\"3d420c1f-9016-4b58-9c8a-522f88f0fef6\",\"roots\":{\"08d0ab77-84e3-4c89-9c6b-cd326a1f1365\":\"7ecbfdd3-1445-4e61-b347-507b02f81d1f\"}}];\n",
       "  root.Bokeh.embed.embed_items_notebook(docs_json, render_items);\n",
       "\n",
       "  }\n",
       "  if (root.Bokeh !== undefined) {\n",
       "    embed_document(root);\n",
       "  } else {\n",
       "    var attempts = 0;\n",
       "    var timer = setInterval(function(root) {\n",
       "      if (root.Bokeh !== undefined) {\n",
       "        embed_document(root);\n",
       "        clearInterval(timer);\n",
       "      }\n",
       "      attempts++;\n",
       "      if (attempts > 100) {\n",
       "        console.log(\"Bokeh: ERROR: Unable to run BokehJS code because BokehJS library is missing\")\n",
       "        clearInterval(timer);\n",
       "      }\n",
       "    }, 10, root)\n",
       "  }\n",
       "})(window);"
      ],
      "application/vnd.bokehjs_exec.v0+json": ""
     },
     "metadata": {
      "application/vnd.bokehjs_exec.v0+json": {
       "id": "08d0ab77-84e3-4c89-9c6b-cd326a1f1365"
      }
     },
     "output_type": "display_data"
    }
   ],
   "source": [
    "show(bar_plot(measles_yealy_data[measles_yealy_data[\"year\"] == 1928]))"
   ]
  },
  {
   "cell_type": "code",
   "execution_count": null,
   "metadata": {},
   "outputs": [],
   "source": []
  },
  {
   "cell_type": "markdown",
   "metadata": {},
   "source": [
    "<h1>Making maps in Bokeh!</h1>"
   ]
  },
  {
   "cell_type": "markdown",
   "metadata": {},
   "source": [
    "<h2>Make the Measles dataset</h2>"
   ]
  },
  {
   "cell_type": "code",
   "execution_count": 14,
   "metadata": {},
   "outputs": [],
   "source": [
    "def create_data(year):\n",
    "    df = measles_summary[measles_summary[\"year\"] == year]\n",
    "    df = df.dropna()\n",
    "    assert len(df) > 0, \"No data for this disease and year combination\"\n",
    "\n",
    "    data = dict(\n",
    "        state_name = df[\"state_name\"],\n",
    "        x = df['lons'].values.tolist(),\n",
    "        y = df['lats'].values.tolist(),\n",
    "        incidence_per_capita = df[\"incidence_per_capita\"],\n",
    "        cases = df[\"cases\"]\n",
    "    )\n",
    "\n",
    "    return ColumnDataSource(data)"
   ]
  },
  {
   "cell_type": "markdown",
   "metadata": {},
   "source": [
    "<h2>Build a map</h2>"
   ]
  },
  {
   "cell_type": "code",
   "execution_count": 15,
   "metadata": {},
   "outputs": [],
   "source": [
    "def build_map(src):\n",
    "\n",
    "    TOOLS = \"pan,wheel_zoom,reset,hover,save\"\n",
    "    colors = [\"#A7D49B\", \"#92AC86\", \"#696047\", \"#55251D\", \"#5A1807\"]\n",
    "    color_mapper = LinearColorMapper(palette=colors, low=src.data[\"incidence_per_capita\"].min(), high=src.data[\"incidence_per_capita\"].max())\n",
    "    p = figure(\n",
    "        title=\"US States\", tools=TOOLS,\n",
    "        x_axis_location=None, y_axis_location=None,\n",
    "        tooltips=[\n",
    "            (\"Name\", \"@state_name\"), (\"Average incidences per capita\", \"@incidence_per_capita\"), (\"(Long, Lat)\", \"($x, $y)\")\n",
    "        ], plot_width=1000, plot_height=600)\n",
    "    p.grid.grid_line_color = None\n",
    "    p.hover.point_policy = \"follow_mouse\"\n",
    "    p.patches('x', 'y', source=src,\n",
    "              fill_color={'field': 'incidence_per_capita', 'transform': color_mapper},\n",
    "              fill_alpha=0.7, line_color=\"white\", line_width=0.5)\n",
    "\n",
    "    return p"
   ]
  },
  {
   "cell_type": "markdown",
   "metadata": {},
   "source": [
    "<h2>Make widgets for controlling the map</h2>"
   ]
  },
  {
   "cell_type": "code",
   "execution_count": 16,
   "metadata": {},
   "outputs": [],
   "source": [
    "#Starting data\n",
    "src = create_data(1928)"
   ]
  },
  {
   "cell_type": "code",
   "execution_count": 17,
   "metadata": {},
   "outputs": [],
   "source": [
    "choose_year = Slider(start=measles_summary[\"year\"].min(), end=measles_summary[\"year\"].max(), value=measles_summary[\"year\"].min(), step = 1, title = \"Year\")"
   ]
  },
  {
   "cell_type": "code",
   "execution_count": 18,
   "metadata": {},
   "outputs": [
    {
     "data": {
      "text/html": [
       "\n",
       "\n",
       "\n",
       "\n",
       "\n",
       "\n",
       "  <div class=\"bk-root\" id=\"9ec70753-43bc-4548-88e6-70ba73f5fb25\"></div>\n"
      ]
     },
     "metadata": {},
     "output_type": "display_data"
    },
    {
     "data": {
      "application/javascript": [
       "(function(root) {\n",
       "  function embed_document(root) {\n",
       "    \n",
       "  var docs_json = {\"6a178e3b-6557-4fb1-ad10-6d9c09d9c161\":{\"roots\":{\"references\":[{\"attributes\":{\"callback\":null,\"end\":2002,\"start\":1928,\"title\":\"Year\",\"value\":1928},\"id\":\"aa0f96f5-345d-47ae-8f98-1ecf84be4146\",\"type\":\"Slider\"}],\"root_ids\":[\"aa0f96f5-345d-47ae-8f98-1ecf84be4146\"]},\"title\":\"Bokeh Application\",\"version\":\"0.13.0\"}};\n",
       "  var render_items = [{\"docid\":\"6a178e3b-6557-4fb1-ad10-6d9c09d9c161\",\"roots\":{\"aa0f96f5-345d-47ae-8f98-1ecf84be4146\":\"9ec70753-43bc-4548-88e6-70ba73f5fb25\"}}];\n",
       "  root.Bokeh.embed.embed_items_notebook(docs_json, render_items);\n",
       "\n",
       "  }\n",
       "  if (root.Bokeh !== undefined) {\n",
       "    embed_document(root);\n",
       "  } else {\n",
       "    var attempts = 0;\n",
       "    var timer = setInterval(function(root) {\n",
       "      if (root.Bokeh !== undefined) {\n",
       "        embed_document(root);\n",
       "        clearInterval(timer);\n",
       "      }\n",
       "      attempts++;\n",
       "      if (attempts > 100) {\n",
       "        console.log(\"Bokeh: ERROR: Unable to run BokehJS code because BokehJS library is missing\")\n",
       "        clearInterval(timer);\n",
       "      }\n",
       "    }, 10, root)\n",
       "  }\n",
       "})(window);"
      ],
      "application/vnd.bokehjs_exec.v0+json": ""
     },
     "metadata": {
      "application/vnd.bokehjs_exec.v0+json": {
       "id": "aa0f96f5-345d-47ae-8f98-1ecf84be4146"
      }
     },
     "output_type": "display_data"
    }
   ],
   "source": [
    "show(choose_year)"
   ]
  },
  {
   "cell_type": "code",
   "execution_count": 19,
   "metadata": {},
   "outputs": [],
   "source": [
    "def update_map(attr, old, new):\n",
    "    choosen_year = choose_year.value\n",
    "    new_data = create_data(measles_summary, chosen_year)\n",
    "    src.data.update(new_data)"
   ]
  },
  {
   "cell_type": "code",
   "execution_count": 20,
   "metadata": {},
   "outputs": [],
   "source": [
    "choose_year.on_change(\"value\", update_map)"
   ]
  },
  {
   "cell_type": "markdown",
   "metadata": {},
   "source": [
    "<h2>Package it all together!</h2>"
   ]
  },
  {
   "cell_type": "code",
   "execution_count": 69,
   "metadata": {},
   "outputs": [],
   "source": [
    "def mapping_mmr(app):\n",
    "    \n",
    "    def create_data(year):\n",
    "        df = measles_summary[measles_summary[\"year\"] == year]\n",
    "        df = df.dropna()\n",
    "        assert len(df) > 0, \"No data for this disease and year combination\"\n",
    "        \n",
    "        data = dict(\n",
    "            state_name = df[\"state_name\"],\n",
    "            x = df['lons'].values.tolist(),\n",
    "            y = df['lats'].values.tolist(),\n",
    "            incidence_per_capita = df[\"avg_incidence_per_week\"],\n",
    "            total_cases = df[\"total_cases_per_year\"],\n",
    "            avg_cases = df[\"avg_cases_per_week\"]\n",
    "        )\n",
    "        \n",
    "        return ColumnDataSource(data)\n",
    "    \n",
    "    def build_map(src):\n",
    "\n",
    "        TOOLS = \"pan,wheel_zoom,reset,hover,save\"\n",
    "        #colors = [\"#75968f\", \"#a5bab7\", \"#c9d9d3\", \"#e2e2e2\", \"#dfccce\", \"#ddb7b1\", \"#cc7878\", \"#933b41\", \"#550b1d\"]\n",
    "        colors = [\"#A7D49B\", \"#92AC86\", \"#696047\", \"#55251D\", \"#5A1807\"]\n",
    "        color_mapper = LinearColorMapper(palette=colors, low=src.data[\"incidence_per_capita\"].min(), high=src.data[\"incidence_per_capita\"].max())\n",
    "        p = figure(\n",
    "            title=\"US States\", tools=TOOLS,\n",
    "            x_axis_location=None, y_axis_location=None,\n",
    "            tooltips=[\n",
    "                (\"Name\", \"@state_name\"), (\"Average incidences per capita per week\", \"@incidence_per_capita{1.11}\"), \n",
    "                (\"Average # of cases per week\", \"@avg_cases{1.11}\"), (\"Total cases in year\", \"@total_cases{1.11}\")\n",
    "            ], plot_width=1000, plot_height=600)\n",
    "        p.grid.grid_line_color = None\n",
    "        p.hover.point_policy = \"follow_mouse\"\n",
    "        p.patches('x', 'y', source=src,\n",
    "                  fill_color={'field': 'incidence_per_capita', 'transform': color_mapper},\n",
    "                  fill_alpha=0.7, line_color=\"white\", line_width=0.5)\n",
    "\n",
    "        return p\n",
    "    \n",
    "    def update_map(attr, old, new):\n",
    "        chosen_year = choose_year.value\n",
    "        new_data = create_data(chosen_year)\n",
    "        src.data.update(new_data.data)\n",
    "        \n",
    "    #Define Widgets\n",
    "    choose_year = Slider(start=1928, end=2002, value=1928, step = 1, title = \"Year\")\n",
    "    choose_year.on_change('value', update_map)\n",
    "    \n",
    "    #Select starting data\n",
    "    src = create_data(1928)\n",
    "    \n",
    "    #Init plot and set layout\n",
    "    controls = WidgetBox(choose_year)\n",
    "    p = build_map(src)\n",
    "    layout = column(controls, p)\n",
    "    \n",
    "    app.add_root(layout)\n",
    "    "
   ]
  },
  {
   "cell_type": "code",
   "execution_count": 70,
   "metadata": {},
   "outputs": [
    {
     "data": {
      "application/vnd.bokehjs_exec.v0+json": "",
      "text/html": [
       "\n",
       "<script src=\"http://localhost:37327/autoload.js?bokeh-autoload-element=36c27f2a-ca26-40cb-90e4-302c9f30d778&bokeh-absolute-url=http://localhost:37327&resources=none\" id=\"36c27f2a-ca26-40cb-90e4-302c9f30d778\"></script>"
      ]
     },
     "metadata": {
      "application/vnd.bokehjs_exec.v0+json": {
       "server_id": "5a0529073a294ccf82b3db517d73967f"
      }
     },
     "output_type": "display_data"
    }
   ],
   "source": [
    "handler = FunctionHandler(mapping_mmr)\n",
    "app = Application(handler)\n",
    "show(app)"
   ]
  },
  {
   "cell_type": "markdown",
   "metadata": {},
   "source": [
    "<h1>Creating a complete dashboard!</h1>"
   ]
  },
  {
   "cell_type": "code",
   "execution_count": null,
   "metadata": {},
   "outputs": [],
   "source": []
  }
 ],
 "metadata": {
  "kernelspec": {
   "display_name": "Python 3",
   "language": "python",
   "name": "python3"
  },
  "language_info": {
   "codemirror_mode": {
    "name": "ipython",
    "version": 3
   },
   "file_extension": ".py",
   "mimetype": "text/x-python",
   "name": "python",
   "nbconvert_exporter": "python",
   "pygments_lexer": "ipython3",
   "version": "3.6.3"
  }
 },
 "nbformat": 4,
 "nbformat_minor": 2
}
