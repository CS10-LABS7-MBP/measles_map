{
 "cells": [
  {
   "cell_type": "markdown",
   "metadata": {},
   "source": [
    "<h1>Getting started with Python, Pandas, and graphics libraries</h1>\n",
    "\n",
    "If you do not have Python installed locally, I recommend starting with the Anaconda distribution. This will come preloaded with a whole bunch of libraries commonly used in the Data Science world. It also comes with the Jupyter Notebook software, as well as a whole bunch of other tools.\n",
    "\n",
    "Download Anaconda using the link below and follow the installation instructions:\n",
    "https://www.anaconda.com/download\n",
    "\n",
    "I would also recommend downloading Git, ther version control software behind <a href=\"https://github.com/\">GitHub.</a>If you are completely new to the world of programming, I highly recommend the <a href=\"https://www.learnenough.com/\">Learn Enough</a> series. This is a great place to get started as a developer. I highly recommend completing the following:\n",
    "* https://www.learnenough.com/command-line-tutorial\n",
    "* https://www.learnenough.com/git-tutorial\n",
    "* https://www.learnenough.com/text-editor-tutorial\n",
    "\n",
    "<h2>The tutorials here</h2>\n",
    "\n",
    "The code in this project has three main dependancies:\n",
    "* Pandas (comes preloaded with Anaconda)\n",
    "* Seaborn\n",
    "* BokehJS\n",
    "\n",
    "To install a package to the core enviroment of your PC, use the following command\n",
    "\n",
    "`conda install PACKAGE_NAME`\n",
    "\n",
    "For example, to install Seaborn and BokehJS, execute the following commands in the command line:\n",
    "\n",
    "`conda install seaborn`\n",
    "\n",
    "`conda install bokeh`\n",
    "\n",
    "To download the code for this project, we want to navigate to my GitHub page, and download from the link here:\n",
    "* https://github.com/burtonbiomedical/measles_map\n",
    "\n",
    "If you have Git installed locally and are comfortable in doing so, please clone the repository using the following command:\n",
    "\n",
    "`git clone https://github.com/burtonbiomedical/measles_map.git`\n",
    "\n",
    "Otherwise, complete the following:\n",
    "* Click \"Clone or Download\"\n",
    "* Click \"Download Zip\"\n",
    "\n"
   ]
  },
  {
   "cell_type": "code",
   "execution_count": null,
   "metadata": {},
   "outputs": [],
   "source": []
  }
 ],
 "metadata": {
  "kernelspec": {
   "display_name": "Python 3",
   "language": "python",
   "name": "python3"
  },
  "language_info": {
   "codemirror_mode": {
    "name": "ipython",
    "version": 3
   },
   "file_extension": ".py",
   "mimetype": "text/x-python",
   "name": "python",
   "nbconvert_exporter": "python",
   "pygments_lexer": "ipython3",
   "version": "3.5.5"
  }
 },
 "nbformat": 4,
 "nbformat_minor": 2
}
