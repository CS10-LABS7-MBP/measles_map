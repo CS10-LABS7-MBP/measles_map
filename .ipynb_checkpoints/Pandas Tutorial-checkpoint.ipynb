{
 "cells": [
  {
   "cell_type": "markdown",
   "metadata": {},
   "source": [
    "<h1>Pandas Tutorial: Preparing Measles data ready for plotting</h1>\n",
    "\n",
    "Before you can make pretty plots like that demonstrated in the main notebook of this project, you need to get the data into a state in which it can be easily explored and manipulated. A tool in the Python arsenal that is great for this job is Pandas. This is a library that is used heavily within the world of Data Science and was designed in an effort to make Python more usable for data analysis and modelling. It shares many simularties in workflow seen in the R programming language and more specifically the TidyVerse packages.\n",
    "\n",
    "In this notebook you will find boilerplate code that will help guide you through all the steps I took in the notebook \"Exploring Measles with interactive plots\" for data wrangling - this term, 'wrangling', is what data scientists call the process of transforming data into a format more suitable for the analytical process. \n",
    "\n",
    "Lets start by importing Pandas"
   ]
  },
  {
   "cell_type": "code",
   "execution_count": 8,
   "metadata": {},
   "outputs": [],
   "source": [
    "#We import the pandas library under the alias 'pd'\n",
    "import pandas as pd\n",
    "import random"
   ]
  },
  {
   "cell_type": "markdown",
   "metadata": {},
   "source": [
    "With Pandas loaded into the script, you then want to import the data. Pandas has <a href=\"https://pandas.pydata.org/pandas-docs/stable/io.html\">multiple methods for importing data.</a> We are going to use the `read_csv` method to read in the csv file that contains the measles data, aptly called 'measles.csv'. You need to pass this method the name of the file as a string."
   ]
  },
  {
   "cell_type": "code",
   "execution_count": 2,
   "metadata": {},
   "outputs": [],
   "source": [
    "data = pd.read_csv(\"insert csv file name here\")"
   ]
  },
  {
   "cell_type": "markdown",
   "metadata": {},
   "source": [
    "The `read_csv` method retrieves the data and builds a Pandas DataFrame that we are storing here in the variable `data`.\n",
    "\n",
    "<h2>DataFrames</h2>\n",
    "\n",
    "At the center of Pandas is the Pandas DataFrame object. This is a two dimenstional tablular object with labelled axis, rows and columns; think of it as a bit like a table in an Excel document. Once our data is contained within a DataFrame object, we can take advantage of the various attributes and methods associated with this class. As an example of such methods and attributes, see the calls below:\n",
    "\n",
    "* `head` method displays the first few rows of a DataFrame (you can specify the number of rows by specifying 'n')\n",
    "* `describe` method provides some summary information for each column of the DataFrame\n",
    "* `shape` attribute provides a tuple detailing the number of rows and columns in the DataFrame\n",
    "\n",
    "There are many more methods and attributes that can be accessed within a Pandas DataFrame, and you can read more about them in the <a href=\"https://pandas.pydata.org/pandas-docs/stable/generated/pandas.DataFrame.html\">documentation.</a>"
   ]
  },
  {
   "cell_type": "code",
   "execution_count": 4,
   "metadata": {},
   "outputs": [
    {
     "data": {
      "text/html": [
       "<div>\n",
       "<style scoped>\n",
       "    .dataframe tbody tr th:only-of-type {\n",
       "        vertical-align: middle;\n",
       "    }\n",
       "\n",
       "    .dataframe tbody tr th {\n",
       "        vertical-align: top;\n",
       "    }\n",
       "\n",
       "    .dataframe thead th {\n",
       "        text-align: right;\n",
       "    }\n",
       "</style>\n",
       "<table border=\"1\" class=\"dataframe\">\n",
       "  <thead>\n",
       "    <tr style=\"text-align: right;\">\n",
       "      <th></th>\n",
       "      <th>week</th>\n",
       "      <th>state</th>\n",
       "      <th>state_name</th>\n",
       "      <th>disease</th>\n",
       "      <th>cases</th>\n",
       "      <th>incidence_per_capita</th>\n",
       "    </tr>\n",
       "  </thead>\n",
       "  <tbody>\n",
       "    <tr>\n",
       "      <th>0</th>\n",
       "      <td>192801</td>\n",
       "      <td>AL</td>\n",
       "      <td>ALABAMA</td>\n",
       "      <td>MEASLES</td>\n",
       "      <td>97</td>\n",
       "      <td>3.67</td>\n",
       "    </tr>\n",
       "    <tr>\n",
       "      <th>1</th>\n",
       "      <td>192801</td>\n",
       "      <td>AR</td>\n",
       "      <td>ARKANSAS</td>\n",
       "      <td>MEASLES</td>\n",
       "      <td>76</td>\n",
       "      <td>4.11</td>\n",
       "    </tr>\n",
       "    <tr>\n",
       "      <th>2</th>\n",
       "      <td>192801</td>\n",
       "      <td>AZ</td>\n",
       "      <td>ARIZONA</td>\n",
       "      <td>MEASLES</td>\n",
       "      <td>8</td>\n",
       "      <td>1.90</td>\n",
       "    </tr>\n",
       "    <tr>\n",
       "      <th>3</th>\n",
       "      <td>192801</td>\n",
       "      <td>CA</td>\n",
       "      <td>CALIFORNIA</td>\n",
       "      <td>MEASLES</td>\n",
       "      <td>74</td>\n",
       "      <td>1.38</td>\n",
       "    </tr>\n",
       "    <tr>\n",
       "      <th>4</th>\n",
       "      <td>192801</td>\n",
       "      <td>CO</td>\n",
       "      <td>COLORADO</td>\n",
       "      <td>MEASLES</td>\n",
       "      <td>85</td>\n",
       "      <td>8.38</td>\n",
       "    </tr>\n",
       "    <tr>\n",
       "      <th>5</th>\n",
       "      <td>192801</td>\n",
       "      <td>CT</td>\n",
       "      <td>CONNECTICUT</td>\n",
       "      <td>MEASLES</td>\n",
       "      <td>71</td>\n",
       "      <td>4.50</td>\n",
       "    </tr>\n",
       "    <tr>\n",
       "      <th>6</th>\n",
       "      <td>192801</td>\n",
       "      <td>DE</td>\n",
       "      <td>DELAWARE</td>\n",
       "      <td>MEASLES</td>\n",
       "      <td>20</td>\n",
       "      <td>8.58</td>\n",
       "    </tr>\n",
       "    <tr>\n",
       "      <th>7</th>\n",
       "      <td>192801</td>\n",
       "      <td>FL</td>\n",
       "      <td>FLORIDA</td>\n",
       "      <td>MEASLES</td>\n",
       "      <td>3</td>\n",
       "      <td>0.21</td>\n",
       "    </tr>\n",
       "    <tr>\n",
       "      <th>8</th>\n",
       "      <td>192801</td>\n",
       "      <td>GA</td>\n",
       "      <td>GEORGIA</td>\n",
       "      <td>MEASLES</td>\n",
       "      <td>34</td>\n",
       "      <td>1.17</td>\n",
       "    </tr>\n",
       "    <tr>\n",
       "      <th>9</th>\n",
       "      <td>192801</td>\n",
       "      <td>IA</td>\n",
       "      <td>IOWA</td>\n",
       "      <td>MEASLES</td>\n",
       "      <td>4</td>\n",
       "      <td>0.16</td>\n",
       "    </tr>\n",
       "  </tbody>\n",
       "</table>\n",
       "</div>"
      ],
      "text/plain": [
       "     week state   state_name  disease  cases  incidence_per_capita\n",
       "0  192801    AL      ALABAMA  MEASLES     97                  3.67\n",
       "1  192801    AR     ARKANSAS  MEASLES     76                  4.11\n",
       "2  192801    AZ      ARIZONA  MEASLES      8                  1.90\n",
       "3  192801    CA   CALIFORNIA  MEASLES     74                  1.38\n",
       "4  192801    CO     COLORADO  MEASLES     85                  8.38\n",
       "5  192801    CT  CONNECTICUT  MEASLES     71                  4.50\n",
       "6  192801    DE     DELAWARE  MEASLES     20                  8.58\n",
       "7  192801    FL      FLORIDA  MEASLES      3                  0.21\n",
       "8  192801    GA      GEORGIA  MEASLES     34                  1.17\n",
       "9  192801    IA         IOWA  MEASLES      4                  0.16"
      ]
     },
     "execution_count": 4,
     "metadata": {},
     "output_type": "execute_result"
    }
   ],
   "source": [
    "data.head(n = \"Insert the number of rows you wish to see as an integer here\")"
   ]
  },
  {
   "cell_type": "code",
   "execution_count": 5,
   "metadata": {},
   "outputs": [
    {
     "data": {
      "text/html": [
       "<div>\n",
       "<style scoped>\n",
       "    .dataframe tbody tr th:only-of-type {\n",
       "        vertical-align: middle;\n",
       "    }\n",
       "\n",
       "    .dataframe tbody tr th {\n",
       "        vertical-align: top;\n",
       "    }\n",
       "\n",
       "    .dataframe thead th {\n",
       "        text-align: right;\n",
       "    }\n",
       "</style>\n",
       "<table border=\"1\" class=\"dataframe\">\n",
       "  <thead>\n",
       "    <tr style=\"text-align: right;\">\n",
       "      <th></th>\n",
       "      <th>week</th>\n",
       "      <th>cases</th>\n",
       "      <th>incidence_per_capita</th>\n",
       "    </tr>\n",
       "  </thead>\n",
       "  <tbody>\n",
       "    <tr>\n",
       "      <th>count</th>\n",
       "      <td>145167.000000</td>\n",
       "      <td>145167.000000</td>\n",
       "      <td>145167.000000</td>\n",
       "    </tr>\n",
       "    <tr>\n",
       "      <th>mean</th>\n",
       "      <td>196012.188417</td>\n",
       "      <td>128.617372</td>\n",
       "      <td>4.445870</td>\n",
       "    </tr>\n",
       "    <tr>\n",
       "      <th>std</th>\n",
       "      <td>1918.861491</td>\n",
       "      <td>392.418360</td>\n",
       "      <td>11.053309</td>\n",
       "    </tr>\n",
       "    <tr>\n",
       "      <th>min</th>\n",
       "      <td>192801.000000</td>\n",
       "      <td>0.000000</td>\n",
       "      <td>0.000000</td>\n",
       "    </tr>\n",
       "    <tr>\n",
       "      <th>25%</th>\n",
       "      <td>194410.000000</td>\n",
       "      <td>1.000000</td>\n",
       "      <td>0.030000</td>\n",
       "    </tr>\n",
       "    <tr>\n",
       "      <th>50%</th>\n",
       "      <td>195937.000000</td>\n",
       "      <td>11.000000</td>\n",
       "      <td>0.530000</td>\n",
       "    </tr>\n",
       "    <tr>\n",
       "      <th>75%</th>\n",
       "      <td>197451.000000</td>\n",
       "      <td>73.000000</td>\n",
       "      <td>3.510000</td>\n",
       "    </tr>\n",
       "    <tr>\n",
       "      <th>max</th>\n",
       "      <td>200252.000000</td>\n",
       "      <td>10402.000000</td>\n",
       "      <td>683.060000</td>\n",
       "    </tr>\n",
       "  </tbody>\n",
       "</table>\n",
       "</div>"
      ],
      "text/plain": [
       "                week          cases  incidence_per_capita\n",
       "count  145167.000000  145167.000000         145167.000000\n",
       "mean   196012.188417     128.617372              4.445870\n",
       "std      1918.861491     392.418360             11.053309\n",
       "min    192801.000000       0.000000              0.000000\n",
       "25%    194410.000000       1.000000              0.030000\n",
       "50%    195937.000000      11.000000              0.530000\n",
       "75%    197451.000000      73.000000              3.510000\n",
       "max    200252.000000   10402.000000            683.060000"
      ]
     },
     "execution_count": 5,
     "metadata": {},
     "output_type": "execute_result"
    }
   ],
   "source": [
    "data.describe()"
   ]
  },
  {
   "cell_type": "code",
   "execution_count": 6,
   "metadata": {},
   "outputs": [
    {
     "data": {
      "text/plain": [
       "(145167, 6)"
      ]
     },
     "execution_count": 6,
     "metadata": {},
     "output_type": "execute_result"
    }
   ],
   "source": [
    "data.shape"
   ]
  },
  {
   "cell_type": "markdown",
   "metadata": {},
   "source": [
    "<h2>Fixing the time variable</h2>\n",
    "\n",
    "The first thing I did in the main notebook is split the week column into two new columns, year and week number. The first four digits of each row in the week column is the year and the last two digits is the week number. We can convert the values in this column to a string format and then use string indexing to extract the year and week number.\n",
    "\n",
    "Complete the examples below:"
   ]
  },
  {
   "cell_type": "code",
   "execution_count": null,
   "metadata": {},
   "outputs": [],
   "source": [
    "example_week = \"192801\"\n",
    "year = example_week[\"Use string indexing to select the first four elements\"]\n",
    "week_number = example_week[\"Use string indexing to select the last two elements\"]"
   ]
  },
  {
   "cell_type": "markdown",
   "metadata": {},
   "source": [
    "We're going to use two different methods for creating the year column and the week column, first with a `for` loop and then with a more efficient functional method.\n",
    "\n",
    "It is possible to loop over the rows of a Pandas DataFrame using the `iterrows` method, this returns the index and the row object. In the code section below is a `for` loop that accesses each row of the data object. For each row in the DataFrame, convert the value of the week column to a string and then append the year to the `year` list and the week number to the `week_num` list.\n",
    "\n",
    "You can access a column such as the week column as so: `row[\"week\"]`, supply the column name as a string in square brackets."
   ]
  },
  {
   "cell_type": "code",
   "execution_count": null,
   "metadata": {},
   "outputs": [],
   "source": [
    "year = []\n",
    "week_num = []\n",
    "for i, row in data.iterrows():\n",
    "    week = str(\"Access the week column here to convert its value to a string\")\n",
    "    #Convert back to an integer by passing the value to int()\n",
    "    year.append(int(week[\"Select the year\"]))\n",
    "    week_num.append(int(week[\"Select the week number\"]))"
   ]
  },
  {
   "cell_type": "code",
   "execution_count": null,
   "metadata": {},
   "outputs": [],
   "source": [
    "#DON'T CHANGE ANYTHING HERE\n",
    "#Run the code here to test your code\n",
    "random_i = [random.randint(0, len(data)) for x in range(5)] \n",
    "for x in random_i:\n",
    "    print(\"---------------------\")\n",
    "    print(\"Week value for data at index {}: {}\".format(x, data.loc[x][\"week\"]))\n",
    "    print(\"Extracted year value: {}\".format(year[x]))\n",
    "    print(\"Extracted week number value: {}\".format(week_num[x]))\n",
    "    print(\"---------------------\")"
   ]
  },
  {
   "cell_type": "markdown",
   "metadata": {},
   "source": [
    "Loops are messy and often less efficient than applying a function call, and for this reason you should avoid them. You should try to use the apply method instead.\n",
    "\n",
    "<h3>Apply method and lambda functions</h3>\n",
    "\n",
    "The `apply` method of the Pandas DataFrame object allows you apply a function across one of the axis of the DataFrame. The apply method can also be applied to a specific column, but first we need to talk about **Series**. Each column of a Pandas DataFrame is represented by a Series object, which has similar methods and attributes as the parent dataframe, but applied to that specific column. You can read more about Series <a href=\"https://pandas.pydata.org/pandas-docs/stable/generated/pandas.Series.html\">here.</a>\n",
    "\n",
    "You pass the apply method a function. This can be a predefined function like in the example below:"
   ]
  },
  {
   "cell_type": "code",
   "execution_count": 25,
   "metadata": {},
   "outputs": [],
   "source": [
    "example_data = pd.DataFrame({\"a\": [0,1,2,3,4,5], \"b\": [2, 4, 6, 8, 10, 12]})\n",
    "\n",
    "def example_function(x):\n",
    "    return x * 2"
   ]
  },
  {
   "cell_type": "code",
   "execution_count": 26,
   "metadata": {},
   "outputs": [
    {
     "data": {
      "text/plain": [
       "0     0\n",
       "1     2\n",
       "2     4\n",
       "3     6\n",
       "4     8\n",
       "5    10\n",
       "Name: a, dtype: int64"
      ]
     },
     "execution_count": 26,
     "metadata": {},
     "output_type": "execute_result"
    }
   ],
   "source": [
    "example_data[\"a\"].apply(example_function)"
   ]
  },
  {
   "cell_type": "code",
   "execution_count": 27,
   "metadata": {},
   "outputs": [
    {
     "data": {
      "text/plain": [
       "0     4\n",
       "1     8\n",
       "2    12\n",
       "3    16\n",
       "4    20\n",
       "5    24\n",
       "Name: b, dtype: int64"
      ]
     },
     "execution_count": 27,
     "metadata": {},
     "output_type": "execute_result"
    }
   ],
   "source": [
    "example_data[\"b\"].apply(example_function)"
   ]
  },
  {
   "cell_type": "markdown",
   "metadata": {},
   "source": [
    "There is also a special type of function known as an anonymous function. This is defined 'on the fly' instead of the function above. We can use the in-built `lambda` function which allows us to generate one line functions like so:\n",
    "\n",
    "`lambda x : do something with x`\n",
    "\n",
    "We can achieve the same as the above examples with the following apply function with a lambda call"
   ]
  },
  {
   "cell_type": "code",
   "execution_count": 28,
   "metadata": {},
   "outputs": [
    {
     "data": {
      "text/plain": [
       "0     0\n",
       "1     2\n",
       "2     4\n",
       "3     6\n",
       "4     8\n",
       "5    10\n",
       "Name: a, dtype: int64"
      ]
     },
     "execution_count": 28,
     "metadata": {},
     "output_type": "execute_result"
    }
   ],
   "source": [
    "example_data[\"a\"].apply(lambda x: x*2)"
   ]
  },
  {
   "cell_type": "code",
   "execution_count": 29,
   "metadata": {},
   "outputs": [
    {
     "data": {
      "text/plain": [
       "0     4\n",
       "1     8\n",
       "2    12\n",
       "3    16\n",
       "4    20\n",
       "5    24\n",
       "Name: b, dtype: int64"
      ]
     },
     "execution_count": 29,
     "metadata": {},
     "output_type": "execute_result"
    }
   ],
   "source": [
    "example_data[\"b\"].apply(lambda x: x*2)"
   ]
  },
  {
   "cell_type": "markdown",
   "metadata": {},
   "source": [
    "Lets now extra the year and week number, like we did with the for loop, but now using the apply method and a lambda function. I want you to complete the apply calls below, but as a hint, for an argument `x` we want to perform the operation `int(str(x)[0:4])` to extract the first four elements of a value (the year) and return it as an integer.\n",
    "\n",
    "Save the data back into the DataFrame by refering to a new column:"
   ]
  },
  {
   "cell_type": "code",
   "execution_count": null,
   "metadata": {},
   "outputs": [],
   "source": [
    "data[\"year\"] = data[\"week\"].apply(\"INSERT LAMBDA FUNCTION HERE\")\n",
    "data[\"week_num\"] = data[\"week\"].apply(\"INSERT LAMBDA FUNCTION HERE\")"
   ]
  },
  {
   "cell_type": "code",
   "execution_count": null,
   "metadata": {},
   "outputs": [],
   "source": [
    "data.head()"
   ]
  },
  {
   "cell_type": "markdown",
   "metadata": {},
   "source": [
    "With the new columns created, we can remove the original week column by using the `drop` method. Consult the <a href=\"https://pandas.pydata.org/pandas-docs/stable/generated/pandas.DataFrame.drop.html\">documentation</a> here and see if you can work out how to use the `drop` method, and use it to remove the original week column."
   ]
  },
  {
   "cell_type": "code",
   "execution_count": 30,
   "metadata": {},
   "outputs": [],
   "source": [
    "#Insert your call to the drop method here\n",
    "\n"
   ]
  },
  {
   "cell_type": "code",
   "execution_count": null,
   "metadata": {},
   "outputs": [],
   "source": [
    "data.head()"
   ]
  },
  {
   "cell_type": "markdown",
   "metadata": {},
   "source": [
    "<h2>Grouping and summarising</h2>"
   ]
  },
  {
   "cell_type": "markdown",
   "metadata": {},
   "source": [
    "Excellent! We now have a DataFrame that contains the seperated year and week number data. To finish off, lets create a `summarise` function similar to that which I used in \"Exploring Measles with interactive plots\" notebook. This function will take a DataFrame object, a list of columns to group the data by, and will return a new DataFrame object with the total number of cases for each group.\n",
    "\n",
    "This function will exploit a few powerful features of the Pandas library. To gain some intuition lets walk through this step by step, by grouping our data by state name, calualte the total number of cases, and then convert the results back into a DataFrame."
   ]
  },
  {
   "cell_type": "code",
   "execution_count": 31,
   "metadata": {},
   "outputs": [],
   "source": [
    "grouped_by_state = data.groupby(by = \"state_name\")"
   ]
  },
  {
   "cell_type": "markdown",
   "metadata": {},
   "source": [
    "`grouped_by_state` is a GroupBy object, an object in Pandas that allows us to apply methods in a grouped context. For example, the code below uses the `sum` method on the Series 'cases' which adds together the number of cases for each group, where each group is a unique state. This is an incredibly powerful concept in Pandas and allows you to group on multiple conditions and then create summaries of your data."
   ]
  },
  {
   "cell_type": "code",
   "execution_count": 35,
   "metadata": {},
   "outputs": [],
   "source": [
    "total_cases_by_state = grouped_by_state[\"cases\"].sum()"
   ]
  },
  {
   "cell_type": "code",
   "execution_count": 37,
   "metadata": {},
   "outputs": [
    {
     "data": {
      "text/plain": [
       "state_name\n",
       "ALABAMA        209582\n",
       "ALASKA          16908\n",
       "ARIZONA        160810\n",
       "ARKANSAS       134250\n",
       "CALIFORNIA    1376847\n",
       "Name: cases, dtype: int64"
      ]
     },
     "execution_count": 37,
     "metadata": {},
     "output_type": "execute_result"
    }
   ],
   "source": [
    "total_cases_by_state.head(5)"
   ]
  },
  {
   "cell_type": "markdown",
   "metadata": {},
   "source": [
    "See above how we have grouped by state name and calculated the total number of cases for each unique state."
   ]
  },
  {
   "cell_type": "code",
   "execution_count": 40,
   "metadata": {},
   "outputs": [],
   "source": [
    "total_cases_by_state = pd.DataFrame(total_cases_by_state).reset_index()"
   ]
  },
  {
   "cell_type": "code",
   "execution_count": 41,
   "metadata": {},
   "outputs": [
    {
     "data": {
      "text/html": [
       "<div>\n",
       "<style scoped>\n",
       "    .dataframe tbody tr th:only-of-type {\n",
       "        vertical-align: middle;\n",
       "    }\n",
       "\n",
       "    .dataframe tbody tr th {\n",
       "        vertical-align: top;\n",
       "    }\n",
       "\n",
       "    .dataframe thead th {\n",
       "        text-align: right;\n",
       "    }\n",
       "</style>\n",
       "<table border=\"1\" class=\"dataframe\">\n",
       "  <thead>\n",
       "    <tr style=\"text-align: right;\">\n",
       "      <th></th>\n",
       "      <th>state_name</th>\n",
       "      <th>cases</th>\n",
       "    </tr>\n",
       "  </thead>\n",
       "  <tbody>\n",
       "    <tr>\n",
       "      <th>0</th>\n",
       "      <td>ALABAMA</td>\n",
       "      <td>209582</td>\n",
       "    </tr>\n",
       "    <tr>\n",
       "      <th>1</th>\n",
       "      <td>ALASKA</td>\n",
       "      <td>16908</td>\n",
       "    </tr>\n",
       "    <tr>\n",
       "      <th>2</th>\n",
       "      <td>ARIZONA</td>\n",
       "      <td>160810</td>\n",
       "    </tr>\n",
       "    <tr>\n",
       "      <th>3</th>\n",
       "      <td>ARKANSAS</td>\n",
       "      <td>134250</td>\n",
       "    </tr>\n",
       "    <tr>\n",
       "      <th>4</th>\n",
       "      <td>CALIFORNIA</td>\n",
       "      <td>1376847</td>\n",
       "    </tr>\n",
       "  </tbody>\n",
       "</table>\n",
       "</div>"
      ],
      "text/plain": [
       "   state_name    cases\n",
       "0     ALABAMA   209582\n",
       "1      ALASKA    16908\n",
       "2     ARIZONA   160810\n",
       "3    ARKANSAS   134250\n",
       "4  CALIFORNIA  1376847"
      ]
     },
     "execution_count": 41,
     "metadata": {},
     "output_type": "execute_result"
    }
   ],
   "source": [
    "total_cases_by_state.head()"
   ]
  },
  {
   "cell_type": "code",
   "execution_count": 42,
   "metadata": {},
   "outputs": [],
   "source": [
    "total_cases_by_state = total_cases_by_state.rename(columns = {\"cases\": \"Total_Cases\"})"
   ]
  },
  {
   "cell_type": "code",
   "execution_count": 43,
   "metadata": {},
   "outputs": [
    {
     "data": {
      "text/html": [
       "<div>\n",
       "<style scoped>\n",
       "    .dataframe tbody tr th:only-of-type {\n",
       "        vertical-align: middle;\n",
       "    }\n",
       "\n",
       "    .dataframe tbody tr th {\n",
       "        vertical-align: top;\n",
       "    }\n",
       "\n",
       "    .dataframe thead th {\n",
       "        text-align: right;\n",
       "    }\n",
       "</style>\n",
       "<table border=\"1\" class=\"dataframe\">\n",
       "  <thead>\n",
       "    <tr style=\"text-align: right;\">\n",
       "      <th></th>\n",
       "      <th>state_name</th>\n",
       "      <th>Total_Cases</th>\n",
       "    </tr>\n",
       "  </thead>\n",
       "  <tbody>\n",
       "    <tr>\n",
       "      <th>0</th>\n",
       "      <td>ALABAMA</td>\n",
       "      <td>209582</td>\n",
       "    </tr>\n",
       "    <tr>\n",
       "      <th>1</th>\n",
       "      <td>ALASKA</td>\n",
       "      <td>16908</td>\n",
       "    </tr>\n",
       "    <tr>\n",
       "      <th>2</th>\n",
       "      <td>ARIZONA</td>\n",
       "      <td>160810</td>\n",
       "    </tr>\n",
       "    <tr>\n",
       "      <th>3</th>\n",
       "      <td>ARKANSAS</td>\n",
       "      <td>134250</td>\n",
       "    </tr>\n",
       "    <tr>\n",
       "      <th>4</th>\n",
       "      <td>CALIFORNIA</td>\n",
       "      <td>1376847</td>\n",
       "    </tr>\n",
       "  </tbody>\n",
       "</table>\n",
       "</div>"
      ],
      "text/plain": [
       "   state_name  Total_Cases\n",
       "0     ALABAMA       209582\n",
       "1      ALASKA        16908\n",
       "2     ARIZONA       160810\n",
       "3    ARKANSAS       134250\n",
       "4  CALIFORNIA      1376847"
      ]
     },
     "execution_count": 43,
     "metadata": {},
     "output_type": "execute_result"
    }
   ],
   "source": [
    "total_cases_by_state.head()"
   ]
  },
  {
   "cell_type": "code",
   "execution_count": null,
   "metadata": {},
   "outputs": [],
   "source": [
    "def summarise(df, group_by):\n",
    "    #Group the data using the argument 'group_by' and save the result into a variable called 'grouped'\n",
    "    grouped =\n",
    "    #Calulate the total number of cases and save the result into the variable 'total_cases'\n",
    "    total_cases =\n",
    "    #Convert total cases into a pandas dataframe object, use reset index to move the group index to a column\n",
    "    new_df =\n",
    "    #Rename the columns in new_df\n",
    "    new_df = new_df.rename(\"INSERT MAPPINGS\")\n",
    "    return new_df"
   ]
  }
 ],
 "metadata": {
  "kernelspec": {
   "display_name": "Python 3",
   "language": "python",
   "name": "python3"
  },
  "language_info": {
   "codemirror_mode": {
    "name": "ipython",
    "version": 3
   },
   "file_extension": ".py",
   "mimetype": "text/x-python",
   "name": "python",
   "nbconvert_exporter": "python",
   "pygments_lexer": "ipython3",
   "version": "3.5.5"
  }
 },
 "nbformat": 4,
 "nbformat_minor": 2
}
