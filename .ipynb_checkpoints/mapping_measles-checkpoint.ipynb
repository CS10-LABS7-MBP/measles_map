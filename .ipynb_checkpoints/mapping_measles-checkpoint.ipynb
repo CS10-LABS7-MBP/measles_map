{
 "cells": [
  {
   "cell_type": "markdown",
   "metadata": {},
   "source": [
    "<h1>Exploring infections through data: Mapping Measles</h1>\n",
    "\n",
    "In this notebook I'm going to explore creating an interactive map of the historical incidence rates (per 100,000 people) of measles in the USA. The data comes from Project Tycho, a colleciton of National Notifiable Disease Surveillance System reports, and is available for free from <a href=\"https://www.kaggle.com/pitt/contagious-diseases/home\">Kaggle</a>. There are multiple libraries in Python that can be used to create interactive visualisations of data, but in this notebook I will focus on the Bokeh JS API."
   ]
  },
  {
   "cell_type": "code",
   "execution_count": 90,
   "metadata": {},
   "outputs": [],
   "source": [
    "#Dependencies\n",
    "import pandas as pd\n",
    "import numpy as np\n",
    "from colour import Color"
   ]
  },
  {
   "cell_type": "code",
   "execution_count": 187,
   "metadata": {},
   "outputs": [],
   "source": [
    "#Import Bokeh\n",
    "from bokeh.io import output_notebook, show\n",
    "from bokeh.plotting import figure\n",
    "from bokeh.io import show\n",
    "from bokeh.models import LogColorMapper, ColumnDataSource, HoverTool, LinearColorMapper, ColorBar, Panel\n",
    "from bokeh.palettes import Viridis6, Spectral6\n",
    "from bokeh.plotting import figure\n",
    "from bokeh.models.widgets import Select, Slider, Tabs\n",
    "from bokeh.layouts import column, row, WidgetBox\n",
    "from bokeh.palettes import Oranges\n",
    "from bokeh.application.handlers import FunctionHandler\n",
    "from bokeh.application import Application\n",
    "from bokeh.transform import factor_cmap"
   ]
  },
  {
   "cell_type": "code",
   "execution_count": 71,
   "metadata": {},
   "outputs": [
    {
     "data": {
      "text/html": [
       "\n",
       "    <div class=\"bk-root\">\n",
       "        <a href=\"https://bokeh.pydata.org\" target=\"_blank\" class=\"bk-logo bk-logo-small bk-logo-notebook\"></a>\n",
       "        <span id=\"4d0163e5-162c-4334-9e32-df072c1b885e\">Loading BokehJS ...</span>\n",
       "    </div>"
      ]
     },
     "metadata": {},
     "output_type": "display_data"
    },
    {
     "data": {
      "application/javascript": [
       "\n",
       "(function(root) {\n",
       "  function now() {\n",
       "    return new Date();\n",
       "  }\n",
       "\n",
       "  var force = true;\n",
       "\n",
       "  if (typeof (root._bokeh_onload_callbacks) === \"undefined\" || force === true) {\n",
       "    root._bokeh_onload_callbacks = [];\n",
       "    root._bokeh_is_loading = undefined;\n",
       "  }\n",
       "\n",
       "  var JS_MIME_TYPE = 'application/javascript';\n",
       "  var HTML_MIME_TYPE = 'text/html';\n",
       "  var EXEC_MIME_TYPE = 'application/vnd.bokehjs_exec.v0+json';\n",
       "  var CLASS_NAME = 'output_bokeh rendered_html';\n",
       "\n",
       "  /**\n",
       "   * Render data to the DOM node\n",
       "   */\n",
       "  function render(props, node) {\n",
       "    var script = document.createElement(\"script\");\n",
       "    node.appendChild(script);\n",
       "  }\n",
       "\n",
       "  /**\n",
       "   * Handle when an output is cleared or removed\n",
       "   */\n",
       "  function handleClearOutput(event, handle) {\n",
       "    var cell = handle.cell;\n",
       "\n",
       "    var id = cell.output_area._bokeh_element_id;\n",
       "    var server_id = cell.output_area._bokeh_server_id;\n",
       "    // Clean up Bokeh references\n",
       "    if (id != null && id in Bokeh.index) {\n",
       "      Bokeh.index[id].model.document.clear();\n",
       "      delete Bokeh.index[id];\n",
       "    }\n",
       "\n",
       "    if (server_id !== undefined) {\n",
       "      // Clean up Bokeh references\n",
       "      var cmd = \"from bokeh.io.state import curstate; print(curstate().uuid_to_server['\" + server_id + \"'].get_sessions()[0].document.roots[0]._id)\";\n",
       "      cell.notebook.kernel.execute(cmd, {\n",
       "        iopub: {\n",
       "          output: function(msg) {\n",
       "            var id = msg.content.text.trim();\n",
       "            if (id in Bokeh.index) {\n",
       "              Bokeh.index[id].model.document.clear();\n",
       "              delete Bokeh.index[id];\n",
       "            }\n",
       "          }\n",
       "        }\n",
       "      });\n",
       "      // Destroy server and session\n",
       "      var cmd = \"import bokeh.io.notebook as ion; ion.destroy_server('\" + server_id + \"')\";\n",
       "      cell.notebook.kernel.execute(cmd);\n",
       "    }\n",
       "  }\n",
       "\n",
       "  /**\n",
       "   * Handle when a new output is added\n",
       "   */\n",
       "  function handleAddOutput(event, handle) {\n",
       "    var output_area = handle.output_area;\n",
       "    var output = handle.output;\n",
       "\n",
       "    // limit handleAddOutput to display_data with EXEC_MIME_TYPE content only\n",
       "    if ((output.output_type != \"display_data\") || (!output.data.hasOwnProperty(EXEC_MIME_TYPE))) {\n",
       "      return\n",
       "    }\n",
       "\n",
       "    var toinsert = output_area.element.find(\".\" + CLASS_NAME.split(' ')[0]);\n",
       "\n",
       "    if (output.metadata[EXEC_MIME_TYPE][\"id\"] !== undefined) {\n",
       "      toinsert[toinsert.length - 1].firstChild.textContent = output.data[JS_MIME_TYPE];\n",
       "      // store reference to embed id on output_area\n",
       "      output_area._bokeh_element_id = output.metadata[EXEC_MIME_TYPE][\"id\"];\n",
       "    }\n",
       "    if (output.metadata[EXEC_MIME_TYPE][\"server_id\"] !== undefined) {\n",
       "      var bk_div = document.createElement(\"div\");\n",
       "      bk_div.innerHTML = output.data[HTML_MIME_TYPE];\n",
       "      var script_attrs = bk_div.children[0].attributes;\n",
       "      for (var i = 0; i < script_attrs.length; i++) {\n",
       "        toinsert[toinsert.length - 1].firstChild.setAttribute(script_attrs[i].name, script_attrs[i].value);\n",
       "      }\n",
       "      // store reference to server id on output_area\n",
       "      output_area._bokeh_server_id = output.metadata[EXEC_MIME_TYPE][\"server_id\"];\n",
       "    }\n",
       "  }\n",
       "\n",
       "  function register_renderer(events, OutputArea) {\n",
       "\n",
       "    function append_mime(data, metadata, element) {\n",
       "      // create a DOM node to render to\n",
       "      var toinsert = this.create_output_subarea(\n",
       "        metadata,\n",
       "        CLASS_NAME,\n",
       "        EXEC_MIME_TYPE\n",
       "      );\n",
       "      this.keyboard_manager.register_events(toinsert);\n",
       "      // Render to node\n",
       "      var props = {data: data, metadata: metadata[EXEC_MIME_TYPE]};\n",
       "      render(props, toinsert[toinsert.length - 1]);\n",
       "      element.append(toinsert);\n",
       "      return toinsert\n",
       "    }\n",
       "\n",
       "    /* Handle when an output is cleared or removed */\n",
       "    events.on('clear_output.CodeCell', handleClearOutput);\n",
       "    events.on('delete.Cell', handleClearOutput);\n",
       "\n",
       "    /* Handle when a new output is added */\n",
       "    events.on('output_added.OutputArea', handleAddOutput);\n",
       "\n",
       "    /**\n",
       "     * Register the mime type and append_mime function with output_area\n",
       "     */\n",
       "    OutputArea.prototype.register_mime_type(EXEC_MIME_TYPE, append_mime, {\n",
       "      /* Is output safe? */\n",
       "      safe: true,\n",
       "      /* Index of renderer in `output_area.display_order` */\n",
       "      index: 0\n",
       "    });\n",
       "  }\n",
       "\n",
       "  // register the mime type if in Jupyter Notebook environment and previously unregistered\n",
       "  if (root.Jupyter !== undefined) {\n",
       "    var events = require('base/js/events');\n",
       "    var OutputArea = require('notebook/js/outputarea').OutputArea;\n",
       "\n",
       "    if (OutputArea.prototype.mime_types().indexOf(EXEC_MIME_TYPE) == -1) {\n",
       "      register_renderer(events, OutputArea);\n",
       "    }\n",
       "  }\n",
       "\n",
       "  \n",
       "  if (typeof (root._bokeh_timeout) === \"undefined\" || force === true) {\n",
       "    root._bokeh_timeout = Date.now() + 5000;\n",
       "    root._bokeh_failed_load = false;\n",
       "  }\n",
       "\n",
       "  var NB_LOAD_WARNING = {'data': {'text/html':\n",
       "     \"<div style='background-color: #fdd'>\\n\"+\n",
       "     \"<p>\\n\"+\n",
       "     \"BokehJS does not appear to have successfully loaded. If loading BokehJS from CDN, this \\n\"+\n",
       "     \"may be due to a slow or bad network connection. Possible fixes:\\n\"+\n",
       "     \"</p>\\n\"+\n",
       "     \"<ul>\\n\"+\n",
       "     \"<li>re-rerun `output_notebook()` to attempt to load from CDN again, or</li>\\n\"+\n",
       "     \"<li>use INLINE resources instead, as so:</li>\\n\"+\n",
       "     \"</ul>\\n\"+\n",
       "     \"<code>\\n\"+\n",
       "     \"from bokeh.resources import INLINE\\n\"+\n",
       "     \"output_notebook(resources=INLINE)\\n\"+\n",
       "     \"</code>\\n\"+\n",
       "     \"</div>\"}};\n",
       "\n",
       "  function display_loaded() {\n",
       "    var el = document.getElementById(\"4d0163e5-162c-4334-9e32-df072c1b885e\");\n",
       "    if (el != null) {\n",
       "      el.textContent = \"BokehJS is loading...\";\n",
       "    }\n",
       "    if (root.Bokeh !== undefined) {\n",
       "      if (el != null) {\n",
       "        el.textContent = \"BokehJS \" + root.Bokeh.version + \" successfully loaded.\";\n",
       "      }\n",
       "    } else if (Date.now() < root._bokeh_timeout) {\n",
       "      setTimeout(display_loaded, 100)\n",
       "    }\n",
       "  }\n",
       "\n",
       "\n",
       "  function run_callbacks() {\n",
       "    try {\n",
       "      root._bokeh_onload_callbacks.forEach(function(callback) { callback() });\n",
       "    }\n",
       "    finally {\n",
       "      delete root._bokeh_onload_callbacks\n",
       "    }\n",
       "    console.info(\"Bokeh: all callbacks have finished\");\n",
       "  }\n",
       "\n",
       "  function load_libs(js_urls, callback) {\n",
       "    root._bokeh_onload_callbacks.push(callback);\n",
       "    if (root._bokeh_is_loading > 0) {\n",
       "      console.log(\"Bokeh: BokehJS is being loaded, scheduling callback at\", now());\n",
       "      return null;\n",
       "    }\n",
       "    if (js_urls == null || js_urls.length === 0) {\n",
       "      run_callbacks();\n",
       "      return null;\n",
       "    }\n",
       "    console.log(\"Bokeh: BokehJS not loaded, scheduling load and callback at\", now());\n",
       "    root._bokeh_is_loading = js_urls.length;\n",
       "    for (var i = 0; i < js_urls.length; i++) {\n",
       "      var url = js_urls[i];\n",
       "      var s = document.createElement('script');\n",
       "      s.src = url;\n",
       "      s.async = false;\n",
       "      s.onreadystatechange = s.onload = function() {\n",
       "        root._bokeh_is_loading--;\n",
       "        if (root._bokeh_is_loading === 0) {\n",
       "          console.log(\"Bokeh: all BokehJS libraries loaded\");\n",
       "          run_callbacks()\n",
       "        }\n",
       "      };\n",
       "      s.onerror = function() {\n",
       "        console.warn(\"failed to load library \" + url);\n",
       "      };\n",
       "      console.log(\"Bokeh: injecting script tag for BokehJS library: \", url);\n",
       "      document.getElementsByTagName(\"head\")[0].appendChild(s);\n",
       "    }\n",
       "  };var element = document.getElementById(\"4d0163e5-162c-4334-9e32-df072c1b885e\");\n",
       "  if (element == null) {\n",
       "    console.log(\"Bokeh: ERROR: autoload.js configured with elementid '4d0163e5-162c-4334-9e32-df072c1b885e' but no matching script tag was found. \")\n",
       "    return false;\n",
       "  }\n",
       "\n",
       "  var js_urls = [\"https://cdn.pydata.org/bokeh/release/bokeh-0.13.0.min.js\", \"https://cdn.pydata.org/bokeh/release/bokeh-widgets-0.13.0.min.js\", \"https://cdn.pydata.org/bokeh/release/bokeh-tables-0.13.0.min.js\", \"https://cdn.pydata.org/bokeh/release/bokeh-gl-0.13.0.min.js\"];\n",
       "\n",
       "  var inline_js = [\n",
       "    function(Bokeh) {\n",
       "      Bokeh.set_log_level(\"info\");\n",
       "    },\n",
       "    \n",
       "    function(Bokeh) {\n",
       "      \n",
       "    },\n",
       "    function(Bokeh) {\n",
       "      console.log(\"Bokeh: injecting CSS: https://cdn.pydata.org/bokeh/release/bokeh-0.13.0.min.css\");\n",
       "      Bokeh.embed.inject_css(\"https://cdn.pydata.org/bokeh/release/bokeh-0.13.0.min.css\");\n",
       "      console.log(\"Bokeh: injecting CSS: https://cdn.pydata.org/bokeh/release/bokeh-widgets-0.13.0.min.css\");\n",
       "      Bokeh.embed.inject_css(\"https://cdn.pydata.org/bokeh/release/bokeh-widgets-0.13.0.min.css\");\n",
       "      console.log(\"Bokeh: injecting CSS: https://cdn.pydata.org/bokeh/release/bokeh-tables-0.13.0.min.css\");\n",
       "      Bokeh.embed.inject_css(\"https://cdn.pydata.org/bokeh/release/bokeh-tables-0.13.0.min.css\");\n",
       "    }\n",
       "  ];\n",
       "\n",
       "  function run_inline_js() {\n",
       "    \n",
       "    if ((root.Bokeh !== undefined) || (force === true)) {\n",
       "      for (var i = 0; i < inline_js.length; i++) {\n",
       "        inline_js[i].call(root, root.Bokeh);\n",
       "      }if (force === true) {\n",
       "        display_loaded();\n",
       "      }} else if (Date.now() < root._bokeh_timeout) {\n",
       "      setTimeout(run_inline_js, 100);\n",
       "    } else if (!root._bokeh_failed_load) {\n",
       "      console.log(\"Bokeh: BokehJS failed to load within specified timeout.\");\n",
       "      root._bokeh_failed_load = true;\n",
       "    } else if (force !== true) {\n",
       "      var cell = $(document.getElementById(\"4d0163e5-162c-4334-9e32-df072c1b885e\")).parents('.cell').data().cell;\n",
       "      cell.output_area.append_execute_result(NB_LOAD_WARNING)\n",
       "    }\n",
       "\n",
       "  }\n",
       "\n",
       "  if (root._bokeh_is_loading === 0) {\n",
       "    console.log(\"Bokeh: BokehJS loaded, going straight to plotting\");\n",
       "    run_inline_js();\n",
       "  } else {\n",
       "    load_libs(js_urls, function() {\n",
       "      console.log(\"Bokeh: BokehJS plotting callback run at\", now());\n",
       "      run_inline_js();\n",
       "    });\n",
       "  }\n",
       "}(window));"
      ],
      "application/vnd.bokehjs_load.v0+json": "\n(function(root) {\n  function now() {\n    return new Date();\n  }\n\n  var force = true;\n\n  if (typeof (root._bokeh_onload_callbacks) === \"undefined\" || force === true) {\n    root._bokeh_onload_callbacks = [];\n    root._bokeh_is_loading = undefined;\n  }\n\n  \n\n  \n  if (typeof (root._bokeh_timeout) === \"undefined\" || force === true) {\n    root._bokeh_timeout = Date.now() + 5000;\n    root._bokeh_failed_load = false;\n  }\n\n  var NB_LOAD_WARNING = {'data': {'text/html':\n     \"<div style='background-color: #fdd'>\\n\"+\n     \"<p>\\n\"+\n     \"BokehJS does not appear to have successfully loaded. If loading BokehJS from CDN, this \\n\"+\n     \"may be due to a slow or bad network connection. Possible fixes:\\n\"+\n     \"</p>\\n\"+\n     \"<ul>\\n\"+\n     \"<li>re-rerun `output_notebook()` to attempt to load from CDN again, or</li>\\n\"+\n     \"<li>use INLINE resources instead, as so:</li>\\n\"+\n     \"</ul>\\n\"+\n     \"<code>\\n\"+\n     \"from bokeh.resources import INLINE\\n\"+\n     \"output_notebook(resources=INLINE)\\n\"+\n     \"</code>\\n\"+\n     \"</div>\"}};\n\n  function display_loaded() {\n    var el = document.getElementById(\"4d0163e5-162c-4334-9e32-df072c1b885e\");\n    if (el != null) {\n      el.textContent = \"BokehJS is loading...\";\n    }\n    if (root.Bokeh !== undefined) {\n      if (el != null) {\n        el.textContent = \"BokehJS \" + root.Bokeh.version + \" successfully loaded.\";\n      }\n    } else if (Date.now() < root._bokeh_timeout) {\n      setTimeout(display_loaded, 100)\n    }\n  }\n\n\n  function run_callbacks() {\n    try {\n      root._bokeh_onload_callbacks.forEach(function(callback) { callback() });\n    }\n    finally {\n      delete root._bokeh_onload_callbacks\n    }\n    console.info(\"Bokeh: all callbacks have finished\");\n  }\n\n  function load_libs(js_urls, callback) {\n    root._bokeh_onload_callbacks.push(callback);\n    if (root._bokeh_is_loading > 0) {\n      console.log(\"Bokeh: BokehJS is being loaded, scheduling callback at\", now());\n      return null;\n    }\n    if (js_urls == null || js_urls.length === 0) {\n      run_callbacks();\n      return null;\n    }\n    console.log(\"Bokeh: BokehJS not loaded, scheduling load and callback at\", now());\n    root._bokeh_is_loading = js_urls.length;\n    for (var i = 0; i < js_urls.length; i++) {\n      var url = js_urls[i];\n      var s = document.createElement('script');\n      s.src = url;\n      s.async = false;\n      s.onreadystatechange = s.onload = function() {\n        root._bokeh_is_loading--;\n        if (root._bokeh_is_loading === 0) {\n          console.log(\"Bokeh: all BokehJS libraries loaded\");\n          run_callbacks()\n        }\n      };\n      s.onerror = function() {\n        console.warn(\"failed to load library \" + url);\n      };\n      console.log(\"Bokeh: injecting script tag for BokehJS library: \", url);\n      document.getElementsByTagName(\"head\")[0].appendChild(s);\n    }\n  };var element = document.getElementById(\"4d0163e5-162c-4334-9e32-df072c1b885e\");\n  if (element == null) {\n    console.log(\"Bokeh: ERROR: autoload.js configured with elementid '4d0163e5-162c-4334-9e32-df072c1b885e' but no matching script tag was found. \")\n    return false;\n  }\n\n  var js_urls = [\"https://cdn.pydata.org/bokeh/release/bokeh-0.13.0.min.js\", \"https://cdn.pydata.org/bokeh/release/bokeh-widgets-0.13.0.min.js\", \"https://cdn.pydata.org/bokeh/release/bokeh-tables-0.13.0.min.js\", \"https://cdn.pydata.org/bokeh/release/bokeh-gl-0.13.0.min.js\"];\n\n  var inline_js = [\n    function(Bokeh) {\n      Bokeh.set_log_level(\"info\");\n    },\n    \n    function(Bokeh) {\n      \n    },\n    function(Bokeh) {\n      console.log(\"Bokeh: injecting CSS: https://cdn.pydata.org/bokeh/release/bokeh-0.13.0.min.css\");\n      Bokeh.embed.inject_css(\"https://cdn.pydata.org/bokeh/release/bokeh-0.13.0.min.css\");\n      console.log(\"Bokeh: injecting CSS: https://cdn.pydata.org/bokeh/release/bokeh-widgets-0.13.0.min.css\");\n      Bokeh.embed.inject_css(\"https://cdn.pydata.org/bokeh/release/bokeh-widgets-0.13.0.min.css\");\n      console.log(\"Bokeh: injecting CSS: https://cdn.pydata.org/bokeh/release/bokeh-tables-0.13.0.min.css\");\n      Bokeh.embed.inject_css(\"https://cdn.pydata.org/bokeh/release/bokeh-tables-0.13.0.min.css\");\n    }\n  ];\n\n  function run_inline_js() {\n    \n    if ((root.Bokeh !== undefined) || (force === true)) {\n      for (var i = 0; i < inline_js.length; i++) {\n        inline_js[i].call(root, root.Bokeh);\n      }if (force === true) {\n        display_loaded();\n      }} else if (Date.now() < root._bokeh_timeout) {\n      setTimeout(run_inline_js, 100);\n    } else if (!root._bokeh_failed_load) {\n      console.log(\"Bokeh: BokehJS failed to load within specified timeout.\");\n      root._bokeh_failed_load = true;\n    } else if (force !== true) {\n      var cell = $(document.getElementById(\"4d0163e5-162c-4334-9e32-df072c1b885e\")).parents('.cell').data().cell;\n      cell.output_area.append_execute_result(NB_LOAD_WARNING)\n    }\n\n  }\n\n  if (root._bokeh_is_loading === 0) {\n    console.log(\"Bokeh: BokehJS loaded, going straight to plotting\");\n    run_inline_js();\n  } else {\n    load_libs(js_urls, function() {\n      console.log(\"Bokeh: BokehJS plotting callback run at\", now());\n      run_inline_js();\n    });\n  }\n}(window));"
     },
     "metadata": {},
     "output_type": "display_data"
    }
   ],
   "source": [
    "output_notebook()"
   ]
  },
  {
   "cell_type": "markdown",
   "metadata": {},
   "source": [
    "<h1>Data Wrangling</h1>"
   ]
  },
  {
   "cell_type": "code",
   "execution_count": 40,
   "metadata": {},
   "outputs": [],
   "source": [
    "#Import US state data from Bokeh sample data\n",
    "from bokeh.sampledata.us_states import data as States"
   ]
  },
  {
   "cell_type": "code",
   "execution_count": 41,
   "metadata": {},
   "outputs": [],
   "source": [
    "#Import MMR data\n",
    "measles = pd.read_csv(\"measles.csv\")"
   ]
  },
  {
   "cell_type": "code",
   "execution_count": 42,
   "metadata": {},
   "outputs": [
    {
     "data": {
      "text/html": [
       "<div>\n",
       "<style>\n",
       "    .dataframe thead tr:only-child th {\n",
       "        text-align: right;\n",
       "    }\n",
       "\n",
       "    .dataframe thead th {\n",
       "        text-align: left;\n",
       "    }\n",
       "\n",
       "    .dataframe tbody tr th {\n",
       "        vertical-align: top;\n",
       "    }\n",
       "</style>\n",
       "<table border=\"1\" class=\"dataframe\">\n",
       "  <thead>\n",
       "    <tr style=\"text-align: right;\">\n",
       "      <th></th>\n",
       "      <th>week</th>\n",
       "      <th>state</th>\n",
       "      <th>state_name</th>\n",
       "      <th>disease</th>\n",
       "      <th>cases</th>\n",
       "      <th>incidence_per_capita</th>\n",
       "    </tr>\n",
       "  </thead>\n",
       "  <tbody>\n",
       "    <tr>\n",
       "      <th>0</th>\n",
       "      <td>192801</td>\n",
       "      <td>AL</td>\n",
       "      <td>ALABAMA</td>\n",
       "      <td>MEASLES</td>\n",
       "      <td>97</td>\n",
       "      <td>3.67</td>\n",
       "    </tr>\n",
       "    <tr>\n",
       "      <th>1</th>\n",
       "      <td>192801</td>\n",
       "      <td>AR</td>\n",
       "      <td>ARKANSAS</td>\n",
       "      <td>MEASLES</td>\n",
       "      <td>76</td>\n",
       "      <td>4.11</td>\n",
       "    </tr>\n",
       "    <tr>\n",
       "      <th>2</th>\n",
       "      <td>192801</td>\n",
       "      <td>AZ</td>\n",
       "      <td>ARIZONA</td>\n",
       "      <td>MEASLES</td>\n",
       "      <td>8</td>\n",
       "      <td>1.90</td>\n",
       "    </tr>\n",
       "    <tr>\n",
       "      <th>3</th>\n",
       "      <td>192801</td>\n",
       "      <td>CA</td>\n",
       "      <td>CALIFORNIA</td>\n",
       "      <td>MEASLES</td>\n",
       "      <td>74</td>\n",
       "      <td>1.38</td>\n",
       "    </tr>\n",
       "    <tr>\n",
       "      <th>4</th>\n",
       "      <td>192801</td>\n",
       "      <td>CO</td>\n",
       "      <td>COLORADO</td>\n",
       "      <td>MEASLES</td>\n",
       "      <td>85</td>\n",
       "      <td>8.38</td>\n",
       "    </tr>\n",
       "  </tbody>\n",
       "</table>\n",
       "</div>"
      ],
      "text/plain": [
       "     week state  state_name  disease  cases  incidence_per_capita\n",
       "0  192801    AL     ALABAMA  MEASLES     97                  3.67\n",
       "1  192801    AR    ARKANSAS  MEASLES     76                  4.11\n",
       "2  192801    AZ     ARIZONA  MEASLES      8                  1.90\n",
       "3  192801    CA  CALIFORNIA  MEASLES     74                  1.38\n",
       "4  192801    CO    COLORADO  MEASLES     85                  8.38"
      ]
     },
     "execution_count": 42,
     "metadata": {},
     "output_type": "execute_result"
    }
   ],
   "source": [
    "measles.head()"
   ]
  },
  {
   "cell_type": "code",
   "execution_count": 43,
   "metadata": {},
   "outputs": [],
   "source": [
    "measles[\"year\"] = measles[\"week\"].apply(lambda x: int(str(x)[0:4]))"
   ]
  },
  {
   "cell_type": "code",
   "execution_count": 44,
   "metadata": {},
   "outputs": [],
   "source": [
    "measles[\"week_num\"] = measles[\"week\"].apply(lambda x: int(str(x)[4:7]))"
   ]
  },
  {
   "cell_type": "code",
   "execution_count": 45,
   "metadata": {},
   "outputs": [],
   "source": [
    "measles.drop(\"week\", axis = 1, inplace = True)"
   ]
  },
  {
   "cell_type": "code",
   "execution_count": 46,
   "metadata": {},
   "outputs": [
    {
     "data": {
      "text/html": [
       "<div>\n",
       "<style>\n",
       "    .dataframe thead tr:only-child th {\n",
       "        text-align: right;\n",
       "    }\n",
       "\n",
       "    .dataframe thead th {\n",
       "        text-align: left;\n",
       "    }\n",
       "\n",
       "    .dataframe tbody tr th {\n",
       "        vertical-align: top;\n",
       "    }\n",
       "</style>\n",
       "<table border=\"1\" class=\"dataframe\">\n",
       "  <thead>\n",
       "    <tr style=\"text-align: right;\">\n",
       "      <th></th>\n",
       "      <th>state</th>\n",
       "      <th>state_name</th>\n",
       "      <th>disease</th>\n",
       "      <th>cases</th>\n",
       "      <th>incidence_per_capita</th>\n",
       "      <th>year</th>\n",
       "      <th>week_num</th>\n",
       "    </tr>\n",
       "  </thead>\n",
       "  <tbody>\n",
       "    <tr>\n",
       "      <th>0</th>\n",
       "      <td>AL</td>\n",
       "      <td>ALABAMA</td>\n",
       "      <td>MEASLES</td>\n",
       "      <td>97</td>\n",
       "      <td>3.67</td>\n",
       "      <td>1928</td>\n",
       "      <td>1</td>\n",
       "    </tr>\n",
       "    <tr>\n",
       "      <th>1</th>\n",
       "      <td>AR</td>\n",
       "      <td>ARKANSAS</td>\n",
       "      <td>MEASLES</td>\n",
       "      <td>76</td>\n",
       "      <td>4.11</td>\n",
       "      <td>1928</td>\n",
       "      <td>1</td>\n",
       "    </tr>\n",
       "    <tr>\n",
       "      <th>2</th>\n",
       "      <td>AZ</td>\n",
       "      <td>ARIZONA</td>\n",
       "      <td>MEASLES</td>\n",
       "      <td>8</td>\n",
       "      <td>1.90</td>\n",
       "      <td>1928</td>\n",
       "      <td>1</td>\n",
       "    </tr>\n",
       "    <tr>\n",
       "      <th>3</th>\n",
       "      <td>CA</td>\n",
       "      <td>CALIFORNIA</td>\n",
       "      <td>MEASLES</td>\n",
       "      <td>74</td>\n",
       "      <td>1.38</td>\n",
       "      <td>1928</td>\n",
       "      <td>1</td>\n",
       "    </tr>\n",
       "    <tr>\n",
       "      <th>4</th>\n",
       "      <td>CO</td>\n",
       "      <td>COLORADO</td>\n",
       "      <td>MEASLES</td>\n",
       "      <td>85</td>\n",
       "      <td>8.38</td>\n",
       "      <td>1928</td>\n",
       "      <td>1</td>\n",
       "    </tr>\n",
       "  </tbody>\n",
       "</table>\n",
       "</div>"
      ],
      "text/plain": [
       "  state  state_name  disease  cases  incidence_per_capita  year  week_num\n",
       "0    AL     ALABAMA  MEASLES     97                  3.67  1928         1\n",
       "1    AR    ARKANSAS  MEASLES     76                  4.11  1928         1\n",
       "2    AZ     ARIZONA  MEASLES      8                  1.90  1928         1\n",
       "3    CA  CALIFORNIA  MEASLES     74                  1.38  1928         1\n",
       "4    CO    COLORADO  MEASLES     85                  8.38  1928         1"
      ]
     },
     "execution_count": 46,
     "metadata": {},
     "output_type": "execute_result"
    }
   ],
   "source": [
    "measles.head()"
   ]
  },
  {
   "cell_type": "code",
   "execution_count": 47,
   "metadata": {},
   "outputs": [],
   "source": [
    "def summarise(df):\n",
    "    #Group data\n",
    "    grouped = df.groupby(by = [\"year\", \"disease\", \"state_name\"])\n",
    "    #Summarise data as Series then convert back to Dataframe\n",
    "    cases_sum = pd.DataFrame(grouped[\"cases\"].sum()).reset_index()\n",
    "    cases_avg = pd.DataFrame(grouped[\"cases\"].mean()).reset_index()\n",
    "    avg_incidence_year = pd.DataFrame(grouped[\"incidence_per_capita\"].mean()).reset_index()\n",
    "    #Give columns sensible names\n",
    "    avg_incidence_year = avg_incidence_year.rename(columns = {\"incidence_per_capita\": \"avg_incidence_per_week\"})\n",
    "    cases_sum = cases_sum.rename(columns = {\"cases\": \"total_cases_per_year\"})\n",
    "    cases_avg = cases_avg.rename(columns = {\"cases\": \"avg_cases_per_week\"})\n",
    "    #Merge dataframes\n",
    "    cases = pd.merge(cases_avg, cases_sum)\n",
    "    new_df = pd.merge(avg_incidence_year, cases)\n",
    "    return new_df"
   ]
  },
  {
   "cell_type": "code",
   "execution_count": 48,
   "metadata": {},
   "outputs": [],
   "source": [
    "measles_yearly_data = summarise(measles)"
   ]
  },
  {
   "cell_type": "code",
   "execution_count": 49,
   "metadata": {},
   "outputs": [
    {
     "data": {
      "text/html": [
       "<div>\n",
       "<style>\n",
       "    .dataframe thead tr:only-child th {\n",
       "        text-align: right;\n",
       "    }\n",
       "\n",
       "    .dataframe thead th {\n",
       "        text-align: left;\n",
       "    }\n",
       "\n",
       "    .dataframe tbody tr th {\n",
       "        vertical-align: top;\n",
       "    }\n",
       "</style>\n",
       "<table border=\"1\" class=\"dataframe\">\n",
       "  <thead>\n",
       "    <tr style=\"text-align: right;\">\n",
       "      <th></th>\n",
       "      <th>year</th>\n",
       "      <th>disease</th>\n",
       "      <th>state_name</th>\n",
       "      <th>avg_incidence_per_week</th>\n",
       "      <th>avg_cases_per_week</th>\n",
       "      <th>total_cases_per_year</th>\n",
       "    </tr>\n",
       "  </thead>\n",
       "  <tbody>\n",
       "    <tr>\n",
       "      <th>0</th>\n",
       "      <td>1928</td>\n",
       "      <td>MEASLES</td>\n",
       "      <td>ALABAMA</td>\n",
       "      <td>6.442115</td>\n",
       "      <td>170.057692</td>\n",
       "      <td>8843</td>\n",
       "    </tr>\n",
       "    <tr>\n",
       "      <th>1</th>\n",
       "      <td>1928</td>\n",
       "      <td>MEASLES</td>\n",
       "      <td>ARIZONA</td>\n",
       "      <td>4.779762</td>\n",
       "      <td>20.166667</td>\n",
       "      <td>847</td>\n",
       "    </tr>\n",
       "    <tr>\n",
       "      <th>2</th>\n",
       "      <td>1928</td>\n",
       "      <td>MEASLES</td>\n",
       "      <td>ARKANSAS</td>\n",
       "      <td>9.832041</td>\n",
       "      <td>181.612245</td>\n",
       "      <td>8899</td>\n",
       "    </tr>\n",
       "    <tr>\n",
       "      <th>3</th>\n",
       "      <td>1928</td>\n",
       "      <td>MEASLES</td>\n",
       "      <td>CALIFORNIA</td>\n",
       "      <td>1.331154</td>\n",
       "      <td>71.115385</td>\n",
       "      <td>3698</td>\n",
       "    </tr>\n",
       "    <tr>\n",
       "      <th>4</th>\n",
       "      <td>1928</td>\n",
       "      <td>MEASLES</td>\n",
       "      <td>COLORADO</td>\n",
       "      <td>4.312083</td>\n",
       "      <td>43.729167</td>\n",
       "      <td>2099</td>\n",
       "    </tr>\n",
       "  </tbody>\n",
       "</table>\n",
       "</div>"
      ],
      "text/plain": [
       "   year  disease  state_name  avg_incidence_per_week  avg_cases_per_week  \\\n",
       "0  1928  MEASLES     ALABAMA                6.442115          170.057692   \n",
       "1  1928  MEASLES     ARIZONA                4.779762           20.166667   \n",
       "2  1928  MEASLES    ARKANSAS                9.832041          181.612245   \n",
       "3  1928  MEASLES  CALIFORNIA                1.331154           71.115385   \n",
       "4  1928  MEASLES    COLORADO                4.312083           43.729167   \n",
       "\n",
       "   total_cases_per_year  \n",
       "0                  8843  \n",
       "1                   847  \n",
       "2                  8899  \n",
       "3                  3698  \n",
       "4                  2099  "
      ]
     },
     "execution_count": 49,
     "metadata": {},
     "output_type": "execute_result"
    }
   ],
   "source": [
    "measles_yearly_data.head()"
   ]
  },
  {
   "cell_type": "markdown",
   "metadata": {},
   "source": [
    "<h2>Get state location data</h2>"
   ]
  },
  {
   "cell_type": "code",
   "execution_count": 50,
   "metadata": {},
   "outputs": [],
   "source": [
    "states = {\n",
    "        state[\"name\"].upper(): state for code, state in States.items() if state[\"name\"] not in [\"Hawaii\", \"Alaska\"]\n",
    "    }\n",
    "\n",
    "def state_data(df):\n",
    "    df_ = df[~df[\"state_name\"].isin([\"HAWAII\", \"ALASKA\"])]\n",
    "    for z in [\"lons\", \"lats\"]:\n",
    "        df_[z] = df_[\"state_name\"].apply(lambda x: states[x][z])\n",
    "    return df_"
   ]
  },
  {
   "cell_type": "code",
   "execution_count": 173,
   "metadata": {},
   "outputs": [
    {
     "name": "stderr",
     "output_type": "stream",
     "text": [
      "C:\\Users\\nbm0029\\AppData\\Local\\Continuum\\anaconda3\\lib\\site-packages\\ipykernel_launcher.py:8: SettingWithCopyWarning: \n",
      "A value is trying to be set on a copy of a slice from a DataFrame.\n",
      "Try using .loc[row_indexer,col_indexer] = value instead\n",
      "\n",
      "See the caveats in the documentation: http://pandas.pydata.org/pandas-docs/stable/indexing.html#indexing-view-versus-copy\n",
      "  \n"
     ]
    }
   ],
   "source": [
    "measles_yearly_data = state_data(measles_yearly_data)"
   ]
  },
  {
   "cell_type": "markdown",
   "metadata": {},
   "source": [
    "<h1>Exploring the data with simple bars and lines</h1>"
   ]
  },
  {
   "cell_type": "code",
   "execution_count": 144,
   "metadata": {},
   "outputs": [],
   "source": [
    "def bar_plot(src):\n",
    "    states = src[\"state_name\"]\n",
    "    bar = figure(plot_width=800, plot_height=500, \n",
    "                 title=\"Total cases of Measles in the United States {}\".format(src[\"year\"].unique()[0]),\n",
    "           x_range=states, toolbar_location=None, tools=\"\")\n",
    "    bar.xgrid.grid_line_color = None\n",
    "    bar.xaxis.axis_label = \"US States\"\n",
    "    bar.xaxis.major_label_orientation = 1.2\n",
    "    bar.yaxis.axis_label = \"Total measle cases\"\n",
    "\n",
    "    bar.vbar(x='state_name', top='total_cases_per_year', width=1, source=src,\n",
    "           line_color=\"white\", fill_color=\"#3d84f7\", \n",
    "           hover_line_color=\"black\", hover_fill_color=\"#4a81db\")\n",
    "    bar.add_tools(HoverTool(tooltips=[(\"Average incidence per capita per week\", \"@avg_incidence_per_week\")]))\n",
    "    \n",
    "    return bar"
   ]
  },
  {
   "cell_type": "code",
   "execution_count": 162,
   "metadata": {},
   "outputs": [],
   "source": [
    "def line_plot(src):\n",
    "    line = figure(x_range = (1,52), plot_width=800, plot_height=500,  \n",
    "                  title=\"Incidence of Measles in {}, {}\".format(src[\"state_name\"].unique()[0], src[\"year\"].unique()[0]), \n",
    "               toolbar_location=None, tools=\"\")\n",
    "    line.line(x=\"week_num\", y=\"incidence_per_capita\", \n",
    "              line_width=2, source = src)\n",
    "    line.xaxis.axis_label = \"Week number\"\n",
    "    line.yaxis.axis_label = \"Incidence per capita\"\n",
    "    line.circle(x=\"week_num\", y=\"incidence_per_capita\", size=12,\n",
    "              fill_color=\"grey\", hover_fill_color=\"firebrick\",\n",
    "              fill_alpha=0.5, hover_alpha=0.8,\n",
    "              line_color=None, hover_line_color=\"white\", source = src)\n",
    "\n",
    "    line.add_tools(HoverTool(tooltips=[(\"Total cases\",\"@cases\")]))\n",
    "    return line"
   ]
  },
  {
   "cell_type": "code",
   "execution_count": 163,
   "metadata": {},
   "outputs": [
    {
     "data": {
      "text/html": [
       "\n",
       "\n",
       "\n",
       "\n",
       "\n",
       "\n",
       "  <div class=\"bk-root\" id=\"bb6c5d48-1b1c-4e44-bef8-550dbc4cd950\"></div>\n"
      ]
     },
     "metadata": {},
     "output_type": "display_data"
    },
    {
     "data": {
      "application/javascript": [
       "(function(root) {\n",
       "  function embed_document(root) {\n",
       "    \n",
       "  var docs_json = {\"0383c37f-c038-4c04-afc3-8b1346561759\":{\"roots\":{\"references\":[{\"attributes\":{\"plot\":null,\"text\":\"Total cases of Measles in the United States 1928\"},\"id\":\"38077d24-ce53-46e2-a771-2ae3e4e667e4\",\"type\":\"Title\"},{\"attributes\":{\"below\":[{\"id\":\"10e4341f-a767-42d2-b3ca-0bd044deaadd\",\"type\":\"CategoricalAxis\"}],\"left\":[{\"id\":\"26a9b7c1-fd48-4d05-8295-38ef3c68518d\",\"type\":\"LinearAxis\"}],\"plot_height\":500,\"plot_width\":800,\"renderers\":[{\"id\":\"10e4341f-a767-42d2-b3ca-0bd044deaadd\",\"type\":\"CategoricalAxis\"},{\"id\":\"23c0ba65-66b6-48d3-9791-9743aed89db5\",\"type\":\"Grid\"},{\"id\":\"26a9b7c1-fd48-4d05-8295-38ef3c68518d\",\"type\":\"LinearAxis\"},{\"id\":\"d1c13f68-810e-4409-b16f-b7e436a8a28a\",\"type\":\"Grid\"},{\"id\":\"a0a7ab7c-d370-48e3-bb06-efc1a2c1c5f8\",\"type\":\"GlyphRenderer\"}],\"title\":{\"id\":\"38077d24-ce53-46e2-a771-2ae3e4e667e4\",\"type\":\"Title\"},\"toolbar\":{\"id\":\"b6159dfb-0fdf-466a-9145-e0ee4fa6c9c3\",\"type\":\"Toolbar\"},\"toolbar_location\":null,\"x_range\":{\"id\":\"6c2ae22e-9607-451f-b5c4-d6eae81a50f7\",\"type\":\"FactorRange\"},\"x_scale\":{\"id\":\"8170ba4d-cdbe-4cbd-8876-e8ea9e89b19c\",\"type\":\"CategoricalScale\"},\"y_range\":{\"id\":\"975b9373-584e-4174-9ac7-fa5fb55216fb\",\"type\":\"DataRange1d\"},\"y_scale\":{\"id\":\"000d04e5-a5ed-4568-a279-d52144000c51\",\"type\":\"LinearScale\"}},\"id\":\"07f877f2-f3f6-405a-a4d7-81508795da60\",\"subtype\":\"Figure\",\"type\":\"Plot\"},{\"attributes\":{\"callback\":null,\"data\":{\"avg_cases_per_week\":{\"__ndarray__\":\"ntiJndhBZUCrqqqqqio0QBW8nIKXs2ZAdmIndmLHUUBVVVVVVd1FQCd2Yid2EmhAH4PzMTgfLUBCHdRBHVRSQDzijrgj7kNA8GzUdzaqWEA7sRM7sRMLQE/sxE7s5GFAxU7sxE5cZEAUrkfhehQ8QLETO7ETW0hAeHh4eHhoZECXlpaWllZaQGlpaWlpaU9Aip3YiZ0UdUCSkZGRkVmJQDuxEzuxs35AsRM7sRO7Q0AAAAAAAAAAAMnIyMjIiGFAq6qqqqqKL0AAAAAAAJA2QPqkT/qkTzxAxU7sxE4Cg0BddNFFF11PQAUFBQUFGZdAq6qqqupLkkBddNFFF90gQHg5BS+nAH5APQrXo3B9X0BiJ3ZiJxZEQJ7YiZ3YMpFArkfhehTuWEAqa8qassZ8QAu2YAu2YDhAJO6IO+IOaEDMKXg5BS9cQFFeQ3kN5QFAq6qqqqr6OEBiJ3ZiJ7ZZQDuxEzux809AJ3ZiJ3aCUUAlSZIkSZIsQA==\",\"dtype\":\"float64\",\"shape\":[47]},\"avg_incidence_per_week\":{\"__ndarray__\":\"F+035bnEGUDoeZ7neR4TQIUe/kABqiNAYM6y+WdM9T9fLPnFkj8RQL/QC73QayhA+xakb0H6GEAW8VhwgJsuQOtbillYPwZAksd0WCYwC0CUjk9fWxzoP9UWBwtKOv4/7N4hUUVIFEAzETY8vVLyP9m9Q6KKEAVAcaTXCj5xGUBr0TeeBGsUQIZTIO25hh9AYfPPmCbzNEC67yJWiTwzQPJCL/RCDyVA95vyXAJZ+D8AAAAAAAAAAC31wY5bKA9Aj8L1KFxPB0AREREREVH6P9wfZKjsMBhA9FwCWcOoLkBM4XoUricuQPvJlmMwfSlA+cWSXyz/QkBETT/U9EP0P4Ff/2oADh1AFqfoSC5/FUBeWxwsKCkRQFyplVqpdSZA8cnDQq1pLUAxBoKq/Hk6QGlrCD8PeQxAXq04pqJXHUDBhYBRqsn/P+irkypjWNw/YWZmZmbmG0DL5p8xTYYaQJ5l88+YJg5AI1FFiLcrA0AWX/EVX/EZQA==\",\"dtype\":\"float64\",\"shape\":[47]},\"disease\":[\"MEASLES\",\"MEASLES\",\"MEASLES\",\"MEASLES\",\"MEASLES\",\"MEASLES\",\"MEASLES\",\"MEASLES\",\"MEASLES\",\"MEASLES\",\"MEASLES\",\"MEASLES\",\"MEASLES\",\"MEASLES\",\"MEASLES\",\"MEASLES\",\"MEASLES\",\"MEASLES\",\"MEASLES\",\"MEASLES\",\"MEASLES\",\"MEASLES\",\"MEASLES\",\"MEASLES\",\"MEASLES\",\"MEASLES\",\"MEASLES\",\"MEASLES\",\"MEASLES\",\"MEASLES\",\"MEASLES\",\"MEASLES\",\"MEASLES\",\"MEASLES\",\"MEASLES\",\"MEASLES\",\"MEASLES\",\"MEASLES\",\"MEASLES\",\"MEASLES\",\"MEASLES\",\"MEASLES\",\"MEASLES\",\"MEASLES\",\"MEASLES\",\"MEASLES\",\"MEASLES\"],\"index\":[0,1,2,3,4,5,6,7,8,9,10,11,12,13,14,15,16,17,18,19,20,21,22,23,24,25,26,27,28,29,30,31,32,33,34,35,36,37,38,39,40,41,42,43,44,45,46],\"state_name\":[\"ALABAMA\",\"ARIZONA\",\"ARKANSAS\",\"CALIFORNIA\",\"COLORADO\",\"CONNECTICUT\",\"DELAWARE\",\"DISTRICT OF COLUMBIA\",\"FLORIDA\",\"GEORGIA\",\"IDAHO\",\"ILLINOIS\",\"INDIANA\",\"IOWA\",\"KANSAS\",\"KENTUCKY\",\"LOUISIANA\",\"MAINE\",\"MARYLAND\",\"MASSACHUSETTS\",\"MICHIGAN\",\"MINNESOTA\",\"MISSISSIPPI\",\"MISSOURI\",\"MONTANA\",\"NEBRASKA\",\"NEW HAMPSHIRE\",\"NEW JERSEY\",\"NEW MEXICO\",\"NEW YORK\",\"NORTH CAROLINA\",\"NORTH DAKOTA\",\"OHIO\",\"OKLAHOMA\",\"OREGON\",\"PENNSYLVANIA\",\"RHODE ISLAND\",\"SOUTH CAROLINA\",\"SOUTH DAKOTA\",\"TENNESSEE\",\"TEXAS\",\"UTAH\",\"VERMONT\",\"WASHINGTON\",\"WEST VIRGINIA\",\"WISCONSIN\",\"WYOMING\"],\"total_cases_per_year\":[8843,847,8899,3698,2099,10014,597,2566,1714,4637,88,7444,8470,702,2533,5551,5373,3204,17539,41371,25544,2052,0,7154,757,1083,1274,31631,2760,75391,56207,371,23522,6298,2089,57237,4986,19798,1097,8276,5524,85,1199,5348,3323,3642,500],\"year\":[1928,1928,1928,1928,1928,1928,1928,1928,1928,1928,1928,1928,1928,1928,1928,1928,1928,1928,1928,1928,1928,1928,1928,1928,1928,1928,1928,1928,1928,1928,1928,1928,1928,1928,1928,1928,1928,1928,1928,1928,1928,1928,1928,1928,1928,1928,1928]},\"selected\":{\"id\":\"334615fe-db45-4ee8-87d0-700294f78ee9\",\"type\":\"Selection\"},\"selection_policy\":{\"id\":\"d3f17590-1103-4364-9cc6-0c8607684e5e\",\"type\":\"UnionRenderers\"}},\"id\":\"96332b3c-cabe-4ee3-8502-804fc3633b5c\",\"type\":\"ColumnDataSource\"},{\"attributes\":{},\"id\":\"334615fe-db45-4ee8-87d0-700294f78ee9\",\"type\":\"Selection\"},{\"attributes\":{\"grid_line_color\":{\"value\":null},\"plot\":{\"id\":\"07f877f2-f3f6-405a-a4d7-81508795da60\",\"subtype\":\"Figure\",\"type\":\"Plot\"},\"ticker\":{\"id\":\"073a2d7e-744a-4c50-8dc6-60d6e615b38f\",\"type\":\"CategoricalTicker\"}},\"id\":\"23c0ba65-66b6-48d3-9791-9743aed89db5\",\"type\":\"Grid\"},{\"attributes\":{},\"id\":\"d3f17590-1103-4364-9cc6-0c8607684e5e\",\"type\":\"UnionRenderers\"},{\"attributes\":{},\"id\":\"000d04e5-a5ed-4568-a279-d52144000c51\",\"type\":\"LinearScale\"},{\"attributes\":{\"dimension\":1,\"plot\":{\"id\":\"07f877f2-f3f6-405a-a4d7-81508795da60\",\"subtype\":\"Figure\",\"type\":\"Plot\"},\"ticker\":{\"id\":\"56a462fe-ad84-4728-819b-4edd31ea0e5d\",\"type\":\"BasicTicker\"}},\"id\":\"d1c13f68-810e-4409-b16f-b7e436a8a28a\",\"type\":\"Grid\"},{\"attributes\":{\"fill_color\":{\"value\":\"#4a81db\"},\"top\":{\"field\":\"total_cases_per_year\"},\"width\":{\"value\":1},\"x\":{\"field\":\"state_name\"}},\"id\":\"248288e9-3b67-4c27-9b09-bd27af8c0c20\",\"type\":\"VBar\"},{\"attributes\":{},\"id\":\"837cc8d7-9df9-4651-b795-af8f0b0e76da\",\"type\":\"CategoricalTickFormatter\"},{\"attributes\":{\"callback\":null,\"renderers\":\"auto\",\"tooltips\":[[\"Average incidence per capita per week\",\"@avg_incidence_per_week\"]]},\"id\":\"c13ca433-fc66-4315-a97e-b12c8e386f57\",\"type\":\"HoverTool\"},{\"attributes\":{\"active_drag\":\"auto\",\"active_inspect\":\"auto\",\"active_multi\":null,\"active_scroll\":\"auto\",\"active_tap\":\"auto\",\"tools\":[{\"id\":\"c13ca433-fc66-4315-a97e-b12c8e386f57\",\"type\":\"HoverTool\"}]},\"id\":\"b6159dfb-0fdf-466a-9145-e0ee4fa6c9c3\",\"type\":\"Toolbar\"},{\"attributes\":{\"fill_alpha\":{\"field\":\"avg_incidence_per_week\"},\"fill_color\":{\"value\":\"#3d84f7\"},\"line_color\":{\"value\":\"white\"},\"top\":{\"field\":\"total_cases_per_year\"},\"width\":{\"value\":1},\"x\":{\"field\":\"state_name\"}},\"id\":\"a388b4d9-6bc2-416f-aa84-24086c0db0cd\",\"type\":\"VBar\"},{\"attributes\":{},\"id\":\"8170ba4d-cdbe-4cbd-8876-e8ea9e89b19c\",\"type\":\"CategoricalScale\"},{\"attributes\":{\"callback\":null},\"id\":\"975b9373-584e-4174-9ac7-fa5fb55216fb\",\"type\":\"DataRange1d\"},{\"attributes\":{},\"id\":\"56a462fe-ad84-4728-819b-4edd31ea0e5d\",\"type\":\"BasicTicker\"},{\"attributes\":{},\"id\":\"073a2d7e-744a-4c50-8dc6-60d6e615b38f\",\"type\":\"CategoricalTicker\"},{\"attributes\":{\"axis_label\":\"US States\",\"formatter\":{\"id\":\"837cc8d7-9df9-4651-b795-af8f0b0e76da\",\"type\":\"CategoricalTickFormatter\"},\"major_label_orientation\":1.2,\"plot\":{\"id\":\"07f877f2-f3f6-405a-a4d7-81508795da60\",\"subtype\":\"Figure\",\"type\":\"Plot\"},\"ticker\":{\"id\":\"073a2d7e-744a-4c50-8dc6-60d6e615b38f\",\"type\":\"CategoricalTicker\"}},\"id\":\"10e4341f-a767-42d2-b3ca-0bd044deaadd\",\"type\":\"CategoricalAxis\"},{\"attributes\":{\"source\":{\"id\":\"96332b3c-cabe-4ee3-8502-804fc3633b5c\",\"type\":\"ColumnDataSource\"}},\"id\":\"f7e07bd1-2525-41f9-975f-c1b2bffc7bbb\",\"type\":\"CDSView\"},{\"attributes\":{\"fill_alpha\":{\"value\":0.1},\"fill_color\":{\"value\":\"#1f77b4\"},\"line_alpha\":{\"value\":0.1},\"line_color\":{\"value\":\"#1f77b4\"},\"top\":{\"field\":\"total_cases_per_year\"},\"width\":{\"value\":1},\"x\":{\"field\":\"state_name\"}},\"id\":\"18e7488c-ab79-4dd3-94db-6a45e5b17acf\",\"type\":\"VBar\"},{\"attributes\":{},\"id\":\"1629d333-8d95-4e95-8b05-853e9c53f9f9\",\"type\":\"BasicTickFormatter\"},{\"attributes\":{\"axis_label\":\"Total measle cases\",\"formatter\":{\"id\":\"1629d333-8d95-4e95-8b05-853e9c53f9f9\",\"type\":\"BasicTickFormatter\"},\"plot\":{\"id\":\"07f877f2-f3f6-405a-a4d7-81508795da60\",\"subtype\":\"Figure\",\"type\":\"Plot\"},\"ticker\":{\"id\":\"56a462fe-ad84-4728-819b-4edd31ea0e5d\",\"type\":\"BasicTicker\"}},\"id\":\"26a9b7c1-fd48-4d05-8295-38ef3c68518d\",\"type\":\"LinearAxis\"},{\"attributes\":{\"callback\":null,\"factors\":[\"ALABAMA\",\"ARIZONA\",\"ARKANSAS\",\"CALIFORNIA\",\"COLORADO\",\"CONNECTICUT\",\"DELAWARE\",\"DISTRICT OF COLUMBIA\",\"FLORIDA\",\"GEORGIA\",\"IDAHO\",\"ILLINOIS\",\"INDIANA\",\"IOWA\",\"KANSAS\",\"KENTUCKY\",\"LOUISIANA\",\"MAINE\",\"MARYLAND\",\"MASSACHUSETTS\",\"MICHIGAN\",\"MINNESOTA\",\"MISSISSIPPI\",\"MISSOURI\",\"MONTANA\",\"NEBRASKA\",\"NEW HAMPSHIRE\",\"NEW JERSEY\",\"NEW MEXICO\",\"NEW YORK\",\"NORTH CAROLINA\",\"NORTH DAKOTA\",\"OHIO\",\"OKLAHOMA\",\"OREGON\",\"PENNSYLVANIA\",\"RHODE ISLAND\",\"SOUTH CAROLINA\",\"SOUTH DAKOTA\",\"TENNESSEE\",\"TEXAS\",\"UTAH\",\"VERMONT\",\"WASHINGTON\",\"WEST VIRGINIA\",\"WISCONSIN\",\"WYOMING\"]},\"id\":\"6c2ae22e-9607-451f-b5c4-d6eae81a50f7\",\"type\":\"FactorRange\"},{\"attributes\":{\"data_source\":{\"id\":\"96332b3c-cabe-4ee3-8502-804fc3633b5c\",\"type\":\"ColumnDataSource\"},\"glyph\":{\"id\":\"a388b4d9-6bc2-416f-aa84-24086c0db0cd\",\"type\":\"VBar\"},\"hover_glyph\":{\"id\":\"248288e9-3b67-4c27-9b09-bd27af8c0c20\",\"type\":\"VBar\"},\"muted_glyph\":null,\"nonselection_glyph\":{\"id\":\"18e7488c-ab79-4dd3-94db-6a45e5b17acf\",\"type\":\"VBar\"},\"selection_glyph\":null,\"view\":{\"id\":\"f7e07bd1-2525-41f9-975f-c1b2bffc7bbb\",\"type\":\"CDSView\"}},\"id\":\"a0a7ab7c-d370-48e3-bb06-efc1a2c1c5f8\",\"type\":\"GlyphRenderer\"}],\"root_ids\":[\"07f877f2-f3f6-405a-a4d7-81508795da60\"]},\"title\":\"Bokeh Application\",\"version\":\"0.13.0\"}};\n",
       "  var render_items = [{\"docid\":\"0383c37f-c038-4c04-afc3-8b1346561759\",\"roots\":{\"07f877f2-f3f6-405a-a4d7-81508795da60\":\"bb6c5d48-1b1c-4e44-bef8-550dbc4cd950\"}}];\n",
       "  root.Bokeh.embed.embed_items_notebook(docs_json, render_items);\n",
       "\n",
       "  }\n",
       "  if (root.Bokeh !== undefined) {\n",
       "    embed_document(root);\n",
       "  } else {\n",
       "    var attempts = 0;\n",
       "    var timer = setInterval(function(root) {\n",
       "      if (root.Bokeh !== undefined) {\n",
       "        embed_document(root);\n",
       "        clearInterval(timer);\n",
       "      }\n",
       "      attempts++;\n",
       "      if (attempts > 100) {\n",
       "        console.log(\"Bokeh: ERROR: Unable to run BokehJS code because BokehJS library is missing\")\n",
       "        clearInterval(timer);\n",
       "      }\n",
       "    }, 10, root)\n",
       "  }\n",
       "})(window);"
      ],
      "application/vnd.bokehjs_exec.v0+json": ""
     },
     "metadata": {
      "application/vnd.bokehjs_exec.v0+json": {
       "id": "07f877f2-f3f6-405a-a4d7-81508795da60"
      }
     },
     "output_type": "display_data"
    }
   ],
   "source": [
    "show(bar_plot(measles_yearly_data[measles_yearly_data[\"year\"] == 1928]))"
   ]
  },
  {
   "cell_type": "code",
   "execution_count": 164,
   "metadata": {},
   "outputs": [
    {
     "data": {
      "text/html": [
       "\n",
       "\n",
       "\n",
       "\n",
       "\n",
       "\n",
       "  <div class=\"bk-root\" id=\"af32a347-ce7d-4a3d-8df0-5f57477cf9d4\"></div>\n"
      ]
     },
     "metadata": {},
     "output_type": "display_data"
    },
    {
     "data": {
      "application/javascript": [
       "(function(root) {\n",
       "  function embed_document(root) {\n",
       "    \n",
       "  var docs_json = {\"bf98fc98-7629-4847-9f2d-13470bded439\":{\"roots\":{\"references\":[{\"attributes\":{},\"id\":\"6d97c5b0-f4d0-4ea3-85ff-eebd9d39311e\",\"type\":\"LinearScale\"},{\"attributes\":{\"callback\":null,\"end\":52,\"start\":1},\"id\":\"40500b86-158e-458e-811c-ea7f7eb03dc8\",\"type\":\"Range1d\"},{\"attributes\":{},\"id\":\"a6d8b86a-f8c5-4f2b-bb46-2d215ac64aad\",\"type\":\"BasicTickFormatter\"},{\"attributes\":{\"dimension\":1,\"plot\":{\"id\":\"ca8ef8f6-a9a3-43c6-a4a2-909a929a9af4\",\"subtype\":\"Figure\",\"type\":\"Plot\"},\"ticker\":{\"id\":\"55719195-5e5f-4397-8388-00cbc871df4d\",\"type\":\"BasicTicker\"}},\"id\":\"6c56906b-1ea2-464d-a9df-2dda4847e9ee\",\"type\":\"Grid\"},{\"attributes\":{\"fill_alpha\":{\"value\":0.5},\"fill_color\":{\"value\":\"grey\"},\"line_color\":{\"value\":null},\"size\":{\"units\":\"screen\",\"value\":12},\"x\":{\"field\":\"week_num\"},\"y\":{\"field\":\"incidence_per_capita\"}},\"id\":\"d28fa464-c2e1-444a-8e88-c8a01af97717\",\"type\":\"Circle\"},{\"attributes\":{},\"id\":\"81bb6999-f4dc-43ae-9eee-b2bc32c60ec5\",\"type\":\"UnionRenderers\"},{\"attributes\":{\"active_drag\":\"auto\",\"active_inspect\":\"auto\",\"active_multi\":null,\"active_scroll\":\"auto\",\"active_tap\":\"auto\",\"tools\":[{\"id\":\"64571fcc-8fb2-4a02-9c33-565c6a5b4b00\",\"type\":\"HoverTool\"}]},\"id\":\"c6bcf79c-19aa-4da0-a40d-ed966381c02a\",\"type\":\"Toolbar\"},{\"attributes\":{},\"id\":\"ab9eac92-e41b-4a70-9e50-aed3cae74c8e\",\"type\":\"UnionRenderers\"},{\"attributes\":{\"plot\":null,\"text\":\"Incidence of Measles in NEW YORK, 1928\"},\"id\":\"97553432-10da-479b-837e-0ab7f8e4abb2\",\"type\":\"Title\"},{\"attributes\":{\"data_source\":{\"id\":\"9e0fdabd-2d36-48c4-a427-7965dc946c8e\",\"type\":\"ColumnDataSource\"},\"glyph\":{\"id\":\"49da66b8-47d6-434c-92fc-7015b14df0ae\",\"type\":\"Line\"},\"hover_glyph\":null,\"muted_glyph\":null,\"nonselection_glyph\":{\"id\":\"d800004e-d55b-4b4c-828c-734d75912eb3\",\"type\":\"Line\"},\"selection_glyph\":null,\"view\":{\"id\":\"3c3763b6-ea6e-4927-a084-aca0fe7ac22d\",\"type\":\"CDSView\"}},\"id\":\"7f6f781c-6af7-4e5e-8cd8-be450710d9b4\",\"type\":\"GlyphRenderer\"},{\"attributes\":{\"axis_label\":\"Incidence per capita\",\"formatter\":{\"id\":\"270289a2-b3b6-4868-bc1b-87cc37058415\",\"type\":\"BasicTickFormatter\"},\"plot\":{\"id\":\"ca8ef8f6-a9a3-43c6-a4a2-909a929a9af4\",\"subtype\":\"Figure\",\"type\":\"Plot\"},\"ticker\":{\"id\":\"55719195-5e5f-4397-8388-00cbc871df4d\",\"type\":\"BasicTicker\"}},\"id\":\"5e396cc0-a194-475c-8310-19ed12899296\",\"type\":\"LinearAxis\"},{\"attributes\":{\"source\":{\"id\":\"9e0fdabd-2d36-48c4-a427-7965dc946c8e\",\"type\":\"ColumnDataSource\"}},\"id\":\"3c3763b6-ea6e-4927-a084-aca0fe7ac22d\",\"type\":\"CDSView\"},{\"attributes\":{},\"id\":\"55719195-5e5f-4397-8388-00cbc871df4d\",\"type\":\"BasicTicker\"},{\"attributes\":{\"fill_alpha\":{\"value\":0.1},\"fill_color\":{\"value\":\"#1f77b4\"},\"line_alpha\":{\"value\":0.1},\"line_color\":{\"value\":\"#1f77b4\"},\"size\":{\"units\":\"screen\",\"value\":12},\"x\":{\"field\":\"week_num\"},\"y\":{\"field\":\"incidence_per_capita\"}},\"id\":\"a7ba279d-460a-4a2b-98a9-b92ac8ff27a8\",\"type\":\"Circle\"},{\"attributes\":{\"callback\":null},\"id\":\"1a04b0b0-aa8b-450b-b212-c2daaea5c288\",\"type\":\"DataRange1d\"},{\"attributes\":{\"callback\":null,\"data\":{\"cases\":[882,1119,991,1081,1234,1461,1723,1659,2108,1910,2373,2548,2711,2829,2723,3197,3045,3967,4021,4129,4024,4133,3833,3062,2509,1647,1407,1045,787,410,363,289,194,88,121,65,72,88,45,155,191,224,330,243,367,581,421,766,782,823,615],\"disease\":[\"MEASLES\",\"MEASLES\",\"MEASLES\",\"MEASLES\",\"MEASLES\",\"MEASLES\",\"MEASLES\",\"MEASLES\",\"MEASLES\",\"MEASLES\",\"MEASLES\",\"MEASLES\",\"MEASLES\",\"MEASLES\",\"MEASLES\",\"MEASLES\",\"MEASLES\",\"MEASLES\",\"MEASLES\",\"MEASLES\",\"MEASLES\",\"MEASLES\",\"MEASLES\",\"MEASLES\",\"MEASLES\",\"MEASLES\",\"MEASLES\",\"MEASLES\",\"MEASLES\",\"MEASLES\",\"MEASLES\",\"MEASLES\",\"MEASLES\",\"MEASLES\",\"MEASLES\",\"MEASLES\",\"MEASLES\",\"MEASLES\",\"MEASLES\",\"MEASLES\",\"MEASLES\",\"MEASLES\",\"MEASLES\",\"MEASLES\",\"MEASLES\",\"MEASLES\",\"MEASLES\",\"MEASLES\",\"MEASLES\",\"MEASLES\",\"MEASLES\"],\"incidence_per_capita\":{\"__ndarray__\":\"ZmZmZmZmHkDNzMzMzEwjQBSuR+F6FCFApHA9CtejIkBI4XoUrkclQDMzMzMzMylAMzMzMzOzLUCamZmZmZksQOxRuB6FKzJAuB6F61F4MED2KFyPwnU0QLgehetR+DVAH4XrUbheN0CkcD0K12M4QHsUrkfhejdAj8L1KFyPO0AAAAAAAEA6QJqZmZmZGUFA9ihcj8JVQUDNzMzMzMxBQLgehetRWEFAcT0K16PQQUBmZmZmZoZAQGZmZmZmZjpA4XoUrkehNUBmZmZmZmYsQMP1KFyPQihAhetRuB4FIkApXI/C9SgbQD0K16NwPQxACtejcD0KCUDsUbgehesDQLgehetRuPo/UrgehetR6D+kcD0K16PwP+xRuB6F6+E/16NwPQrX4z9SuB6F61HoP1K4HoXrUdg/cT0K16Nw9T9mZmZmZmb6P+F6FK5H4f4/zczMzMzMBkDNzMzMzMwAQEjhehSuRwlACtejcD0KFEAK16NwPQoNQGZmZmZmZhpA9ihcj8L1GkBmZmZmZmYcQDMzMzMzMxVA\",\"dtype\":\"float64\",\"shape\":[51]},\"index\":[26,69,108,152,197,242,285,327,371,414,456,500,542,587,631,676,721,763,809,853,898,942,986,1032,1074,1117,1160,1204,1245,1287,1329,1366,1405,1477,1512,1551,1587,1621,1663,1706,1745,1781,1820,1858,1894,1936,1976,2018,2061,2099,2138],\"state\":[\"NY\",\"NY\",\"NY\",\"NY\",\"NY\",\"NY\",\"NY\",\"NY\",\"NY\",\"NY\",\"NY\",\"NY\",\"NY\",\"NY\",\"NY\",\"NY\",\"NY\",\"NY\",\"NY\",\"NY\",\"NY\",\"NY\",\"NY\",\"NY\",\"NY\",\"NY\",\"NY\",\"NY\",\"NY\",\"NY\",\"NY\",\"NY\",\"NY\",\"NY\",\"NY\",\"NY\",\"NY\",\"NY\",\"NY\",\"NY\",\"NY\",\"NY\",\"NY\",\"NY\",\"NY\",\"NY\",\"NY\",\"NY\",\"NY\",\"NY\",\"NY\"],\"state_name\":[\"NEW YORK\",\"NEW YORK\",\"NEW YORK\",\"NEW YORK\",\"NEW YORK\",\"NEW YORK\",\"NEW YORK\",\"NEW YORK\",\"NEW YORK\",\"NEW YORK\",\"NEW YORK\",\"NEW YORK\",\"NEW YORK\",\"NEW YORK\",\"NEW YORK\",\"NEW YORK\",\"NEW YORK\",\"NEW YORK\",\"NEW YORK\",\"NEW YORK\",\"NEW YORK\",\"NEW YORK\",\"NEW YORK\",\"NEW YORK\",\"NEW YORK\",\"NEW YORK\",\"NEW YORK\",\"NEW YORK\",\"NEW YORK\",\"NEW YORK\",\"NEW YORK\",\"NEW YORK\",\"NEW YORK\",\"NEW YORK\",\"NEW YORK\",\"NEW YORK\",\"NEW YORK\",\"NEW YORK\",\"NEW YORK\",\"NEW YORK\",\"NEW YORK\",\"NEW YORK\",\"NEW YORK\",\"NEW YORK\",\"NEW YORK\",\"NEW YORK\",\"NEW YORK\",\"NEW YORK\",\"NEW YORK\",\"NEW YORK\",\"NEW YORK\"],\"week_num\":[1,2,3,4,5,6,7,8,9,10,11,12,13,14,15,16,17,18,19,20,21,22,23,24,25,26,27,28,29,30,31,32,33,35,36,37,38,39,40,41,42,43,44,45,46,47,48,49,50,51,52],\"year\":[1928,1928,1928,1928,1928,1928,1928,1928,1928,1928,1928,1928,1928,1928,1928,1928,1928,1928,1928,1928,1928,1928,1928,1928,1928,1928,1928,1928,1928,1928,1928,1928,1928,1928,1928,1928,1928,1928,1928,1928,1928,1928,1928,1928,1928,1928,1928,1928,1928,1928,1928]},\"selected\":{\"id\":\"083a5c06-8306-4f78-8387-c1d7d93b1d75\",\"type\":\"Selection\"},\"selection_policy\":{\"id\":\"ab9eac92-e41b-4a70-9e50-aed3cae74c8e\",\"type\":\"UnionRenderers\"}},\"id\":\"9e0fdabd-2d36-48c4-a427-7965dc946c8e\",\"type\":\"ColumnDataSource\"},{\"attributes\":{\"callback\":null,\"renderers\":\"auto\",\"tooltips\":[[\"Total cases\",\"@cases\"]]},\"id\":\"64571fcc-8fb2-4a02-9c33-565c6a5b4b00\",\"type\":\"HoverTool\"},{\"attributes\":{\"line_color\":\"#1f77b4\",\"line_width\":2,\"x\":{\"field\":\"week_num\"},\"y\":{\"field\":\"incidence_per_capita\"}},\"id\":\"49da66b8-47d6-434c-92fc-7015b14df0ae\",\"type\":\"Line\"},{\"attributes\":{\"axis_label\":\"Week number\",\"formatter\":{\"id\":\"a6d8b86a-f8c5-4f2b-bb46-2d215ac64aad\",\"type\":\"BasicTickFormatter\"},\"plot\":{\"id\":\"ca8ef8f6-a9a3-43c6-a4a2-909a929a9af4\",\"subtype\":\"Figure\",\"type\":\"Plot\"},\"ticker\":{\"id\":\"65e54fea-8144-4d24-8727-88e0d0b1e2f6\",\"type\":\"BasicTicker\"}},\"id\":\"5989e83f-4da8-4ee0-a967-024972fb696b\",\"type\":\"LinearAxis\"},{\"attributes\":{},\"id\":\"270289a2-b3b6-4868-bc1b-87cc37058415\",\"type\":\"BasicTickFormatter\"},{\"attributes\":{\"fill_alpha\":{\"value\":0.8},\"fill_color\":{\"value\":\"firebrick\"},\"line_alpha\":{\"value\":0.8},\"line_color\":{\"value\":\"white\"},\"size\":{\"units\":\"screen\",\"value\":12},\"x\":{\"field\":\"week_num\"},\"y\":{\"field\":\"incidence_per_capita\"}},\"id\":\"31fddd8d-9070-499b-8c84-927ce3436c4a\",\"type\":\"Circle\"},{\"attributes\":{\"callback\":null,\"data\":{\"cases\":[882,1119,991,1081,1234,1461,1723,1659,2108,1910,2373,2548,2711,2829,2723,3197,3045,3967,4021,4129,4024,4133,3833,3062,2509,1647,1407,1045,787,410,363,289,194,88,121,65,72,88,45,155,191,224,330,243,367,581,421,766,782,823,615],\"disease\":[\"MEASLES\",\"MEASLES\",\"MEASLES\",\"MEASLES\",\"MEASLES\",\"MEASLES\",\"MEASLES\",\"MEASLES\",\"MEASLES\",\"MEASLES\",\"MEASLES\",\"MEASLES\",\"MEASLES\",\"MEASLES\",\"MEASLES\",\"MEASLES\",\"MEASLES\",\"MEASLES\",\"MEASLES\",\"MEASLES\",\"MEASLES\",\"MEASLES\",\"MEASLES\",\"MEASLES\",\"MEASLES\",\"MEASLES\",\"MEASLES\",\"MEASLES\",\"MEASLES\",\"MEASLES\",\"MEASLES\",\"MEASLES\",\"MEASLES\",\"MEASLES\",\"MEASLES\",\"MEASLES\",\"MEASLES\",\"MEASLES\",\"MEASLES\",\"MEASLES\",\"MEASLES\",\"MEASLES\",\"MEASLES\",\"MEASLES\",\"MEASLES\",\"MEASLES\",\"MEASLES\",\"MEASLES\",\"MEASLES\",\"MEASLES\",\"MEASLES\"],\"incidence_per_capita\":{\"__ndarray__\":\"ZmZmZmZmHkDNzMzMzEwjQBSuR+F6FCFApHA9CtejIkBI4XoUrkclQDMzMzMzMylAMzMzMzOzLUCamZmZmZksQOxRuB6FKzJAuB6F61F4MED2KFyPwnU0QLgehetR+DVAH4XrUbheN0CkcD0K12M4QHsUrkfhejdAj8L1KFyPO0AAAAAAAEA6QJqZmZmZGUFA9ihcj8JVQUDNzMzMzMxBQLgehetRWEFAcT0K16PQQUBmZmZmZoZAQGZmZmZmZjpA4XoUrkehNUBmZmZmZmYsQMP1KFyPQihAhetRuB4FIkApXI/C9SgbQD0K16NwPQxACtejcD0KCUDsUbgehesDQLgehetRuPo/UrgehetR6D+kcD0K16PwP+xRuB6F6+E/16NwPQrX4z9SuB6F61HoP1K4HoXrUdg/cT0K16Nw9T9mZmZmZmb6P+F6FK5H4f4/zczMzMzMBkDNzMzMzMwAQEjhehSuRwlACtejcD0KFEAK16NwPQoNQGZmZmZmZhpA9ihcj8L1GkBmZmZmZmYcQDMzMzMzMxVA\",\"dtype\":\"float64\",\"shape\":[51]},\"index\":[26,69,108,152,197,242,285,327,371,414,456,500,542,587,631,676,721,763,809,853,898,942,986,1032,1074,1117,1160,1204,1245,1287,1329,1366,1405,1477,1512,1551,1587,1621,1663,1706,1745,1781,1820,1858,1894,1936,1976,2018,2061,2099,2138],\"state\":[\"NY\",\"NY\",\"NY\",\"NY\",\"NY\",\"NY\",\"NY\",\"NY\",\"NY\",\"NY\",\"NY\",\"NY\",\"NY\",\"NY\",\"NY\",\"NY\",\"NY\",\"NY\",\"NY\",\"NY\",\"NY\",\"NY\",\"NY\",\"NY\",\"NY\",\"NY\",\"NY\",\"NY\",\"NY\",\"NY\",\"NY\",\"NY\",\"NY\",\"NY\",\"NY\",\"NY\",\"NY\",\"NY\",\"NY\",\"NY\",\"NY\",\"NY\",\"NY\",\"NY\",\"NY\",\"NY\",\"NY\",\"NY\",\"NY\",\"NY\",\"NY\"],\"state_name\":[\"NEW YORK\",\"NEW YORK\",\"NEW YORK\",\"NEW YORK\",\"NEW YORK\",\"NEW YORK\",\"NEW YORK\",\"NEW YORK\",\"NEW YORK\",\"NEW YORK\",\"NEW YORK\",\"NEW YORK\",\"NEW YORK\",\"NEW YORK\",\"NEW YORK\",\"NEW YORK\",\"NEW YORK\",\"NEW YORK\",\"NEW YORK\",\"NEW YORK\",\"NEW YORK\",\"NEW YORK\",\"NEW YORK\",\"NEW YORK\",\"NEW YORK\",\"NEW YORK\",\"NEW YORK\",\"NEW YORK\",\"NEW YORK\",\"NEW YORK\",\"NEW YORK\",\"NEW YORK\",\"NEW YORK\",\"NEW YORK\",\"NEW YORK\",\"NEW YORK\",\"NEW YORK\",\"NEW YORK\",\"NEW YORK\",\"NEW YORK\",\"NEW YORK\",\"NEW YORK\",\"NEW YORK\",\"NEW YORK\",\"NEW YORK\",\"NEW YORK\",\"NEW YORK\",\"NEW YORK\",\"NEW YORK\",\"NEW YORK\",\"NEW YORK\"],\"week_num\":[1,2,3,4,5,6,7,8,9,10,11,12,13,14,15,16,17,18,19,20,21,22,23,24,25,26,27,28,29,30,31,32,33,35,36,37,38,39,40,41,42,43,44,45,46,47,48,49,50,51,52],\"year\":[1928,1928,1928,1928,1928,1928,1928,1928,1928,1928,1928,1928,1928,1928,1928,1928,1928,1928,1928,1928,1928,1928,1928,1928,1928,1928,1928,1928,1928,1928,1928,1928,1928,1928,1928,1928,1928,1928,1928,1928,1928,1928,1928,1928,1928,1928,1928,1928,1928,1928,1928]},\"selected\":{\"id\":\"8724a770-d72a-4040-93e2-b09f02ba3187\",\"type\":\"Selection\"},\"selection_policy\":{\"id\":\"81bb6999-f4dc-43ae-9eee-b2bc32c60ec5\",\"type\":\"UnionRenderers\"}},\"id\":\"7e3e9963-c1f1-4b29-9105-9b5354e32e2e\",\"type\":\"ColumnDataSource\"},{\"attributes\":{},\"id\":\"083a5c06-8306-4f78-8387-c1d7d93b1d75\",\"type\":\"Selection\"},{\"attributes\":{},\"id\":\"8724a770-d72a-4040-93e2-b09f02ba3187\",\"type\":\"Selection\"},{\"attributes\":{},\"id\":\"65e54fea-8144-4d24-8727-88e0d0b1e2f6\",\"type\":\"BasicTicker\"},{\"attributes\":{\"plot\":{\"id\":\"ca8ef8f6-a9a3-43c6-a4a2-909a929a9af4\",\"subtype\":\"Figure\",\"type\":\"Plot\"},\"ticker\":{\"id\":\"65e54fea-8144-4d24-8727-88e0d0b1e2f6\",\"type\":\"BasicTicker\"}},\"id\":\"d913d42d-ce41-4bf0-b27f-250f6ae2d79c\",\"type\":\"Grid\"},{\"attributes\":{},\"id\":\"1df39a6a-a520-40d2-875d-d2dede38ddb2\",\"type\":\"LinearScale\"},{\"attributes\":{\"line_alpha\":0.1,\"line_color\":\"#1f77b4\",\"line_width\":2,\"x\":{\"field\":\"week_num\"},\"y\":{\"field\":\"incidence_per_capita\"}},\"id\":\"d800004e-d55b-4b4c-828c-734d75912eb3\",\"type\":\"Line\"},{\"attributes\":{\"source\":{\"id\":\"7e3e9963-c1f1-4b29-9105-9b5354e32e2e\",\"type\":\"ColumnDataSource\"}},\"id\":\"99a588a6-84c6-4b98-be91-a1f1b4284bbb\",\"type\":\"CDSView\"},{\"attributes\":{\"data_source\":{\"id\":\"7e3e9963-c1f1-4b29-9105-9b5354e32e2e\",\"type\":\"ColumnDataSource\"},\"glyph\":{\"id\":\"d28fa464-c2e1-444a-8e88-c8a01af97717\",\"type\":\"Circle\"},\"hover_glyph\":{\"id\":\"31fddd8d-9070-499b-8c84-927ce3436c4a\",\"type\":\"Circle\"},\"muted_glyph\":null,\"nonselection_glyph\":{\"id\":\"a7ba279d-460a-4a2b-98a9-b92ac8ff27a8\",\"type\":\"Circle\"},\"selection_glyph\":null,\"view\":{\"id\":\"99a588a6-84c6-4b98-be91-a1f1b4284bbb\",\"type\":\"CDSView\"}},\"id\":\"69fcd2ca-071a-4c2d-98bd-06945edc1e1d\",\"type\":\"GlyphRenderer\"},{\"attributes\":{\"below\":[{\"id\":\"5989e83f-4da8-4ee0-a967-024972fb696b\",\"type\":\"LinearAxis\"}],\"left\":[{\"id\":\"5e396cc0-a194-475c-8310-19ed12899296\",\"type\":\"LinearAxis\"}],\"plot_height\":500,\"plot_width\":800,\"renderers\":[{\"id\":\"5989e83f-4da8-4ee0-a967-024972fb696b\",\"type\":\"LinearAxis\"},{\"id\":\"d913d42d-ce41-4bf0-b27f-250f6ae2d79c\",\"type\":\"Grid\"},{\"id\":\"5e396cc0-a194-475c-8310-19ed12899296\",\"type\":\"LinearAxis\"},{\"id\":\"6c56906b-1ea2-464d-a9df-2dda4847e9ee\",\"type\":\"Grid\"},{\"id\":\"7f6f781c-6af7-4e5e-8cd8-be450710d9b4\",\"type\":\"GlyphRenderer\"},{\"id\":\"69fcd2ca-071a-4c2d-98bd-06945edc1e1d\",\"type\":\"GlyphRenderer\"}],\"title\":{\"id\":\"97553432-10da-479b-837e-0ab7f8e4abb2\",\"type\":\"Title\"},\"toolbar\":{\"id\":\"c6bcf79c-19aa-4da0-a40d-ed966381c02a\",\"type\":\"Toolbar\"},\"toolbar_location\":null,\"x_range\":{\"id\":\"40500b86-158e-458e-811c-ea7f7eb03dc8\",\"type\":\"Range1d\"},\"x_scale\":{\"id\":\"6d97c5b0-f4d0-4ea3-85ff-eebd9d39311e\",\"type\":\"LinearScale\"},\"y_range\":{\"id\":\"1a04b0b0-aa8b-450b-b212-c2daaea5c288\",\"type\":\"DataRange1d\"},\"y_scale\":{\"id\":\"1df39a6a-a520-40d2-875d-d2dede38ddb2\",\"type\":\"LinearScale\"}},\"id\":\"ca8ef8f6-a9a3-43c6-a4a2-909a929a9af4\",\"subtype\":\"Figure\",\"type\":\"Plot\"}],\"root_ids\":[\"ca8ef8f6-a9a3-43c6-a4a2-909a929a9af4\"]},\"title\":\"Bokeh Application\",\"version\":\"0.13.0\"}};\n",
       "  var render_items = [{\"docid\":\"bf98fc98-7629-4847-9f2d-13470bded439\",\"roots\":{\"ca8ef8f6-a9a3-43c6-a4a2-909a929a9af4\":\"af32a347-ce7d-4a3d-8df0-5f57477cf9d4\"}}];\n",
       "  root.Bokeh.embed.embed_items_notebook(docs_json, render_items);\n",
       "\n",
       "  }\n",
       "  if (root.Bokeh !== undefined) {\n",
       "    embed_document(root);\n",
       "  } else {\n",
       "    var attempts = 0;\n",
       "    var timer = setInterval(function(root) {\n",
       "      if (root.Bokeh !== undefined) {\n",
       "        embed_document(root);\n",
       "        clearInterval(timer);\n",
       "      }\n",
       "      attempts++;\n",
       "      if (attempts > 100) {\n",
       "        console.log(\"Bokeh: ERROR: Unable to run BokehJS code because BokehJS library is missing\")\n",
       "        clearInterval(timer);\n",
       "      }\n",
       "    }, 10, root)\n",
       "  }\n",
       "})(window);"
      ],
      "application/vnd.bokehjs_exec.v0+json": ""
     },
     "metadata": {
      "application/vnd.bokehjs_exec.v0+json": {
       "id": "ca8ef8f6-a9a3-43c6-a4a2-909a929a9af4"
      }
     },
     "output_type": "display_data"
    }
   ],
   "source": [
    "show(line_plot(measles[(measles[\"year\"] == 1928) & (measles[\"state_name\"] == \"NEW YORK\")]))"
   ]
  },
  {
   "cell_type": "markdown",
   "metadata": {},
   "source": [
    "<h1>Making maps in Bokeh!</h1>"
   ]
  },
  {
   "cell_type": "markdown",
   "metadata": {},
   "source": [
    "<h2>Make the Measles dataset</h2>"
   ]
  },
  {
   "cell_type": "code",
   "execution_count": 14,
   "metadata": {},
   "outputs": [],
   "source": [
    "def create_data(year):\n",
    "    df = measles_summary[measles_summary[\"year\"] == year]\n",
    "    df = df.dropna()\n",
    "    assert len(df) > 0, \"No data for this disease and year combination\"\n",
    "\n",
    "    data = dict(\n",
    "        state_name = df[\"state_name\"],\n",
    "        x = df['lons'].values.tolist(),\n",
    "        y = df['lats'].values.tolist(),\n",
    "        incidence_per_capita = df[\"incidence_per_capita\"],\n",
    "        cases = df[\"cases\"]\n",
    "    )\n",
    "\n",
    "    return ColumnDataSource(data)"
   ]
  },
  {
   "cell_type": "markdown",
   "metadata": {},
   "source": [
    "<h2>Build a map</h2>"
   ]
  },
  {
   "cell_type": "code",
   "execution_count": 15,
   "metadata": {},
   "outputs": [],
   "source": [
    "def build_map(src):\n",
    "\n",
    "    TOOLS = \"pan,wheel_zoom,reset,hover,save\"\n",
    "    colors = [\"#A7D49B\", \"#92AC86\", \"#696047\", \"#55251D\", \"#5A1807\"]\n",
    "    color_mapper = LinearColorMapper(palette=colors, low=src.data[\"incidence_per_capita\"].min(), high=src.data[\"incidence_per_capita\"].max())\n",
    "    p = figure(\n",
    "        title=\"US States\", tools=TOOLS,\n",
    "        x_axis_location=None, y_axis_location=None,\n",
    "        tooltips=[\n",
    "            (\"Name\", \"@state_name\"), (\"Average incidences per capita\", \"@incidence_per_capita\"), (\"(Long, Lat)\", \"($x, $y)\")\n",
    "        ], plot_width=1000, plot_height=600)\n",
    "    p.grid.grid_line_color = None\n",
    "    p.hover.point_policy = \"follow_mouse\"\n",
    "    p.patches('x', 'y', source=src,\n",
    "              fill_color={'field': 'incidence_per_capita', 'transform': color_mapper},\n",
    "              fill_alpha=0.7, line_color=\"white\", line_width=0.5)\n",
    "\n",
    "    return p"
   ]
  },
  {
   "cell_type": "markdown",
   "metadata": {},
   "source": [
    "<h2>Make widgets for controlling the map</h2>"
   ]
  },
  {
   "cell_type": "code",
   "execution_count": 16,
   "metadata": {},
   "outputs": [],
   "source": [
    "#Starting data\n",
    "src = create_data(1928)"
   ]
  },
  {
   "cell_type": "code",
   "execution_count": 17,
   "metadata": {},
   "outputs": [],
   "source": [
    "choose_year = Slider(start=measles_summary[\"year\"].min(), end=measles_summary[\"year\"].max(), value=measles_summary[\"year\"].min(), step = 1, title = \"Year\")"
   ]
  },
  {
   "cell_type": "code",
   "execution_count": 18,
   "metadata": {},
   "outputs": [
    {
     "data": {
      "text/html": [
       "\n",
       "\n",
       "\n",
       "\n",
       "\n",
       "\n",
       "  <div class=\"bk-root\" id=\"9ec70753-43bc-4548-88e6-70ba73f5fb25\"></div>\n"
      ]
     },
     "metadata": {},
     "output_type": "display_data"
    },
    {
     "data": {
      "application/javascript": [
       "(function(root) {\n",
       "  function embed_document(root) {\n",
       "    \n",
       "  var docs_json = {\"6a178e3b-6557-4fb1-ad10-6d9c09d9c161\":{\"roots\":{\"references\":[{\"attributes\":{\"callback\":null,\"end\":2002,\"start\":1928,\"title\":\"Year\",\"value\":1928},\"id\":\"aa0f96f5-345d-47ae-8f98-1ecf84be4146\",\"type\":\"Slider\"}],\"root_ids\":[\"aa0f96f5-345d-47ae-8f98-1ecf84be4146\"]},\"title\":\"Bokeh Application\",\"version\":\"0.13.0\"}};\n",
       "  var render_items = [{\"docid\":\"6a178e3b-6557-4fb1-ad10-6d9c09d9c161\",\"roots\":{\"aa0f96f5-345d-47ae-8f98-1ecf84be4146\":\"9ec70753-43bc-4548-88e6-70ba73f5fb25\"}}];\n",
       "  root.Bokeh.embed.embed_items_notebook(docs_json, render_items);\n",
       "\n",
       "  }\n",
       "  if (root.Bokeh !== undefined) {\n",
       "    embed_document(root);\n",
       "  } else {\n",
       "    var attempts = 0;\n",
       "    var timer = setInterval(function(root) {\n",
       "      if (root.Bokeh !== undefined) {\n",
       "        embed_document(root);\n",
       "        clearInterval(timer);\n",
       "      }\n",
       "      attempts++;\n",
       "      if (attempts > 100) {\n",
       "        console.log(\"Bokeh: ERROR: Unable to run BokehJS code because BokehJS library is missing\")\n",
       "        clearInterval(timer);\n",
       "      }\n",
       "    }, 10, root)\n",
       "  }\n",
       "})(window);"
      ],
      "application/vnd.bokehjs_exec.v0+json": ""
     },
     "metadata": {
      "application/vnd.bokehjs_exec.v0+json": {
       "id": "aa0f96f5-345d-47ae-8f98-1ecf84be4146"
      }
     },
     "output_type": "display_data"
    }
   ],
   "source": [
    "show(choose_year)"
   ]
  },
  {
   "cell_type": "code",
   "execution_count": 19,
   "metadata": {},
   "outputs": [],
   "source": [
    "def update_map(attr, old, new):\n",
    "    choosen_year = choose_year.value\n",
    "    new_data = create_data(measles_summary, chosen_year)\n",
    "    src.data.update(new_data)"
   ]
  },
  {
   "cell_type": "code",
   "execution_count": 20,
   "metadata": {},
   "outputs": [],
   "source": [
    "choose_year.on_change(\"value\", update_map)"
   ]
  },
  {
   "cell_type": "markdown",
   "metadata": {},
   "source": [
    "<h2>Package it all together!</h2>"
   ]
  },
  {
   "cell_type": "code",
   "execution_count": 176,
   "metadata": {},
   "outputs": [],
   "source": [
    "def mapping_mmr(app):\n",
    "    \n",
    "    def create_data(year):\n",
    "        df = measles_yearly_data[measles_yearly_data[\"year\"] == year]\n",
    "        df = df.dropna()\n",
    "        assert len(df) > 0, \"No data for this disease and year combination\"\n",
    "        \n",
    "        data = dict(\n",
    "            state_name = df[\"state_name\"],\n",
    "            x = df['lons'].values.tolist(),\n",
    "            y = df['lats'].values.tolist(),\n",
    "            incidence_per_capita = df[\"avg_incidence_per_week\"],\n",
    "            total_cases = df[\"total_cases_per_year\"],\n",
    "            avg_cases = df[\"avg_cases_per_week\"]\n",
    "        )\n",
    "        \n",
    "        return ColumnDataSource(data)\n",
    "    \n",
    "    def build_map(src):\n",
    "\n",
    "        TOOLS = \"pan,wheel_zoom,reset,hover,save\"\n",
    "        #colors = [\"#75968f\", \"#a5bab7\", \"#c9d9d3\", \"#e2e2e2\", \"#dfccce\", \"#ddb7b1\", \"#cc7878\", \"#933b41\", \"#550b1d\"]\n",
    "        colors = [\"#A7D49B\", \"#92AC86\", \"#696047\", \"#55251D\", \"#5A1807\"]\n",
    "        color_mapper = LinearColorMapper(palette=colors, low=src.data[\"incidence_per_capita\"].min(), high=src.data[\"incidence_per_capita\"].max())\n",
    "        p = figure(\n",
    "            title=\"US States\", tools=TOOLS,\n",
    "            x_axis_location=None, y_axis_location=None,\n",
    "            tooltips=[\n",
    "                (\"Name\", \"@state_name\"), (\"Average incidences per capita per week\", \"@incidence_per_capita{1.11}\"), \n",
    "                (\"Average # of cases per week\", \"@avg_cases{1.11}\"), (\"Total cases in year\", \"@total_cases{1.11}\")\n",
    "            ], plot_width=1000, plot_height=600)\n",
    "        p.grid.grid_line_color = None\n",
    "        p.hover.point_policy = \"follow_mouse\"\n",
    "        p.patches('x', 'y', source=src,\n",
    "                  fill_color={'field': 'incidence_per_capita', 'transform': color_mapper},\n",
    "                  fill_alpha=0.7, line_color=\"white\", line_width=0.5)\n",
    "\n",
    "        return p\n",
    "    \n",
    "    def bar_plot(src):\n",
    "        states = src.data[\"state_name\"]\n",
    "        bar = figure(plot_width=800, plot_height=500, \n",
    "                     title=\"Total cases of Measles in the United States {}\".format(src[\"year\"]),\n",
    "               x_range=states, toolbar_location=None, tools=\"\")\n",
    "        bar.xgrid.grid_line_color = None\n",
    "        bar.xaxis.axis_label = \"US States\"\n",
    "        bar.xaxis.major_label_orientation = 1.2\n",
    "        bar.yaxis.axis_label = \"Total measle cases\"\n",
    "\n",
    "        bar.vbar(x='state_name', top='total_cases', width=1, source=src,\n",
    "               line_color=\"white\", fill_color=\"#3d84f7\", \n",
    "               hover_line_color=\"black\", hover_fill_color=\"#4a81db\")\n",
    "        bar.add_tools(HoverTool(tooltips=[(\"Average incidence per capita per week\", \"@incidence_per_capita\")]))\n",
    "\n",
    "        return bar\n",
    "    \n",
    "    def update_map(attr, old, new):\n",
    "        chosen_year = choose_year.value\n",
    "        new_data = create_data(chosen_year)\n",
    "        src.data.update(new_data.data)\n",
    "        \n",
    "    #Define Widgets\n",
    "    choose_year = Slider(start=1928, end=2002, value=1928, step = 1, title = \"Year\")\n",
    "    choose_year.on_change('value', update_map)\n",
    "    \n",
    "    #Select starting data\n",
    "    src = create_data(1928)\n",
    "    \n",
    "    #Init plot and set layout\n",
    "    controls = WidgetBox(choose_year)\n",
    "    p = build_map(src)\n",
    "    layout = column(controls, p)\n",
    "    \n",
    "    app.add_root(layout)\n",
    "    "
   ]
  },
  {
   "cell_type": "code",
   "execution_count": 177,
   "metadata": {},
   "outputs": [
    {
     "data": {
      "application/vnd.bokehjs_exec.v0+json": "",
      "text/html": [
       "\n",
       "<script src=\"http://localhost:54284/autoload.js?bokeh-autoload-element=5001f42e-a0f3-4a3d-b7f7-a532298f439c&bokeh-absolute-url=http://localhost:54284&resources=none\" id=\"5001f42e-a0f3-4a3d-b7f7-a532298f439c\"></script>"
      ]
     },
     "metadata": {
      "application/vnd.bokehjs_exec.v0+json": {
       "server_id": "2448ac8c51924ee8a3d8d2e83d7d0aa4"
      }
     },
     "output_type": "display_data"
    }
   ],
   "source": [
    "handler = FunctionHandler(mapping_mmr)\n",
    "app = Application(handler)\n",
    "show(app)"
   ]
  },
  {
   "cell_type": "markdown",
   "metadata": {},
   "source": [
    "<h1>Creating a complete dashboard!</h1>"
   ]
  },
  {
   "cell_type": "code",
   "execution_count": 179,
   "metadata": {},
   "outputs": [
    {
     "data": {
      "text/plain": [
       "1928"
      ]
     },
     "execution_count": 179,
     "metadata": {},
     "output_type": "execute_result"
    }
   ],
   "source": [
    "df = measles_yearly_data[measles_yearly_data[\"year\"] == 1928]\n",
    "df[\"year\"].unique()[0]"
   ]
  },
  {
   "cell_type": "code",
   "execution_count": 190,
   "metadata": {},
   "outputs": [],
   "source": [
    "def dashboard(app):\n",
    "    \n",
    "    def create_data(year):\n",
    "        df = measles_yearly_data[measles_yearly_data[\"year\"] == year]\n",
    "        df = df.dropna()\n",
    "        assert len(df) > 0, \"No data for this disease and year combination\"\n",
    "        \n",
    "        data = dict(\n",
    "            state_name = df[\"state_name\"],\n",
    "            x = df['lons'].values.tolist(),\n",
    "            y = df['lats'].values.tolist(),\n",
    "            incidence_per_capita = df[\"avg_incidence_per_week\"],\n",
    "            total_cases = df[\"total_cases_per_year\"],\n",
    "            avg_cases = df[\"avg_cases_per_week\"],\n",
    "            year = df[\"year\"]\n",
    "        )\n",
    "        \n",
    "        return ColumnDataSource(data)\n",
    "    def bar_plot(src):\n",
    "        states = src.data[\"state_name\"]\n",
    "        bar = figure(plot_width=800, plot_height=500, \n",
    "                     title=\"Total cases of Measles in the United States {}\".format(src.data[\"year\"].unique()[0]),\n",
    "               x_range=states, toolbar_location=None, tools=\"\")\n",
    "        bar.xgrid.grid_line_color = None\n",
    "        bar.xaxis.axis_label = \"US States\"\n",
    "        bar.xaxis.major_label_orientation = 1.2\n",
    "        bar.yaxis.axis_label = \"Total measle cases\"\n",
    "\n",
    "        bar.vbar(x='state_name', top='total_cases', width=1, source=src,\n",
    "               line_color=\"white\", fill_color=\"#3d84f7\", \n",
    "               hover_line_color=\"black\", hover_fill_color=\"#4a81db\")\n",
    "        bar.add_tools(HoverTool(tooltips=[(\"Average incidence per capita per week\", \"@incidence_per_capita\")]))\n",
    "\n",
    "        return bar\n",
    "    \n",
    "    def build_map(src):\n",
    "\n",
    "        TOOLS = \"pan,wheel_zoom,reset,hover,save\"\n",
    "        #colors = [\"#75968f\", \"#a5bab7\", \"#c9d9d3\", \"#e2e2e2\", \"#dfccce\", \"#ddb7b1\", \"#cc7878\", \"#933b41\", \"#550b1d\"]\n",
    "        colors = [\"#A7D49B\", \"#92AC86\", \"#696047\", \"#55251D\", \"#5A1807\"]\n",
    "        color_mapper = LinearColorMapper(palette=colors, low=src.data[\"incidence_per_capita\"].min(), high=src.data[\"incidence_per_capita\"].max())\n",
    "        p = figure(\n",
    "            title=\"US States\", tools=TOOLS,\n",
    "            x_axis_location=None, y_axis_location=None,\n",
    "            tooltips=[\n",
    "                (\"Name\", \"@state_name\"), (\"Average incidences per capita per week\", \"@incidence_per_capita{1.11}\"), \n",
    "                (\"Average # of cases per week\", \"@avg_cases{1.11}\"), (\"Total cases in year\", \"@total_cases{1.11}\")\n",
    "            ], plot_width=1000, plot_height=600)\n",
    "        p.grid.grid_line_color = None\n",
    "        p.hover.point_policy = \"follow_mouse\"\n",
    "        p.patches('x', 'y', source=src,\n",
    "                  fill_color={'field': 'incidence_per_capita', 'transform': color_mapper},\n",
    "                  fill_alpha=0.7, line_color=\"white\", line_width=0.5)\n",
    "\n",
    "        return p\n",
    "    \n",
    "    def update_map(attr, old, new):\n",
    "        chosen_year = choose_year.value\n",
    "        new_data = create_data(chosen_year)\n",
    "        src.data.update(new_data.data)\n",
    "        \n",
    "    #Define Widgets\n",
    "    choose_year = Slider(start=1928, end=2002, value=1928, step = 1, title = \"Year\")\n",
    "    choose_year.on_change('value', update_map)\n",
    "    \n",
    "    #Select starting data\n",
    "    src = create_data(1928)\n",
    "    \n",
    "    #Init plot and set layout\n",
    "    controls = WidgetBox(choose_year)\n",
    "    m = build_map(src)\n",
    "    b = bar_plot(src)\n",
    "    layout_map = column(controls, m)\n",
    "    layout_bar = column(controls, b)\n",
    "    # Make a tab with the layout \n",
    "    map_tab = Panel(child=layout_map, title = 'Map')\n",
    "    bar_tab = Panel(child=layout_bar, title = 'Bar plot')\n",
    "    tabs = Tabs(tabs=[map_tab, bar_tab])\n",
    "    app.add_root(tabs)\n",
    "    "
   ]
  },
  {
   "cell_type": "code",
   "execution_count": 191,
   "metadata": {},
   "outputs": [
    {
     "data": {
      "application/vnd.bokehjs_exec.v0+json": "",
      "text/html": [
       "\n",
       "<script src=\"http://localhost:54338/autoload.js?bokeh-autoload-element=65389307-8cc3-481e-acdb-2d8fc9b71abe&bokeh-absolute-url=http://localhost:54338&resources=none\" id=\"65389307-8cc3-481e-acdb-2d8fc9b71abe\"></script>"
      ]
     },
     "metadata": {
      "application/vnd.bokehjs_exec.v0+json": {
       "server_id": "305a3dc1d3c34ff4ad3e68479e7c8879"
      }
     },
     "output_type": "display_data"
    }
   ],
   "source": [
    "dashboard_handler = FunctionHandler(dashboard)\n",
    "dashboard_app = Application(dashboard_handler)\n",
    "show(dashboard_app)"
   ]
  },
  {
   "cell_type": "code",
   "execution_count": null,
   "metadata": {},
   "outputs": [],
   "source": []
  }
 ],
 "metadata": {
  "kernelspec": {
   "display_name": "Python 3",
   "language": "python",
   "name": "python3"
  },
  "language_info": {
   "codemirror_mode": {
    "name": "ipython",
    "version": 3
   },
   "file_extension": ".py",
   "mimetype": "text/x-python",
   "name": "python",
   "nbconvert_exporter": "python",
   "pygments_lexer": "ipython3",
   "version": "3.6.3"
  }
 },
 "nbformat": 4,
 "nbformat_minor": 2
}
